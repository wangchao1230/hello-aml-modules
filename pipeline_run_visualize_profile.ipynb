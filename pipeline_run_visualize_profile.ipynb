{
 "cells": [
  {
   "cell_type": "markdown",
   "metadata": {},
   "source": [
    "# PipelineRun visualize and profile\n",
    "In this tutorial, you will learn how to visualize and profile a PipelineRun."
   ]
  },
  {
   "cell_type": "code",
   "execution_count": null,
   "metadata": {},
   "outputs": [],
   "source": [
    "# Install azureml-sdk with PipelineRun\n",
    "# Important! After install succeed, need to restart kernel\n",
    "\n",
    "%config IPCompleter.greedy=True\n",
    "!pip install azureml-pipeline-wrapper[notebooks]==0.1.0.20312968 --extra-index-url https://azuremlsdktestpypi.azureedge.net/CLI-SDK-Runners-Validation/20312968 --user --upgrade"
   ]
  },
  {
   "cell_type": "code",
   "execution_count": null,
   "metadata": {},
   "outputs": [],
   "source": [
    "from azureml.core import Workspace, Experiment\n",
    "from azureml.pipeline.wrapper import PipelineRun, Pipeline, Module, dsl"
   ]
  },
  {
   "cell_type": "code",
   "execution_count": null,
   "metadata": {},
   "outputs": [],
   "source": [
    "# configure your workspace info here\n",
    "subscription_id=\"your_subscription_id\"\n",
    "resource_group=\"your_resource_group\"\n",
    "name=\"your_workspace_name\"\n",
    "\n",
    "ws = Workspace.get(subscription_id=subscription_id, resource_group=resource_group, name=name)\n",
    "print(ws.name, ws.resource_group, ws.location, ws.subscription_id, sep='\\n')"
   ]
  },
  {
   "cell_type": "code",
   "execution_count": null,
   "metadata": {},
   "outputs": [],
   "source": [
    "# get modules\n",
    "split_data_func, select_columns_in_dataset_func, score_model_func, evaluate_model_func, boosted_decision_tree_regression_func, train_model_func, clean_missing_data_func, decision_forest_regression_func = Module.batch_load(ws, identifiers=[('Split Data', 'azureml'), ('Select Columns in Dataset', 'azureml'), ('Score Model', 'azureml'), ('Evaluate Model', 'azureml'), ('Boosted Decision Tree Regression', 'azureml'), ('Train Model', 'azureml'), ('Clean Missing Data', 'azureml'), ('Decision Forest Regression', 'azureml')])"
   ]
  },
  {
   "cell_type": "code",
   "execution_count": null,
   "metadata": {},
   "outputs": [],
   "source": [
    "# get dataset\n",
    "from azureml.core import Dataset\n",
    "from azureml.pipeline.wrapper._dataset import get_global_dataset_by_path\n",
    "automobile_price_data_raw = get_global_dataset_by_path(ws, 'automobile_price_data_raw', 'GenericCSV/Automobile_price_data_(Raw)')"
   ]
  },
  {
   "cell_type": "code",
   "execution_count": null,
   "metadata": {},
   "outputs": [],
   "source": [
    "# define pipeline\n",
    "@dsl.pipeline(name='sample pipeline', description='sample pipeline to visualize', default_compute_target='aml-compute')\n",
    "def generated_pipeline():\n",
    "    select_columns_in_dataset_0 = select_columns_in_dataset_func(\n",
    "        dataset=automobile_price_data_raw,\n",
    "        select_columns='[\"AllColumns\",{\"ColumnNames\":[\"normalized-losses\"],\"Exclude\":true}]')\n",
    "    \n",
    "    clean_missing_data_0 = clean_missing_data_func(\n",
    "        dataset=select_columns_in_dataset_0.outputs.results_dataset,\n",
    "        columns_to_be_cleaned='[\"AllColumns\"]',\n",
    "        minimum_missing_value_ratio=0.0,\n",
    "        maximum_missing_value_ratio=1.0,\n",
    "        cleaning_mode='Remove entire row')\n",
    "    \n",
    "    split_data_0 = split_data_func(\n",
    "        dataset=clean_missing_data_0.outputs.cleaned_dataset,\n",
    "        splitting_mode='Split Rows',\n",
    "        fraction_of_rows_in_the_first_output_dataset=0.7,\n",
    "        randomized_split=True,\n",
    "        random_seed=0,\n",
    "        stratified_split='False',\n",
    "        stratification_key_column='')\n",
    "    \n",
    "    decision_forest_regression_0 = decision_forest_regression_func(\n",
    "        create_trainer_mode='SingleParameter',\n",
    "        number_of_decision_trees=8,\n",
    "        maximum_depth_of_the_decision_trees=32,\n",
    "        minimum_number_of_samples_per_leaf_node=1,\n",
    "        resampling_method='Bagging Resampling')\n",
    "    \n",
    "    boosted_decision_tree_regression_0 = boosted_decision_tree_regression_func(\n",
    "        create_trainer_mode='SingleParameter',\n",
    "        maximum_number_of_leaves_per_tree=20,\n",
    "        minimum_number_of_training_instances_required_to_form_a_leaf=10,\n",
    "        the_learning_rate=0.2,\n",
    "        total_number_of_trees_constructed=100,\n",
    "        random_number_seed=None)\n",
    "    \n",
    "    train_model_0 = train_model_func(\n",
    "        untrained_model=boosted_decision_tree_regression_0.outputs.untrained_model,\n",
    "        dataset=split_data_0.outputs.results_dataset1,\n",
    "        label_column='[{\"KeepInputDataOrder\":true,\"ColumnNames\":[\"price\"]}]')\n",
    "    \n",
    "    train_model_1 = train_model_func(\n",
    "        dataset=split_data_0.outputs.results_dataset1,\n",
    "        untrained_model=decision_forest_regression_0.outputs.untrained_model,\n",
    "        label_column='[{\"KeepInputDataOrder\":true,\"ColumnNames\":[\"price\"]}]')\n",
    "    \n",
    "    score_model_0 = score_model_func(\n",
    "        trained_model=train_model_0.outputs.trained_model,\n",
    "        dataset=split_data_0.outputs.results_dataset2,\n",
    "        append_score_columns_to_output=True)\n",
    "    \n",
    "    score_model_1 = score_model_func(\n",
    "        trained_model=train_model_1.outputs.trained_model,\n",
    "        dataset=split_data_0.outputs.results_dataset2,\n",
    "        append_score_columns_to_output=True)\n",
    "    \n",
    "    evaluate_model_0 = evaluate_model_func(\n",
    "        scored_dataset=score_model_0.outputs.scored_dataset,\n",
    "        scored_dataset_to_compare=score_model_1.outputs.scored_dataset)"
   ]
  },
  {
   "cell_type": "code",
   "execution_count": null,
   "metadata": {},
   "outputs": [],
   "source": [
    "# create a pipeline\n",
    "pipeline = generated_pipeline()\n",
    "\n",
    "# submit a pipeline run\n",
    "submited_pipeline_run = pipeline.submit(experiment_name='test-profiling')"
   ]
  },
  {
   "cell_type": "markdown",
   "metadata": {},
   "source": [
    "**Visualize the pipeline run by calling** ```submited_pipeline_run.wait_for_completion()```\n",
    "\n",
    "After a short period of loading time, the graph of submited_pipeline_run will show up with current run status.\n",
    "And the running status will be refreshed automatically.\n",
    "\n",
    "\n",
    "![visualize.png](./assets/images/visualize.png)\n",
    "\n",
    "At the same time, we will gather the profiling data for the pipeline run in the backend.\n",
    "When the profiling data is ready, you can click the 'open profiling' button in the tool bar to open the pipeline run profile Gantt view.\n",
    "\n",
    "![gantt.png](./assets/images/gantt.png)"
   ]
  },
  {
   "cell_type": "code",
   "execution_count": null,
   "metadata": {},
   "outputs": [],
   "source": [
    "# visualize the pipeline run in wait_for_completion()\n",
    "submited_pipeline_run.wait_for_completion()"
   ]
  },
  {
   "cell_type": "markdown",
   "metadata": {},
   "source": [
    "**You can also visualize and profile an existing Pipeline from your workspace**\n",
    "\n",
    "Assume you have a PipelineRun which id is 'a6f5f21c-1ab0-48ee-aa4a-16c6f0662334' in Experiment 'test-profiling' of your workspace."
   ]
  },
  {
   "cell_type": "code",
   "execution_count": null,
   "metadata": {},
   "outputs": [],
   "source": [
    "# get your experiment\n",
    "experiment = Experiment(ws, 'test-profiling')\n",
    "\n",
    "# get an existing pipeline run in your experiment\n",
    "existing_run = PipelineRun(experiment, 'a6f5f21c-1ab0-48ee-aa4a-16c6f0662334')"
   ]
  },
  {
   "cell_type": "markdown",
   "metadata": {},
   "source": [
    "**Visualize the pipeline run by calling** ```submited_pipeline_run.visualize()```\n",
    "\n",
    "*The behavior of method visualize() is the same as method wait_for_completion. You could also call wait_for_completion instead of visualize() here.*\n",
    "\n",
    "For a completed run, you can also view each node's driver logs inside widget by click the 'View Logs' in right-click context memu for each node.\n",
    "\n",
    "![view-logs.png](./assets/images/view-logs.png)"
   ]
  },
  {
   "cell_type": "code",
   "execution_count": null,
   "metadata": {},
   "outputs": [],
   "source": [
    "existing_run.visualize()"
   ]
  },
  {
   "cell_type": "markdown",
   "metadata": {},
   "source": [
    "**View profile Gantt view directly**\n",
    "\n",
    "Instead of open the Gantt View by click the 'open profiling' button in the widget. You can also view it directly by calling the profile() method of a PipelineRun.\n",
    "\n",
    "![gantt-directly.png](./assets/images/gantt-directly.png)"
   ]
  },
  {
   "cell_type": "code",
   "execution_count": null,
   "metadata": {},
   "outputs": [],
   "source": [
    "existing_run.profile()"
   ]
  },
  {
   "cell_type": "code",
   "execution_count": null,
   "metadata": {},
   "outputs": [],
   "source": []
  }
 ],
 "metadata": {
  "kernelspec": {
   "display_name": "Python (aml)",
   "language": "python",
   "name": "aml"
  },
  "language_info": {
   "codemirror_mode": {
    "name": "ipython",
    "version": 3
   },
   "file_extension": ".py",
   "mimetype": "text/x-python",
   "name": "python",
   "nbconvert_exporter": "python",
   "pygments_lexer": "ipython3",
   "version": "3.6.2"
  }
 },
 "nbformat": 4,
 "nbformat_minor": 4
}