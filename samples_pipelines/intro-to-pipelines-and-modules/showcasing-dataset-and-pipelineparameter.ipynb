{
 "cells": [
  {
   "cell_type": "markdown",
   "metadata": {},
   "source": [
    "Copyright (c) Microsoft Corporation. All rights reserved.  \n",
    "Licensed under the MIT License."
   ]
  },
  {
   "cell_type": "markdown",
   "metadata": {},
   "source": [
    "# Showcasing Dataset and Pipeline Parameter\n",
    "\n",
    "This notebook demonstrateas the usage of [**Dataset**](https%3A%2F%2Fdocs.microsoft.com%2Fen-us%2Fpython%2Fapi%2Fazureml-core%2Fazureml.core.dataset%28class%29%3Fview%3Dazure-ml-py), more specifically [**FileDataset**](https://docs.microsoft.com/en-us/python/api/azureml-core/azureml.data.filedataset?view=azure-ml-py), we don't support [**TabularDataset**](https://docs.microsoft.com/en-us/python/api/azureml-core/azureml.data.tabulardataset?view=azure-ml-py) for now. You will learn how **Dataset** and other parameters are submitted to AML Pipelines via **Pipeline Parameters**. By parametrizing datasets, you can dynamically run pipeline experiments with different datasets without any code change.\n",
    "\n",
    "* [How to create a Pipeline with Pipeline Parameter](#create_pipeline)\n",
    "* [How to submit a Pipeline with Pipeline Parameter](#submit_pipeline)\n",
    "* [How to submit a Pipeline and change the Pipeline Parameter value from the sdk](#submit_with_pipeline_parameters)\n",
    "* [How to submit a Pipeline and change the Pipeline Parameter value using a REST call](#submit_using_rest_call)"
   ]
  },
  {
   "cell_type": "markdown",
   "metadata": {},
   "source": [
    "## Azure Machine Learning and Pipeline SDK-specific imports"
   ]
  },
  {
   "cell_type": "code",
   "execution_count": null,
   "metadata": {
    "pycharm": {
     "name": "#%%\n"
    }
   },
   "outputs": [],
   "source": [
    "import azureml.core\n",
    "from azureml.core import Dataset\n",
    "from azureml.core.compute import ComputeTarget, AmlCompute\n",
    "\n",
    "from azureml.pipeline.wrapper import Module, Pipeline, PipelineRun, dsl\n",
    "\n",
    "# Check core SDK version number\n",
    "print(\"SDK version:\", azureml.core.VERSION)"
   ]
  },
  {
   "cell_type": "markdown",
   "metadata": {},
   "source": [
    "## Initialize Workspace\n",
    "\n",
    "Login to azure with cli and set the default workspace using `az ml folder attach` command.\n",
    "\n",
    "After this operation, the workspace could be retrived with the `Workspace.from_config()` for SDK usage."
   ]
  },
  {
   "cell_type": "code",
   "execution_count": null,
   "metadata": {
    "pycharm": {
     "name": "#%%\n"
    }
   },
   "outputs": [],
   "source": [
    "# NOTE: Update the following information with your environment\n",
    "\n",
    "SUBSCRIPTION_ID = '<your subscription ID>'\n",
    "WORKSPACE_NAME = '<your workspace name>'\n",
    "RESOURCE_GROUP_NAME = '<your resource group>'"
   ]
  },
  {
   "cell_type": "code",
   "execution_count": null,
   "metadata": {
    "pycharm": {
     "name": "#%%\n"
    }
   },
   "outputs": [],
   "source": [
    "!az login -o none \n",
    "!az account set -s $SUBSCRIPTION_ID \n",
    "!az ml folder attach -w $WORKSPACE_NAME -g $RESOURCE_GROUP_NAME "
   ]
  },
  {
   "cell_type": "code",
   "execution_count": null,
   "metadata": {
    "pycharm": {
     "name": "#%%\n"
    }
   },
   "outputs": [],
   "source": [
    "from azureml.core import Workspace\n",
    "\n",
    "workspace = Workspace.from_config()"
   ]
  },
  {
   "cell_type": "markdown",
   "metadata": {},
   "source": [
    "## Retrieve or create an Azure Machine Learning compute target"
   ]
  },
  {
   "cell_type": "code",
   "execution_count": null,
   "metadata": {
    "pycharm": {
     "name": "#%%\n"
    }
   },
   "outputs": [],
   "source": [
    "from azureml.core.compute_target import ComputeTargetException\n",
    "\n",
    "# Retrieve an already attached Azure Machine Learning Compute.\n",
    "cluster_name = \"cpu-cluster\"\n",
    "try:\n",
    "    compute_target = ComputeTarget(workspace=workspace, name=cluster_name)\n",
    "    print('Found existing compute target {}.'.format(cluster_name))\n",
    "except ComputeTargetException:\n",
    "    print('Creating a new compute target...')\n",
    "    compute_config = AmlCompute.provisioning_configuration(vm_size=\"Standard_D2_v2\",\n",
    "                                                           max_nodes=4)\n",
    "\n",
    "    compute_target = ComputeTarget.create(workspace, cluster_name, compute_config)\n",
    "    compute_target.wait_for_completion(show_output=True, timeout_in_minutes=20)\n",
    "\n",
    "print(\"Azure Machine Learning Compute attached\")"
   ]
  },
  {
   "cell_type": "markdown",
   "metadata": {},
   "source": [
    "## Dataset and Arguments Setup\n",
    "\n",
    "The following illustrates how to get/create a [FileDataset](https://docs.microsoft.com/en-us/python/api/azureml-core/azureml.data.filedataset?view=azure-ml-py) from an external CSV file, we use 'titanic-cleaned.csv' dataset as the sample dataset.\n",
    "\n",
    "We use Select Column Module as the sample module to illustrate how a pipeline is created."
   ]
  },
  {
   "cell_type": "code",
   "execution_count": null,
   "metadata": {
    "pycharm": {
     "name": "#%%\n"
    }
   },
   "outputs": [],
   "source": [
    "# create a FileDataset\n",
    "titanic_dataset = Dataset.File.from_files('https://dprepdata.blob.core.windows.net/demo/Titanic.csv')\n",
    "print('Datatype of file_dataset: {}'.format(type(titanic_dataset)))"
   ]
  },
  {
   "cell_type": "code",
   "execution_count": null,
   "metadata": {},
   "outputs": [],
   "source": [
    "# get 'Select Columns in Dataset' module function\n",
    "select_column_module_func = Module.load(workspace, namespace='azureml', name='Select Columns in Dataset')\n",
    "\n",
    "# define module parameters\n",
    "select_columns = \"{\\\"isFilter\\\":true,\\\"rules\\\":[{\\\"exclude\\\":false,\\\"ruleType\\\":\\\"AllColumns\\\"}]}\"\n",
    "\n",
    "# choose a name for the run history container in the workspace.\n",
    "experiment_name = 'showcasing-Dataset-PipelineParameter'"
   ]
  },
  {
   "cell_type": "markdown",
   "metadata": {},
   "source": [
    "<a id='create_pipeline'></a>"
   ]
  },
  {
   "cell_type": "markdown",
   "metadata": {},
   "source": [
    "## Create a Pipeline with Pipeline Parameter\n"
   ]
  },
  {
   "cell_type": "markdown",
   "metadata": {},
   "source": [
    "Create a pipeline using pipeline parameter. In the sample pipeline function below, pipeline parameters are:\n",
    "* input\n",
    "* _select_columns"
   ]
  },
  {
   "cell_type": "code",
   "execution_count": null,
   "metadata": {
    "pycharm": {
     "name": "#%%\n"
    }
   },
   "outputs": [],
   "source": [
    "# define a pipeline function\n",
    "@dsl.pipeline(name='select-column-sample-pipeline',\n",
    "              description='pipeline for Dataset and Pipeline Parameter sample usage',\n",
    "              default_compute_target=cluster_name)\n",
    "def sample_pipeline(input, _select_columns):\n",
    "    print('Datatype of input: {}'.format(type(input)))\n",
    "    print('Datatype of _select_columns: {}'.format(type(_select_columns)))\n",
    "\n",
    "    select_column_module = select_column_module_func(dataset=input,\n",
    "                                                     select_columns=_select_columns)\n",
    "    return select_column_module.outputs"
   ]
  },
  {
   "cell_type": "code",
   "execution_count": null,
   "metadata": {
    "pycharm": {
     "name": "#%%\n"
    },
    "scrolled": true
   },
   "outputs": [],
   "source": [
    "# create a pipeline using pipeline parameter\n",
    "# dsl.pipeline will transfer inputs parameters into PipelineParameter datatype.\n",
    "pipeline = sample_pipeline(input=titanic_dataset, _select_columns=select_columns)\n",
    "print(\"Pipeline is created\")"
   ]
  },
  {
   "cell_type": "markdown",
   "metadata": {
    "pycharm": {
     "name": "#%% md\n"
    }
   },
   "source": [
    "<a id='submit_pipeline'></a>"
   ]
  },
  {
   "cell_type": "markdown",
   "metadata": {
    "pycharm": {
     "name": "#%% md\n"
    }
   },
   "source": [
    "## Submit a Pipeline with default Pipeline Parameters\n",
    "\n",
    "Pipelines can be submitted with default values of Pipeline Parameters by not specifying any parameters."
   ]
  },
  {
   "cell_type": "code",
   "execution_count": null,
   "metadata": {
    "pycharm": {
     "name": "#%%\n"
    }
   },
   "outputs": [],
   "source": [
    "# submit pipeline\n",
    "pipeline_run = pipeline.submit(experiment_name=experiment_name)\n",
    "print(\"Pipeline is submitted for execution\")"
   ]
  },
  {
   "cell_type": "code",
   "execution_count": null,
   "metadata": {
    "pycharm": {
     "name": "#%%\n"
    }
   },
   "outputs": [],
   "source": [
    "pipeline_run"
   ]
  },
  {
   "cell_type": "code",
   "execution_count": null,
   "metadata": {
    "pycharm": {
     "name": "#%%\n"
    }
   },
   "outputs": [],
   "source": [
    "pipeline_run.wait_for_completion()"
   ]
  },
  {
   "cell_type": "markdown",
   "metadata": {
    "pycharm": {
     "name": "#%% md\n"
    }
   },
   "source": [
    "<a id='submit_with_pipeline_parameters'></a>"
   ]
  },
  {
   "cell_type": "markdown",
   "metadata": {
    "pycharm": {
     "name": "#%% md\n"
    }
   },
   "source": [
    "## Submit a Pipeline and change the Pipeline Parameters value from the sdk\n",
    "\n",
    "The training pipeline can be reused with different input datasets by passing them in as `pipeline_parameters`."
   ]
  },
  {
   "cell_type": "code",
   "execution_count": null,
   "metadata": {},
   "outputs": [],
   "source": [
    "# create a new FileDataset\n",
    "crime_dataset = Dataset.File.from_files('https://dprepdata.blob.core.windows.net/demo/crime-spring.csv')"
   ]
  },
  {
   "cell_type": "code",
   "execution_count": null,
   "metadata": {
    "pycharm": {
     "name": "#%%\n"
    }
   },
   "outputs": [],
   "source": [
    "# update pipeline parameters when submit using 'pipeline_parameters'\n",
    "pipeline_run_with_params = pipeline.submit(experiment_name=experiment_name,\n",
    "                                           pipeline_parameters={'input': crime_dataset,\n",
    "                                                                '_select_columns': select_columns})"
   ]
  },
  {
   "cell_type": "code",
   "execution_count": null,
   "metadata": {
    "pycharm": {
     "name": "#%%\n"
    }
   },
   "outputs": [],
   "source": [
    "pipeline_run_with_params.wait_for_completion()"
   ]
  },
  {
   "cell_type": "code",
   "execution_count": null,
   "metadata": {
    "pycharm": {
     "name": "#%%\n"
    }
   },
   "outputs": [],
   "source": [
    "pipeline_run_with_params"
   ]
  },
  {
   "cell_type": "markdown",
   "metadata": {
    "pycharm": {
     "name": "#%% md\n"
    }
   },
   "source": [
    "<a id='submit_using_rest_call'></a>"
   ]
  },
  {
   "cell_type": "markdown",
   "metadata": {
    "pycharm": {
     "name": "#%% md\n"
    }
   },
   "source": [
    "## Submit a Pipeline and change the Pipeline Parameter value using a REST call\n",
    "\n",
    "Let's published the pipeline to use the rest endpoint of the published pipeline. We publish a pipeline using **PipelineEndpoint**."
   ]
  },
  {
   "cell_type": "code",
   "execution_count": null,
   "metadata": {
    "pycharm": {
     "name": "#%%\n"
    }
   },
   "outputs": [],
   "source": [
    "from azureml.pipeline.wrapper import PipelineEndpoint\n",
    "\n",
    "# publish pipeline to an endpoint named \"PipelineParameterTest\", and make it as default version.\n",
    "pipeline_endpoint = PipelineEndpoint.publish(workspace=workspace, name=\"PipelineParameterTest\",\n",
    "                                             pipeline=pipeline, description=\"Test description Notebook\", \n",
    "                                             set_as_default=True)\n",
    "\n",
    "pipeline_endpoint"
   ]
  },
  {
   "cell_type": "code",
   "execution_count": null,
   "metadata": {},
   "outputs": [],
   "source": [
    "# only \"Active\" status Pipeline Endpoints can be submitted\n",
    "if pipeline_endpoint.status == \"Disabled\":\n",
    "    pipeline_endpoint.enable()"
   ]
  },
  {
   "cell_type": "code",
   "execution_count": null,
   "metadata": {
    "pycharm": {
     "name": "#%%\n"
    }
   },
   "outputs": [],
   "source": [
    "from azureml.core.authentication import InteractiveLoginAuthentication\n",
    "import requests\n",
    "\n",
    "auth = InteractiveLoginAuthentication()\n",
    "aad_token = auth.get_authentication_header()\n",
    "\n",
    "rest_endpoint = pipeline_endpoint.endpoint\n",
    "\n",
    "print(\"You can perform HTTP POST on URL {} to trigger this pipeline\".format(rest_endpoint))"
   ]
  },
  {
   "cell_type": "code",
   "execution_count": null,
   "metadata": {
    "pycharm": {
     "name": "#%%\n"
    }
   },
   "outputs": [],
   "source": [
    "# we can change \"select_columns\" parameter, \"Date\" is a column name in crime_dataset\n",
    "select_columns = \"{\\\"isFilter\\\":true,\\\"rules\\\":\"\\\n",
    "                 \"[{\\\"exclude\\\":false,\\\"ruleType\\\":\\\"ColumnNames\\\",\\\"columns\\\":[\\\"Date\\\"]}]}\"\n",
    "\n",
    "# specify the param when running the pipeline\n",
    "# NOTE: parameter name \"input\" and \"_select_columns\" should be the same with these in pipeline defination parameters\n",
    "response = requests.post(rest_endpoint, \n",
    "                         headers=aad_token, \n",
    "                         json={\"ExperimentName\": \"MyRestPipeline\",\n",
    "                               \"RunSource\": \"SDK\",\n",
    "                                \"DataSetDefinitionValueAssignments\": {\n",
    "                                    \"input\": {\n",
    "                                        \"SavedDataSetReference\": {\"Id\": crime_dataset.id}\n",
    "                                    }\n",
    "                                },\n",
    "                               \"ParameterAssignments\": {\"_select_columns\": select_columns}\n",
    "                              }\n",
    "                        )"
   ]
  },
  {
   "cell_type": "code",
   "execution_count": null,
   "metadata": {
    "pycharm": {
     "name": "#%%\n"
    }
   },
   "outputs": [],
   "source": [
    "try:\n",
    "    response.raise_for_status()\n",
    "except Exception:\n",
    "    raise Exception('Received bad response from the endpoint: {}\\n'\n",
    "                    'Response Code: {}\\n'\n",
    "                    'Headers: {}\\n'\n",
    "                    'Content: {}'.format(rest_endpoint, response.status_code, response.headers, response.content))\n",
    "\n",
    "run_id = response.json().get('Id')\n",
    "print('Submitted pipeline run: ', run_id)"
   ]
  },
  {
   "cell_type": "code",
   "execution_count": null,
   "metadata": {
    "pycharm": {
     "name": "#%%\n"
    }
   },
   "outputs": [],
   "source": [
    "published_pipeline_run_via_rest = PipelineRun(workspace.experiments[\"MyRestPipeline\"], run_id)\n",
    "published_pipeline_run_via_rest"
   ]
  },
  {
   "cell_type": "code",
   "execution_count": null,
   "metadata": {
    "pycharm": {
     "name": "#%%\n"
    }
   },
   "outputs": [],
   "source": [
    "published_pipeline_run_via_rest.wait_for_completion()"
   ]
  },
  {
   "cell_type": "markdown",
   "metadata": {
    "pycharm": {
     "name": "#%% md\n"
    }
   },
   "source": [
    "## Finish\n",
    "\n",
    "Disable created PipelineEndpoint and PublishedPipeline in this notebook."
   ]
  },
  {
   "cell_type": "code",
   "execution_count": null,
   "metadata": {
    "pycharm": {
     "name": "#%%\n"
    }
   },
   "outputs": [],
   "source": [
    "# disable pipeline endpoint\n",
    "pipeline_endpoint.disable()\n",
    "\n",
    "# disable the published pipeline\n",
    "default_version = pipeline_endpoint.default_version\n",
    "pipeline_list = pipeline_endpoint.list_pipelines(active_only=True)\n",
    "pipeline_list[default_version].disable()"
   ]
  }
 ],
 "metadata": {
  "authors": [
   {
    "name": "sanpil"
   }
  ],
  "category": "tutorial",
  "compute": [
   "AML Compute"
  ],
  "datasets": [
   "Custom"
  ],
  "deployment": [
   "None"
  ],
  "exclude_from_index": false,
  "framework": [
   "Azure ML"
  ],
  "friendly_name": "How to use DataPath as a PipelineParameter",
  "kernelspec": {
   "display_name": "aml",
   "language": "python",
   "name": "aml"
  },
  "language_info": {
   "codemirror_mode": {
    "name": "ipython",
    "version": 3
   },
   "file_extension": ".py",
   "mimetype": "text/x-python",
   "name": "python",
   "nbconvert_exporter": "python",
   "pygments_lexer": "ipython3",
   "version": "3.7.6"
  },
  "order_index": 13,
  "star_tag": [
   "featured"
  ],
  "tags": [
   "None"
  ],
  "task": "Demonstrates the use of DataPath as a PipelineParameter"
 },
 "nbformat": 4,
 "nbformat_minor": 2
}