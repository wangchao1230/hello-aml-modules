{
 "cells": [
  {
   "cell_type": "markdown",
   "metadata": {
    "pycharm": {
     "name": "#%% md\n"
    }
   },
   "source": [
    "Copyright (c) Microsoft Corporation. All rights reserved.  \n",
    "Licensed under the MIT License."
   ]
  },
  {
   "cell_type": "markdown",
   "metadata": {
    "pycharm": {
     "name": "#%% md\n"
    }
   },
   "source": [
    "# Using a Trained  FastText Model for Batch Inference\n",
    "\n",
    "In this notebook, we will demonstrate how to make predictions on large quantities of data asynchronously using the ML pipelines with Azure Machine Learning. Batch inference (or batch scoring) provides cost-effective inference, with unparalleled throughput for asynchronous applications. Batch prediction pipelines can scale to perform inference on terabytes of production data. Batch prediction is optimized for high throughput, fire-and-forget predictions for a large collection of data.\n",
    "\n",
    "> **Tip**\n",
    "The dataset we use is not that huge. We aim to make you know the workflow of batch inference. If your system requires low-latency processing (to process a single document or small set of documents quickly), please use realtime inference. Refer to fasttext_realtime_inference.ipynb for more details. \n",
    "\n",
    "The outline of this notebook is as follows:\n",
    "\n",
    "- Create a DataStore referencing documents stored in a blob container.\n",
    "- Reference a trained fastText model from a complete experiment.\n",
    "- Use the fastText model to do batch inference on the documents in the data blob container.\n",
    "\n",
    "## Prerequisites\n",
    "If you are using an Azure Machine Learning Notebook VM, you are all set. Otherwise, make sure you go through the configuration Notebook located at https://github.com/Azure/MachineLearningNotebooks first. This sets you up with a working config file that has information on your workspace, subscription id, etc."
   ]
  },
  {
   "cell_type": "code",
   "execution_count": 1,
   "metadata": {
    "pycharm": {
     "name": "#%%\n"
    }
   },
   "outputs": [],
   "source": [
    "import pandas as pd\n",
    "from azureml.core import Workspace, Dataset, Datastore, Run\n",
    "from azureml.core.compute import AmlCompute, ComputeTarget\n",
    "from azureml.data.datapath import DataPath\n",
    "from azureml.core.experiment import Experiment\n",
    "from azureml.pipeline.wrapper import PipelineRun, Module, dsl\n",
    "from azureml.pipeline.wrapper._pipeline_endpoint import PipelineEndpoint"
   ]
  },
  {
   "cell_type": "markdown",
   "metadata": {},
   "source": [
    "### Connect to workspace\n",
    "Create a workspace object from the existing workspace. Workspace.from_config() reads the file config.json and loads the details into an object named workspace.\n"
   ]
  },
  {
   "cell_type": "code",
   "execution_count": 2,
   "metadata": {
    "tags": []
   },
   "outputs": [
    {
     "name": "stdout",
     "output_type": "stream",
     "text": [
      "DesignerDRI_EASTUS\n",
      "DesignerDRI\n",
      "eastus\n",
      "74eccef0-4b8d-4f83-b5f9-fa100d155b22\n",
      "dict_keys(['attached-aks', 'default', 'compute', 'aml-compute', 'aml-compute-gpu'])\n"
     ]
    }
   ],
   "source": [
    "workspace = Workspace.from_config('config.json')\n",
    "print(workspace.name, workspace.resource_group, workspace.location, workspace.subscription_id,\n",
    "      workspace.compute_targets.keys(), sep='\\n')"
   ]
  },
  {
   "cell_type": "markdown",
   "metadata": {},
   "source": [
    "### Create or Attach existing compute resource\n",
    "By using Azure Machine Learning Compute, a managed service, data scientists can train machine learning models on clusters of Azure virtual machines. Examples include VMs with GPU support. In this tutorial, you create Azure Machine Learning Compute as your training environment. The code below creates the compute clusters for you if they don't already exist in your workspace.\n",
    "\n",
    "**Creation of compute takes approximately 5 minutes. If the AmlCompute with that name is already in your workspace the code will skip the creation process.**\n"
   ]
  },
  {
   "cell_type": "code",
   "execution_count": 3,
   "metadata": {
    "tags": []
   },
   "outputs": [
    {
     "name": "stdout",
     "output_type": "stream",
     "text": [
      "Found existing compute target: aml-compute\n"
     ]
    }
   ],
   "source": [
    "aml_compute_name = 'aml-compute'\n",
    "if aml_compute_name in workspace.compute_targets:\n",
    "    aml_compute = AmlCompute(workspace, aml_compute_name)\n",
    "    print(\"Found existing compute target: {}\".format(aml_compute_name))\n",
    "else:\n",
    "    print(\"Creating new compute target: {}\".format(aml_compute_name))\n",
    "    provisioning_config = AmlCompute.provisioning_configuration(vm_size=\"STANDARD_D2_V2\", min_nodes=1, max_nodes=4)\n",
    "    aml_compute = ComputeTarget.create(workspace, aml_compute_name, provisioning_config)\n",
    "    aml_compute.wait_for_completion(show_output=True)"
   ]
  },
  {
   "cell_type": "markdown",
   "metadata": {},
   "source": [
    "### Upload the dataset onto a blob container and register it to the workspace"
   ]
  },
  {
   "cell_type": "code",
   "execution_count": 4,
   "metadata": {
    "scrolled": true,
    "tags": []
   },
   "outputs": [],
   "source": [
    "dataset_name = 'THUCNews_For_Batch_Inference'\n",
    "# if the workspace don't contain the dataset, then register it\n",
    "if not dataset_name in workspace.datasets:\n",
    "    # upload files onto path_on_datastore to a blob container\n",
    "    # our files are in the directory of 'path_on_datastore' in the blob container\n",
    "    path_on_datastore = 'data_for_batch_inference'\n",
    "    datastore = Datastore.get(workspace=workspace, datastore_name='workspaceblobstore')\n",
    "    datastore.upload(src_dir='data/data_for_batch_inference', target_path=path_on_datastore, overwrite=True, show_progress=True)\n",
    "    # description of the dataset\n",
    "    description = 'THUCNews dataset is generated by filtering and filtering historical data \\\n",
    "    of Sina News RSS subscription channel from 2005 to 2011'\n",
    "    # get the DataPath object associated with the uploaded dataset\n",
    "    datastore_path = [DataPath(datastore=datastore, path_on_datastore=path_on_datastore)]\n",
    "    data = Dataset.File.from_files(path=datastore_path)\n",
    "    # register the dataset to your workspace\n",
    "    data.register(workspace=workspace, name=dataset_name, description=description, create_new_version=True)\n",
    "# get the registered dataset\n",
    "dataset = workspace.datasets[dataset_name]"
   ]
  },
  {
   "cell_type": "markdown",
   "metadata": {},
   "source": [
    "### Register an anonymous module from yaml file to the workspace\n",
    "If you decorate your module function with ```@dsl.module```, azure-cli-ml could help to generate the ```*.spec.yaml``` file.\n",
    "Please refer to the customized modules for more details."
   ]
  },
  {
   "cell_type": "code",
   "execution_count": 5,
   "metadata": {
    "tags": []
   },
   "outputs": [],
   "source": [
    "fasttext_score_module_func = Module.from_yaml(workspace, 'fasttext_score/fasttext_score.spec.yaml')"
   ]
  },
  {
   "cell_type": "markdown",
   "metadata": {},
   "source": [
    "### Load a trained fastText model from a complete experiment\n",
    "- get all experiments\n",
    "- choose an experiment from all experiments\n",
    "- get the latest run\n",
    "- get a PipelineRun associated with the run"
   ]
  },
  {
   "cell_type": "code",
   "execution_count": 6,
   "metadata": {
    "pycharm": {
     "name": "#%%\n"
    },
    "scrolled": true
   },
   "outputs": [
    {
     "data": {
      "text/plain": [
       "['sample10',\n",
       " 'sample5',\n",
       " 'sample5-realtime',\n",
       " 'simple10-batch',\n",
       " 'pythonscript',\n",
       " 'Data_dependency',\n",
       " 'clement',\n",
       " 'new_module',\n",
       " 'test_module2',\n",
       " 'test_m',\n",
       " 'module_SDK_local_module_test',\n",
       " 'fasttext_pipeline',\n",
       " 'fasttext_batch_inference',\n",
       " 'fasttext_pipeline2']"
      ]
     },
     "execution_count": 6,
     "metadata": {},
     "output_type": "execute_result"
    }
   ],
   "source": [
    "exp_name_list = [exp.name for exp in Experiment.list(workspace)]\n",
    "exp_name_list"
   ]
  },
  {
   "cell_type": "markdown",
   "metadata": {},
   "source": [
    "### Choose the experiment you want with its name"
   ]
  },
  {
   "cell_type": "code",
   "execution_count": 7,
   "metadata": {
    "pycharm": {
     "name": "#%%\n"
    }
   },
   "outputs": [
    {
     "data": {
      "text/html": [
       "<table style=\"width:100%\"><tr><th>Name</th><th>Workspace</th><th>Report Page</th><th>Docs Page</th></tr><tr><td>fasttext_pipeline</td><td>DesignerDRI_EASTUS</td><td><a href=\"https://ml.azure.com/experiments/fasttext_pipeline?wsid=/subscriptions/74eccef0-4b8d-4f83-b5f9-fa100d155b22/resourcegroups/DesignerDRI/workspaces/DesignerDRI_EASTUS\" target=\"_blank\" rel=\"noopener\">Link to Azure Machine Learning studio</a></td><td><a href=\"https://docs.microsoft.com/en-us/python/api/azureml-core/azureml.core.experiment.Experiment?view=azure-ml-py\" target=\"_blank\" rel=\"noopener\">Link to Documentation</a></td></tr></table>"
      ],
      "text/plain": [
       "Experiment(Name: fasttext_pipeline,\n",
       "Workspace: DesignerDRI_EASTUS)"
      ]
     },
     "execution_count": 7,
     "metadata": {},
     "output_type": "execute_result"
    }
   ],
   "source": [
    "experiment_name = \"fasttext_pipeline\"\n",
    "experiment = Experiment(workspace, experiment_name)\n",
    "experiment"
   ]
  },
  {
   "cell_type": "code",
   "execution_count": 8,
   "metadata": {
    "pycharm": {
     "name": "#%%\n"
    }
   },
   "outputs": [
    {
     "data": {
      "text/html": [
       "<table style=\"width:100%\"><tr><th>Experiment</th><th>Id</th><th>Type</th><th>Status</th><th>Details Page</th><th>Docs Page</th></tr><tr><td>fasttext_pipeline</td><td>38da18fb-5926-4fbd-8a1e-dd167bc2c995</td><td>azureml.PipelineRun</td><td>Completed</td><td><a href=\"https://ml.azure.com/experiments/fasttext_pipeline/runs/38da18fb-5926-4fbd-8a1e-dd167bc2c995?wsid=/subscriptions/74eccef0-4b8d-4f83-b5f9-fa100d155b22/resourcegroups/DesignerDRI/workspaces/DesignerDRI_EASTUS\" target=\"_blank\" rel=\"noopener\">Link to Azure Machine Learning studio</a></td><td><a href=\"https://docs.microsoft.com/en-us/python/api/azureml-core/azureml.core.run.Run?view=azure-ml-py\" target=\"_blank\" rel=\"noopener\">Link to Documentation</a></td></tr></table>"
      ],
      "text/plain": [
       "Run(Experiment: fasttext_pipeline,\n",
       "Id: 38da18fb-5926-4fbd-8a1e-dd167bc2c995,\n",
       "Type: azureml.PipelineRun,\n",
       "Status: Completed)"
      ]
     },
     "execution_count": 8,
     "metadata": {},
     "output_type": "execute_result"
    }
   ],
   "source": [
    "# azureml.pipeline.core.run.PipelineRun\n",
    "run = Run.list(experiment, status='Completed').__next__()\n",
    "run"
   ]
  },
  {
   "cell_type": "markdown",
   "metadata": {},
   "source": [
    "### Get a PipelineRun object"
   ]
  },
  {
   "cell_type": "code",
   "execution_count": 9,
   "metadata": {
    "pycharm": {
     "name": "#%%\n"
    }
   },
   "outputs": [
    {
     "data": {
      "text/html": [
       "<table style=\"width:100%\"><tr><th>Experiment</th><th>Id</th><th>Type</th><th>Status</th><th>Details Page</th><th>Docs Page</th></tr><tr><td>fasttext_pipeline</td><td>38da18fb-5926-4fbd-8a1e-dd167bc2c995</td><td>azureml.PipelineRun</td><td>Completed</td><td><a href=\"https://ml.azure.com/experiments/fasttext_pipeline/runs/38da18fb-5926-4fbd-8a1e-dd167bc2c995?wsid=/subscriptions/74eccef0-4b8d-4f83-b5f9-fa100d155b22/resourcegroups/DesignerDRI/workspaces/DesignerDRI_EASTUS\" target=\"_blank\" rel=\"noopener\">Link to Azure Machine Learning studio</a></td><td><a href=\"https://docs.microsoft.com/en-us/python/api/overview/azure/ml/intro?view=azure-ml-py\" target=\"_blank\" rel=\"noopener\">Link to Documentation</a></td></tr></table>"
      ],
      "text/plain": [
       "Run(Experiment: fasttext_pipeline,\n",
       "Id: 38da18fb-5926-4fbd-8a1e-dd167bc2c995,\n",
       "Type: azureml.PipelineRun,\n",
       "Status: Completed)"
      ]
     },
     "execution_count": 9,
     "metadata": {},
     "output_type": "execute_result"
    }
   ],
   "source": [
    "run_id = run.id\n",
    "# azureml.pipeline.wrapper._pipeline_run.PipelineRun\n",
    "pipeline_run = PipelineRun(experiment, run_id)\n",
    "pipeline_run"
   ]
  },
  {
   "cell_type": "markdown",
   "metadata": {},
   "source": [
    "### Visualize the pipeline so as to obtain information about the module"
   ]
  },
  {
   "cell_type": "code",
   "execution_count": 10,
   "metadata": {
    "pycharm": {
     "name": "#%%\n"
    },
    "scrolled": false
   },
   "outputs": [
    {
     "data": {
      "application/javascript": [
       "try {\n",
       "    require.undef(\"validate_widget\")\n",
       "\n",
       "    define('validate_widget', [\"@jupyter-widgets/base\"], function(widgets) {\n",
       "        var ValidateView = widgets.DOMWidgetView.extend({\n",
       "            render () {\n",
       "                window.widget_self = this\n",
       "                var visualize_id = this.model.get('visualize_id')\n",
       "\n",
       "                if (!window._renderLock) {\n",
       "                    window._renderLock = {}\n",
       "                }\n",
       "                if (window._renderLock[visualize_id]) {\n",
       "                    return\n",
       "                }\n",
       "                window._renderLock[visualize_id] = \"widget\"\n",
       "                console.log(\"load as widget\", Date.now())\n",
       "\n",
       "                var lib_url = this.model.get('lib_url')\n",
       "                var graph_json = JSON.parse(this.model.get('graph_json'))\n",
       "                var env_json = JSON.parse(this.model.get('env_json'))\n",
       "                var container_id = this.model.get('container_id')\n",
       "\n",
       "                window.render_container_id = container_id\n",
       "                window.graph_json = graph_json\n",
       "                window.graph_json_to_compare = undefined\n",
       "                window.env_json = env_json\n",
       "                window.before_script = performance.now()\n",
       "\n",
       "                var container = document.createElement('div')\n",
       "                container.id = container_id\n",
       "                this.el.appendChild(container)\n",
       "\n",
       "                var style = document.createElement('style')\n",
       "                style.innerHTML = [\n",
       "                    \"#\", container_id, \" svg.react-dag-editor-svg-container { height: 800px; }\",\n",
       "                    \".cell-output-ipywidget-background { background: transparent !important }\"\n",
       "                ].join('')\n",
       "                this.el.appendChild(style)\n",
       "\n",
       "                this.model.on('msg:custom', dispatchMessage, this);\n",
       "\n",
       "                if (!window.__event_hub) {\n",
       "                    window.__event_hub = {}\n",
       "                }\n",
       "                if (!window.__event_hub[container_id]) {\n",
       "                    window.__event_hub[container_id] = {}\n",
       "                }\n",
       "\n",
       "                if (!window.__send_event) {\n",
       "                    window.__send_event = {}\n",
       "                }\n",
       "                window.__send_event[container_id] = sendMessage.bind(this)\n",
       "\n",
       "                function sendMessage(message, uid, content) {\n",
       "                    return new Promise((resolve) => {\n",
       "                        this.model.send({\n",
       "                            message: `${message}:request`,\n",
       "                            body: {\n",
       "                                uid,\n",
       "                                content\n",
       "                            }\n",
       "                        })\n",
       "    \n",
       "                        var respMessageKey = `${message}:response`\n",
       "                        if (!window.__event_hub[container_id][respMessageKey]) {\n",
       "                            window.__event_hub[container_id][respMessageKey] = []\n",
       "                        }\n",
       "                        window.__event_hub[container_id][respMessageKey].push(callback)\n",
       "    \n",
       "                        function callback (response) {\n",
       "                            if (response.uid !== uid) {\n",
       "                                return\n",
       "                            }\n",
       "\n",
       "                            var idx = window.__event_hub[container_id][respMessageKey].indexOf(callback) \n",
       "                            window.__event_hub[container_id][respMessageKey].splice(idx, 1)\n",
       "                            \n",
       "                            resolve(response)\n",
       "                        }\n",
       "                    })\n",
       "                }\n",
       "\n",
       "                function dispatchMessage (rawMessage) {\n",
       "                    var message = rawMessage.message\n",
       "                    var body = rawMessage.body\n",
       "\n",
       "                    if (!window.__event_hub[container_id][message]) {\n",
       "                        window.__event_hub[container_id][message] = []\n",
       "                    }\n",
       "                    var listeners = window.__event_hub[container_id][message]\n",
       "\n",
       "                    listeners.forEach(cb => {\n",
       "                        try {\n",
       "                            cb(body)\n",
       "                        } catch (e) {\n",
       "                            console.error(\"Unexpected error in listener\", e)\n",
       "                        }\n",
       "                    })\n",
       "\n",
       "                    console.log(body)\n",
       "                }\n",
       "\n",
       "                var script = document.createElement('script')\n",
       "                script.src = lib_url\n",
       "                this.el.appendChild(script)\n",
       "            }\n",
       "        });\n",
       "\n",
       "        return {\n",
       "            ValidateView\n",
       "        }\n",
       "    })\n",
       "} catch (e) {\n",
       "    console.log(\"create validation widget failed\", e)\n",
       "}"
      ],
      "text/plain": [
       "<IPython.core.display.Javascript object>"
      ]
     },
     "metadata": {},
     "output_type": "display_data"
    },
    {
     "data": {
      "application/vnd.jupyter.widget-view+json": {
       "model_id": "a86477aa79e94c6e82639766efc67135",
       "version_major": 2,
       "version_minor": 0
      },
      "text/plain": [
       "ValidateView(container_id='container_id_a6d22a53-ea67-43ba-8943-cda57ee870bb_widget', env_json='{}', graph_jso…"
      ]
     },
     "metadata": {},
     "output_type": "display_data"
    },
    {
     "data": {
      "text/html": [
       "\n",
       "        <style>\n",
       "        #container_id_a6d22a53-ea67-43ba-8943-cda57ee870bb_script svg.react-dag-editor-svg-container {\n",
       "            height: 800px;\n",
       "        }\n",
       "        </style>\n",
       "        <div id=\"container_id_a6d22a53-ea67-43ba-8943-cda57ee870bb_script\"></div>\n",
       "        <script>\n",
       "            (function () {\n",
       "                if (!window._renderLock) {\n",
       "                    window._renderLock = {}\n",
       "                }\n",
       "                if (window._renderLock[\"a6d22a53-ea67-43ba-8943-cda57ee870bb\"]) {\n",
       "                    return\n",
       "                }\n",
       "                window._renderLock[\"a6d22a53-ea67-43ba-8943-cda57ee870bb\"] = \"script\"\n",
       "                console.log(\"load as script\", Date.now())\n",
       "                window.render_container_id=\"container_id_a6d22a53-ea67-43ba-8943-cda57ee870bb_script\";\n",
       "                window.graph_json={\"pipeline\": {\"name\": \"fasttext_pipeline\", \"data_references\": {\"THUCNews\": {\"dataset_id\": \"efa8f18c-9b9b-47f3-9630-de9002dc61aa\"}}, \"steps\": {\"574f634a\": {\"inputs\": {\"Input_dir\": {\"source\": \"THUCNews\"}}, \"outputs\": {\"Training_data_output\": {\"destination\": \"574f634a_Training_data_output\"}, \"Validation_data_output\": {\"destination\": \"574f634a_Validation_data_output\"}, \"Test_data_output\": {\"destination\": \"574f634a_Test_data_output\"}}, \"module\": {\"id\": \"7a7eb0ae-adb8-4c3a-a92e-dfaaaf79624b\", \"version\": \"0.0.43\"}, \"validate\": {\"error\": [], \"module_id\": \"7a7eb0ae-adb8-4c3a-a92e-dfaaaf79624b\", \"namespace\": \"DesignerDRI_EASTUS\", \"module_name\": \"Split Data Txt\", \"module_version\": \"0.0.43\"}}, \"82430532\": {\"inputs\": {\"Training_data_dir\": {\"source\": \"574f634a_Training_data_output\"}, \"Validation_data_dir\": {\"source\": \"574f634a_Validation_data_output\"}}, \"outputs\": {\"Trained_model_dir\": {\"destination\": \"82430532_Trained_model_dir\"}}, \"module\": {\"id\": \"b24b56c6-862b-47d2-a184-26b044a6bc70\", \"version\": \"0.0.41\"}, \"validate\": {\"error\": [], \"module_id\": \"b24b56c6-862b-47d2-a184-26b044a6bc70\", \"namespace\": \"DesignerDRI_EASTUS\", \"module_name\": \"FastText Train\", \"module_version\": \"0.0.41\"}}, \"ae3fec7f\": {\"inputs\": {\"Trained_model_dir\": {\"source\": \"82430532_Trained_model_dir\"}, \"Test_data_dir\": {\"source\": \"574f634a_Test_data_output\"}}, \"outputs\": {\"Model_testing_result\": {\"destination\": \"ae3fec7f_Model_testing_result\"}}, \"module\": {\"id\": \"2667937a-ffcd-4552-920d-f82efd1b0ed4\", \"version\": \"0.0.8\"}, \"validate\": {\"error\": [], \"module_id\": \"2667937a-ffcd-4552-920d-f82efd1b0ed4\", \"namespace\": \"DesignerDRI_EASTUS\", \"module_name\": \"FastText Evaluation\", \"module_version\": \"0.0.8\"}}, \"cc7030a5\": {\"inputs\": {\"Input_dir\": {\"source\": \"THUCNews\"}}, \"outputs\": {\"Training_data_output\": {\"destination\": \"cc7030a5_Training_data_output\"}, \"Validation_data_output\": {\"destination\": \"cc7030a5_Validation_data_output\"}, \"Test_data_output\": {\"destination\": \"cc7030a5_Test_data_output\"}}, \"module\": {\"id\": \"7a7eb0ae-adb8-4c3a-a92e-dfaaaf79624b\", \"version\": \"0.0.43\"}, \"validate\": {\"error\": [], \"module_id\": \"7a7eb0ae-adb8-4c3a-a92e-dfaaaf79624b\", \"namespace\": \"DesignerDRI_EASTUS\", \"module_name\": \"Split Data Txt\", \"module_version\": \"0.0.43\"}}, \"f534bc7e\": {\"inputs\": {\"Training_data_dir\": {\"source\": \"cc7030a5_Training_data_output\"}, \"Validation_data_dir\": {\"source\": \"cc7030a5_Validation_data_output\"}}, \"outputs\": {\"Trained_model_dir\": {\"destination\": \"f534bc7e_Trained_model_dir\"}}, \"module\": {\"id\": \"b24b56c6-862b-47d2-a184-26b044a6bc70\", \"version\": \"0.0.41\"}, \"validate\": {\"error\": [], \"module_id\": \"b24b56c6-862b-47d2-a184-26b044a6bc70\", \"namespace\": \"DesignerDRI_EASTUS\", \"module_name\": \"FastText Train\", \"module_version\": \"0.0.41\"}}, \"9375990a\": {\"inputs\": {\"Trained_model_dir\": {\"source\": \"f534bc7e_Trained_model_dir\"}, \"Test_data_dir\": {\"source\": \"cc7030a5_Test_data_output\"}}, \"outputs\": {\"Model_testing_result\": {\"destination\": \"9375990a_Model_testing_result\"}}, \"module\": {\"id\": \"2667937a-ffcd-4552-920d-f82efd1b0ed4\", \"version\": \"0.0.8\"}, \"validate\": {\"error\": [], \"module_id\": \"2667937a-ffcd-4552-920d-f82efd1b0ed4\", \"namespace\": \"DesignerDRI_EASTUS\", \"module_name\": \"FastText Evaluation\", \"module_version\": \"0.0.8\"}}, \"66b5523c\": {\"inputs\": {\"First_trained_model\": {\"source\": \"82430532_Trained_model_dir\"}, \"First_trained_result\": {\"source\": \"ae3fec7f_Model_testing_result\"}, \"Second_trained_model\": {\"source\": \"f534bc7e_Trained_model_dir\"}, \"Second_trained_result\": {\"source\": \"9375990a_Model_testing_result\"}}, \"outputs\": {}, \"module\": {\"id\": \"621834d8-6a64-45f6-9868-047ea45cf282\", \"version\": \"0.0.18\"}, \"validate\": {\"error\": [], \"module_id\": \"621834d8-6a64-45f6-9868-047ea45cf282\", \"namespace\": \"DesignerDRI_EASTUS\", \"module_name\": \"Compare Two Models\", \"module_version\": \"0.0.18\"}}}}, \"modules\": [{\"module_id\": \"7a7eb0ae-adb8-4c3a-a92e-dfaaaf79624b\", \"version\": \"0.0.43\", \"name\": \"Split Data Txt\", \"namespace\": \"DesignerDRI_EASTUS\", \"structured_interface\": {\"inputs\": [{\"name\": \"Input_dir\", \"label\": \"Input dir\", \"description\": null, \"data_type_ids_list\": [\"AnyDirectory\"]}], \"outputs\": [{\"name\": \"Training_data_output\", \"label\": \"Training data output\", \"description\": null, \"data_type_id\": \"AnyDirectory\"}, {\"name\": \"Validation_data_output\", \"label\": \"Validation data output\", \"description\": null, \"data_type_id\": \"AnyDirectory\"}, {\"name\": \"Test_data_output\", \"label\": \"Test data output\", \"description\": null, \"data_type_id\": \"AnyDirectory\"}]}}, {\"module_id\": \"b24b56c6-862b-47d2-a184-26b044a6bc70\", \"version\": \"0.0.41\", \"name\": \"FastText Train\", \"namespace\": \"DesignerDRI_EASTUS\", \"structured_interface\": {\"inputs\": [{\"name\": \"Training_data_dir\", \"label\": \"Training data dir\", \"description\": null, \"data_type_ids_list\": [\"AnyDirectory\"]}, {\"name\": \"Validation_data_dir\", \"label\": \"Validation data dir\", \"description\": null, \"data_type_ids_list\": [\"AnyDirectory\"]}], \"outputs\": [{\"name\": \"Trained_model_dir\", \"label\": \"Trained model dir\", \"description\": null, \"data_type_id\": \"ModelDirectory\"}]}}, {\"module_id\": \"2667937a-ffcd-4552-920d-f82efd1b0ed4\", \"version\": \"0.0.8\", \"name\": \"FastText Evaluation\", \"namespace\": \"DesignerDRI_EASTUS\", \"structured_interface\": {\"inputs\": [{\"name\": \"Trained_model_dir\", \"label\": \"Trained model dir\", \"description\": null, \"data_type_ids_list\": [\"AnyDirectory\"]}, {\"name\": \"Test_data_dir\", \"label\": \"Test data dir\", \"description\": null, \"data_type_ids_list\": [\"AnyDirectory\"]}], \"outputs\": [{\"name\": \"Model_testing_result\", \"label\": \"Model testing result\", \"description\": null, \"data_type_id\": \"AnyDirectory\"}]}}, {\"module_id\": \"621834d8-6a64-45f6-9868-047ea45cf282\", \"version\": \"0.0.18\", \"name\": \"Compare Two Models\", \"namespace\": \"DesignerDRI_EASTUS\", \"structured_interface\": {\"inputs\": [{\"name\": \"First_trained_model\", \"label\": \"First trained model\", \"description\": null, \"data_type_ids_list\": [\"AnyDirectory\"]}, {\"name\": \"First_trained_result\", \"label\": \"First trained result\", \"description\": null, \"data_type_ids_list\": [\"AnyDirectory\"]}, {\"name\": \"Second_trained_model\", \"label\": \"Second trained model\", \"description\": null, \"data_type_ids_list\": [\"AnyDirectory\"]}, {\"name\": \"Second_trained_result\", \"label\": \"Second trained result\", \"description\": null, \"data_type_ids_list\": [\"AnyDirectory\"]}], \"outputs\": [{\"name\": \"The_better_model\", \"label\": \"The better model\", \"description\": null, \"data_type_id\": \"AnyDirectory\"}]}}], \"datasources\": [{\"name\": \"THUCNews\", \"description\": \"THUCNews dataset is generated by filtering and filtering historical data     of Sina News RSS subscription channel from 2005 to 2011\", \"version\": \"1\", \"registered_id\": \"efa8f18c-9b9b-47f3-9630-de9002dc61aa\", \"saved_id\": \"8ece8ea8-1318-4d4d-8cac-2acb631feb85\", \"nodeId\": \"70286d9a-c269-31a9-bbba-13fbf3d37b70\"}], \"subGraphInfo\": [{\"name\": \"fasttext_pipeline\", \"description\": \"The pipeline that trains two fasttext models and output the better one\", \"default_compute_target\": {\"name\": \"aml-compute-gpu\", \"compute_type\": \"0\"}, \"default_data_store\": {\"data_store_name\": \"workspaceblobstore\"}, \"id\": \"930783a4-61a6-47d4-bfdd-ed6188fc3d30\", \"pipeline_definition_id\": \"df349cfa-d63a-4af0-97cf-a510f0487bc4\", \"sub_graph_parameter_assignment\": [], \"sub_graph_data_path_parameter_assignment\": [], \"sub_graph_default_compute_target_nodes\": [\"66b5523c\"], \"sub_graph_default_data_store_nodes\": [\"66b5523c\"], \"inputs\": [], \"outputs\": []}, {\"name\": \"sub_pipeline\", \"description\": \"A sub pipeline including processes of data processing/training/evaluation\", \"default_compute_target\": {\"name\": \"aml-compute-gpu\", \"compute_type\": \"0\"}, \"default_data_store\": {\"data_store_name\": \"workspaceblobstore\"}, \"id\": \"4d41e8ae-b109-49c1-b8f7-cdaf04a2402e\", \"parent_graph_id\": \"930783a4-61a6-47d4-bfdd-ed6188fc3d30\", \"pipeline_definition_id\": \"d1d769e3-bcae-4d6b-8ad8-18d4cbbc2512\", \"sub_graph_parameter_assignment\": [{\"parameter\": {\"name\": \"epochs\", \"is_optional\": false, \"type\": \"0\"}, \"parameter_assignments\": [{\"node_id\": \"82430532\", \"parameter_name\": \"Epochs\"}]}, {\"parameter\": {\"name\": \"batch_size\", \"is_optional\": false, \"type\": \"0\"}, \"parameter_assignments\": [{\"node_id\": \"82430532\", \"parameter_name\": \"Batch size\"}]}, {\"parameter\": {\"name\": \"max_len\", \"is_optional\": false, \"type\": \"0\"}, \"parameter_assignments\": [{\"node_id\": \"82430532\", \"parameter_name\": \"Max len\"}]}], \"sub_graph_data_path_parameter_assignment\": [], \"sub_graph_default_compute_target_nodes\": [\"574f634a\", \"82430532\", \"ae3fec7f\"], \"sub_graph_default_data_store_nodes\": [], \"inputs\": [], \"outputs\": [{\"name\": \"model_testing_result\", \"internal\": [{\"node_id\": \"ae3fec7f\", \"port_name\": \"Model_testing_result\"}], \"external\": [{\"node_id\": \"66b5523c\", \"port_name\": \"First_trained_result\"}]}, {\"name\": \"trained_model_dir\", \"internal\": [{\"node_id\": \"82430532\", \"port_name\": \"Trained_model_dir\"}], \"external\": [{\"node_id\": \"ae3fec7f\", \"port_name\": \"Trained_model_dir\"}, {\"node_id\": \"66b5523c\", \"port_name\": \"First_trained_model\"}]}]}, {\"name\": \"sub_pipeline\", \"description\": \"A sub pipeline including processes of data processing/training/evaluation\", \"default_compute_target\": {\"name\": \"aml-compute-gpu\", \"compute_type\": \"0\"}, \"default_data_store\": {\"data_store_name\": \"workspaceblobstore\"}, \"id\": \"72958fef-84ba-4c75-9d72-be24135fd2d8\", \"parent_graph_id\": \"930783a4-61a6-47d4-bfdd-ed6188fc3d30\", \"pipeline_definition_id\": \"d1d769e3-bcae-4d6b-8ad8-18d4cbbc2512\", \"sub_graph_parameter_assignment\": [{\"parameter\": {\"name\": \"epochs\", \"is_optional\": false, \"type\": \"0\"}, \"parameter_assignments\": [{\"node_id\": \"f534bc7e\", \"parameter_name\": \"Epochs\"}]}, {\"parameter\": {\"name\": \"batch_size\", \"is_optional\": false, \"type\": \"0\"}, \"parameter_assignments\": [{\"node_id\": \"f534bc7e\", \"parameter_name\": \"Batch size\"}]}, {\"parameter\": {\"name\": \"max_len\", \"is_optional\": false, \"type\": \"0\"}, \"parameter_assignments\": [{\"node_id\": \"f534bc7e\", \"parameter_name\": \"Max len\"}]}], \"sub_graph_data_path_parameter_assignment\": [], \"sub_graph_default_compute_target_nodes\": [\"cc7030a5\", \"f534bc7e\", \"9375990a\"], \"sub_graph_default_data_store_nodes\": [], \"inputs\": [], \"outputs\": [{\"name\": \"model_testing_result\", \"internal\": [{\"node_id\": \"9375990a\", \"port_name\": \"Model_testing_result\"}], \"external\": [{\"node_id\": \"66b5523c\", \"port_name\": \"Second_trained_result\"}]}, {\"name\": \"trained_model_dir\", \"internal\": [{\"node_id\": \"f534bc7e\", \"port_name\": \"Trained_model_dir\"}], \"external\": [{\"node_id\": \"9375990a\", \"port_name\": \"Trained_model_dir\"}, {\"node_id\": \"66b5523c\", \"port_name\": \"Second_trained_model\"}]}]}], \"nodeIdToSubGraphIdMapping\": {\"574f634a\": \"4d41e8ae-b109-49c1-b8f7-cdaf04a2402e\", \"82430532\": \"4d41e8ae-b109-49c1-b8f7-cdaf04a2402e\", \"ae3fec7f\": \"4d41e8ae-b109-49c1-b8f7-cdaf04a2402e\", \"cc7030a5\": \"72958fef-84ba-4c75-9d72-be24135fd2d8\", \"f534bc7e\": \"72958fef-84ba-4c75-9d72-be24135fd2d8\", \"9375990a\": \"72958fef-84ba-4c75-9d72-be24135fd2d8\", \"66b5523c\": \"930783a4-61a6-47d4-bfdd-ed6188fc3d30\"}, \"subPipelineDefinition\": [{\"name\": \"fasttext_pipeline\", \"description\": \"The pipeline that trains two fasttext models and output the better one\", \"default_compute_target\": {\"name\": \"aml-compute-gpu\", \"compute_type\": \"0\"}, \"default_data_store\": {\"data_store_name\": \"workspaceblobstore\"}, \"pipeline_function_name\": \"fasttext_pipeline\", \"id\": \"df349cfa-d63a-4af0-97cf-a510f0487bc4\", \"from_module_name\": \"__main__\", \"parameter_list\": []}, {\"name\": \"sub_pipeline\", \"description\": \"A sub pipeline including processes of data processing/training/evaluation\", \"default_compute_target\": {\"name\": \"aml-compute-gpu\", \"compute_type\": \"0\"}, \"default_data_store\": {\"data_store_name\": \"workspaceblobstore\"}, \"pipeline_function_name\": \"training_pipeline\", \"id\": \"d1d769e3-bcae-4d6b-8ad8-18d4cbbc2512\", \"from_module_name\": \"__main__\", \"parameter_list\": [{\"key\": \"epochs\"}, {\"key\": \"batch_size\"}, {\"key\": \"max_len\"}]}]};\n",
       "                window.graph_json_to_compare=undefined;\n",
       "                window.env_json={};\n",
       "                window.before_script = performance.now();\n",
       "                var script = document.createElement('script')\n",
       "                script.src = \"https://yucongj.azureedge.net/libs/prod/0.0.9/index.js\"\n",
       "                document.getElementById(\"container_id_a6d22a53-ea67-43ba-8943-cda57ee870bb_script\").appendChild(script)\n",
       "            })()\n",
       "        </script>\n",
       "        "
      ],
      "text/plain": [
       "<IPython.core.display.HTML object>"
      ]
     },
     "metadata": {},
     "output_type": "display_data"
    }
   ],
   "source": [
    "pipeline_run.visualize()"
   ]
  },
  {
   "cell_type": "markdown",
   "metadata": {
    "pycharm": {
     "name": "#%% md\n"
    }
   },
   "source": [
    "### Get a StepRun object"
   ]
  },
  {
   "cell_type": "code",
   "execution_count": 11,
   "metadata": {
    "pycharm": {
     "name": "#%%\n"
    }
   },
   "outputs": [
    {
     "data": {
      "text/html": [
       "<table style=\"width:100%\"><tr><th>Experiment</th><th>Id</th><th>Type</th><th>Status</th><th>Details Page</th><th>Docs Page</th></tr><tr><td>fasttext_pipeline</td><td>984ce956-a725-4576-b95c-e746ff4e6889</td><td>azureml.StepRun</td><td>Completed</td><td><a href=\"https://ml.azure.com/experiments/fasttext_pipeline/runs/984ce956-a725-4576-b95c-e746ff4e6889?wsid=/subscriptions/74eccef0-4b8d-4f83-b5f9-fa100d155b22/resourcegroups/DesignerDRI/workspaces/DesignerDRI_EASTUS\" target=\"_blank\" rel=\"noopener\">Link to Azure Machine Learning studio</a></td><td><a href=\"https://docs.microsoft.com/en-us/python/api/overview/azure/ml/intro?view=azure-ml-py\" target=\"_blank\" rel=\"noopener\">Link to Documentation</a></td></tr></table>"
      ],
      "text/plain": [
       "StepRun(Experiment: fasttext_pipeline,\n",
       "Id: 984ce956-a725-4576-b95c-e746ff4e6889,\n",
       "Type: azureml.StepRun,\n",
       "Status: Completed)"
      ]
     },
     "execution_count": 11,
     "metadata": {},
     "output_type": "execute_result"
    }
   ],
   "source": [
    "# obtain step_run_id from the visualization result.\n",
    "step_run_id = '984ce956-a725-4576-b95c-e746ff4e6889'\n",
    "step_run = pipeline_run.get_step_run(step_run_id)\n",
    "step_run"
   ]
  },
  {
   "cell_type": "markdown",
   "metadata": {},
   "source": [
    "### In order to use the trained model from a port without registration, we need to install an extra dependence"
   ]
  },
  {
   "cell_type": "code",
   "execution_count": 12,
   "metadata": {
    "scrolled": true
   },
   "outputs": [
    {
     "name": "stdout",
     "output_type": "stream",
     "text": [
      "Looking in indexes: https://pypi.org/simple, https://azuremlsdktestpypi.azureedge.net/modulesdkpreview\n",
      "Requirement already up-to-date: azureml-dataset-runtime[fuse] in /home/azureuser/.local/lib/python3.6/site-packages (1.12.0)\n",
      "Requirement already satisfied, skipping upgrade: azureml-dataprep<2.1.0a,>=2.0.1a in /anaconda/envs/azureml_py36/lib/python3.6/site-packages (from azureml-dataset-runtime[fuse]) (2.0.3a2020080602)\n",
      "Requirement already satisfied, skipping upgrade: pyarrow<2.0.0,>=0.17.0 in /anaconda/envs/azureml_py36/lib/python3.6/site-packages (from azureml-dataset-runtime[fuse]) (0.17.1)\n",
      "Requirement already satisfied, skipping upgrade: fusepy<4.0.0,>=3.0.1; extra == \"fuse\" in /anaconda/envs/azureml_py36/lib/python3.6/site-packages (from azureml-dataset-runtime[fuse]) (3.0.1)\n",
      "Requirement already satisfied, skipping upgrade: azureml-dataprep-native<21.0.0,>=20.0.0 in /anaconda/envs/azureml_py36/lib/python3.6/site-packages (from azureml-dataprep<2.1.0a,>=2.0.1a->azureml-dataset-runtime[fuse]) (20.0.0)\n",
      "Requirement already satisfied, skipping upgrade: azure-identity<1.3.0,>=1.2.0 in /anaconda/envs/azureml_py36/lib/python3.6/site-packages (from azureml-dataprep<2.1.0a,>=2.0.1a->azureml-dataset-runtime[fuse]) (1.2.0)\n",
      "Requirement already satisfied, skipping upgrade: cloudpickle<2.0.0,>=1.1.0 in /anaconda/envs/azureml_py36/lib/python3.6/site-packages (from azureml-dataprep<2.1.0a,>=2.0.1a->azureml-dataset-runtime[fuse]) (1.3.0)\n",
      "Requirement already satisfied, skipping upgrade: dotnetcore2<3.0.0,>=2.1.14 in /anaconda/envs/azureml_py36/lib/python3.6/site-packages (from azureml-dataprep<2.1.0a,>=2.0.1a->azureml-dataset-runtime[fuse]) (2.1.14)\n",
      "Requirement already satisfied, skipping upgrade: numpy>=1.14 in /anaconda/envs/azureml_py36/lib/python3.6/site-packages (from pyarrow<2.0.0,>=0.17.0->azureml-dataset-runtime[fuse]) (1.16.2)\n",
      "Requirement already satisfied, skipping upgrade: msal-extensions~=0.1.3 in /anaconda/envs/azureml_py36/lib/python3.6/site-packages (from azure-identity<1.3.0,>=1.2.0->azureml-dataprep<2.1.0a,>=2.0.1a->azureml-dataset-runtime[fuse]) (0.1.3)\n",
      "Requirement already satisfied, skipping upgrade: six>=1.6 in /anaconda/envs/azureml_py36/lib/python3.6/site-packages (from azure-identity<1.3.0,>=1.2.0->azureml-dataprep<2.1.0a,>=2.0.1a->azureml-dataset-runtime[fuse]) (1.12.0)\n",
      "Requirement already satisfied, skipping upgrade: azure-core<2.0.0,>=1.0.0 in /anaconda/envs/azureml_py36/lib/python3.6/site-packages (from azure-identity<1.3.0,>=1.2.0->azureml-dataprep<2.1.0a,>=2.0.1a->azureml-dataset-runtime[fuse]) (1.6.0)\n",
      "Requirement already satisfied, skipping upgrade: cryptography>=2.1.4 in /anaconda/envs/azureml_py36/lib/python3.6/site-packages (from azure-identity<1.3.0,>=1.2.0->azureml-dataprep<2.1.0a,>=2.0.1a->azureml-dataset-runtime[fuse]) (2.9.2)\n",
      "Requirement already satisfied, skipping upgrade: msal<2.0.0,>=1.0.0 in /anaconda/envs/azureml_py36/lib/python3.6/site-packages (from azure-identity<1.3.0,>=1.2.0->azureml-dataprep<2.1.0a,>=2.0.1a->azureml-dataset-runtime[fuse]) (1.3.0)\n",
      "Requirement already satisfied, skipping upgrade: distro>=1.2.0 in /anaconda/envs/azureml_py36/lib/python3.6/site-packages (from dotnetcore2<3.0.0,>=2.1.14->azureml-dataprep<2.1.0a,>=2.0.1a->azureml-dataset-runtime[fuse]) (1.5.0)\n",
      "Requirement already satisfied, skipping upgrade: portalocker~=1.0 in /anaconda/envs/azureml_py36/lib/python3.6/site-packages (from msal-extensions~=0.1.3->azure-identity<1.3.0,>=1.2.0->azureml-dataprep<2.1.0a,>=2.0.1a->azureml-dataset-runtime[fuse]) (1.7.0)\n",
      "Requirement already satisfied, skipping upgrade: requests>=2.18.4 in /anaconda/envs/azureml_py36/lib/python3.6/site-packages (from azure-core<2.0.0,>=1.0.0->azure-identity<1.3.0,>=1.2.0->azureml-dataprep<2.1.0a,>=2.0.1a->azureml-dataset-runtime[fuse]) (2.24.0)\n",
      "Requirement already satisfied, skipping upgrade: cffi!=1.11.3,>=1.8 in /anaconda/envs/azureml_py36/lib/python3.6/site-packages (from cryptography>=2.1.4->azure-identity<1.3.0,>=1.2.0->azureml-dataprep<2.1.0a,>=2.0.1a->azureml-dataset-runtime[fuse]) (1.14.0)\n",
      "Requirement already satisfied, skipping upgrade: PyJWT[crypto]<2,>=1.0.0 in /anaconda/envs/azureml_py36/lib/python3.6/site-packages (from msal<2.0.0,>=1.0.0->azure-identity<1.3.0,>=1.2.0->azureml-dataprep<2.1.0a,>=2.0.1a->azureml-dataset-runtime[fuse]) (1.7.1)\n",
      "Requirement already satisfied, skipping upgrade: idna<3,>=2.5 in /anaconda/envs/azureml_py36/lib/python3.6/site-packages (from requests>=2.18.4->azure-core<2.0.0,>=1.0.0->azure-identity<1.3.0,>=1.2.0->azureml-dataprep<2.1.0a,>=2.0.1a->azureml-dataset-runtime[fuse]) (2.9)\n",
      "Requirement already satisfied, skipping upgrade: certifi>=2017.4.17 in /anaconda/envs/azureml_py36/lib/python3.6/site-packages (from requests>=2.18.4->azure-core<2.0.0,>=1.0.0->azure-identity<1.3.0,>=1.2.0->azureml-dataprep<2.1.0a,>=2.0.1a->azureml-dataset-runtime[fuse]) (2020.6.20)\n",
      "Requirement already satisfied, skipping upgrade: chardet<4,>=3.0.2 in /anaconda/envs/azureml_py36/lib/python3.6/site-packages (from requests>=2.18.4->azure-core<2.0.0,>=1.0.0->azure-identity<1.3.0,>=1.2.0->azureml-dataprep<2.1.0a,>=2.0.1a->azureml-dataset-runtime[fuse]) (3.0.4)\n",
      "Requirement already satisfied, skipping upgrade: urllib3!=1.25.0,!=1.25.1,<1.26,>=1.21.1 in /anaconda/envs/azureml_py36/lib/python3.6/site-packages (from requests>=2.18.4->azure-core<2.0.0,>=1.0.0->azure-identity<1.3.0,>=1.2.0->azureml-dataprep<2.1.0a,>=2.0.1a->azureml-dataset-runtime[fuse]) (1.25.9)\n",
      "Requirement already satisfied, skipping upgrade: pycparser in /anaconda/envs/azureml_py36/lib/python3.6/site-packages (from cffi!=1.11.3,>=1.8->cryptography>=2.1.4->azure-identity<1.3.0,>=1.2.0->azureml-dataprep<2.1.0a,>=2.0.1a->azureml-dataset-runtime[fuse]) (2.20)\n"
     ]
    }
   ],
   "source": [
    "# Install dataset runtime to enable dataset registration in sample notebooks\n",
    "!pip install azureml-dataset-runtime[fuse] --extra-index-url https://azuremlsdktestpypi.azureedge.net/modulesdkpreview --user --upgrade"
   ]
  },
  {
   "cell_type": "markdown",
   "metadata": {
    "pycharm": {
     "name": "#%% md\n"
    }
   },
   "source": [
    "### Use the trained model as the input of a new pipeline"
   ]
  },
  {
   "cell_type": "code",
   "execution_count": 13,
   "metadata": {
    "pycharm": {
     "name": "#%%\n"
    }
   },
   "outputs": [
    {
     "data": {
      "text/plain": [
       "<azureml.data.dataset_consumption_config.DatasetConsumptionConfig at 0x7fc98c9f7a20>"
      ]
     },
     "execution_count": 13,
     "metadata": {},
     "output_type": "execute_result"
    }
   ],
   "source": [
    "port = step_run.get_port(name='The_better_model')\n",
    "data_path = port.get_data_path()\n",
    "model = Dataset.File.from_files(path=[data_path]).as_named_input('model_for_batch_inference')\n",
    "model"
   ]
  },
  {
   "cell_type": "markdown",
   "metadata": {
    "pycharm": {
     "name": "#%% md\n"
    }
   },
   "source": [
    "### Construct the pipeline"
   ]
  },
  {
   "cell_type": "code",
   "execution_count": 14,
   "metadata": {
    "pycharm": {
     "name": "#%%\n"
    }
   },
   "outputs": [],
   "source": [
    "@dsl.pipeline(name='batch inference', description='Batch Inference', default_compute_target=aml_compute.name)\n",
    "def training_pipeline():\n",
    "    fasttext_score = fasttext_score_module_func(\n",
    "        texts_to_score=dataset,\n",
    "        fasttext_model_dir=model\n",
    "    )\n",
    "    fasttext_score.runsettings.configure(node_count=2, process_count_per_node=2, mini_batch_size=\"64\")"
   ]
  },
  {
   "cell_type": "code",
   "execution_count": 15,
   "metadata": {},
   "outputs": [
    {
     "data": {
      "text/plain": [
       "<azureml.pipeline.wrapper._pipeline.Pipeline at 0x7fc98d25c390>"
      ]
     },
     "execution_count": 15,
     "metadata": {},
     "output_type": "execute_result"
    }
   ],
   "source": [
    "# pipeline\n",
    "pipeline = training_pipeline()\n",
    "# pipeline.save(experiment_name=experiment_name)\n",
    "pipeline"
   ]
  },
  {
   "cell_type": "markdown",
   "metadata": {},
   "source": [
    "### Run the pipeline"
   ]
  },
  {
   "cell_type": "code",
   "execution_count": 16,
   "metadata": {
    "scrolled": false,
    "tags": [
     "outputPrepend"
    ]
   },
   "outputs": [
    {
     "name": "stdout",
     "output_type": "stream",
     "text": [
      "Submitted PipelineRun a3e85fd2-4c66-48ea-9b5e-2428ae359ffc\n",
      "Link to Azure Machine Learning Portal: https://ml.azure.com/experiments/fasttext_batch_inference/runs/a3e85fd2-4c66-48ea-9b5e-2428ae359ffc?wsid=/subscriptions/74eccef0-4b8d-4f83-b5f9-fa100d155b22/resourcegroups/DesignerDRI/workspaces/DesignerDRI_EASTUS\n",
      "PipelineRunId: a3e85fd2-4c66-48ea-9b5e-2428ae359ffc\n",
      "Link to Azure Machine Learning Portal: https://ml.azure.com/experiments/fasttext_batch_inference/runs/a3e85fd2-4c66-48ea-9b5e-2428ae359ffc?wsid=/subscriptions/74eccef0-4b8d-4f83-b5f9-fa100d155b22/resourcegroups/DesignerDRI/workspaces/DesignerDRI_EASTUS\n"
     ]
    },
    {
     "data": {
      "application/javascript": [
       "try {\n",
       "    require.undef(\"validate_widget\")\n",
       "\n",
       "    define('validate_widget', [\"@jupyter-widgets/base\"], function(widgets) {\n",
       "        var ValidateView = widgets.DOMWidgetView.extend({\n",
       "            render () {\n",
       "                window.widget_self = this\n",
       "                var visualize_id = this.model.get('visualize_id')\n",
       "\n",
       "                if (!window._renderLock) {\n",
       "                    window._renderLock = {}\n",
       "                }\n",
       "                if (window._renderLock[visualize_id]) {\n",
       "                    return\n",
       "                }\n",
       "                window._renderLock[visualize_id] = \"widget\"\n",
       "                console.log(\"load as widget\", Date.now())\n",
       "\n",
       "                var lib_url = this.model.get('lib_url')\n",
       "                var graph_json = JSON.parse(this.model.get('graph_json'))\n",
       "                var env_json = JSON.parse(this.model.get('env_json'))\n",
       "                var container_id = this.model.get('container_id')\n",
       "\n",
       "                window.render_container_id = container_id\n",
       "                window.graph_json = graph_json\n",
       "                window.graph_json_to_compare = undefined\n",
       "                window.env_json = env_json\n",
       "                window.before_script = performance.now()\n",
       "\n",
       "                var container = document.createElement('div')\n",
       "                container.id = container_id\n",
       "                this.el.appendChild(container)\n",
       "\n",
       "                var style = document.createElement('style')\n",
       "                style.innerHTML = [\n",
       "                    \"#\", container_id, \" svg.react-dag-editor-svg-container { height: 800px; }\",\n",
       "                    \".cell-output-ipywidget-background { background: transparent !important }\"\n",
       "                ].join('')\n",
       "                this.el.appendChild(style)\n",
       "\n",
       "                this.model.on('msg:custom', dispatchMessage, this);\n",
       "\n",
       "                if (!window.__event_hub) {\n",
       "                    window.__event_hub = {}\n",
       "                }\n",
       "                if (!window.__event_hub[container_id]) {\n",
       "                    window.__event_hub[container_id] = {}\n",
       "                }\n",
       "\n",
       "                if (!window.__send_event) {\n",
       "                    window.__send_event = {}\n",
       "                }\n",
       "                window.__send_event[container_id] = sendMessage.bind(this)\n",
       "\n",
       "                function sendMessage(message, uid, content) {\n",
       "                    return new Promise((resolve) => {\n",
       "                        this.model.send({\n",
       "                            message: `${message}:request`,\n",
       "                            body: {\n",
       "                                uid,\n",
       "                                content\n",
       "                            }\n",
       "                        })\n",
       "    \n",
       "                        var respMessageKey = `${message}:response`\n",
       "                        if (!window.__event_hub[container_id][respMessageKey]) {\n",
       "                            window.__event_hub[container_id][respMessageKey] = []\n",
       "                        }\n",
       "                        window.__event_hub[container_id][respMessageKey].push(callback)\n",
       "    \n",
       "                        function callback (response) {\n",
       "                            if (response.uid !== uid) {\n",
       "                                return\n",
       "                            }\n",
       "\n",
       "                            var idx = window.__event_hub[container_id][respMessageKey].indexOf(callback) \n",
       "                            window.__event_hub[container_id][respMessageKey].splice(idx, 1)\n",
       "                            \n",
       "                            resolve(response)\n",
       "                        }\n",
       "                    })\n",
       "                }\n",
       "\n",
       "                function dispatchMessage (rawMessage) {\n",
       "                    var message = rawMessage.message\n",
       "                    var body = rawMessage.body\n",
       "\n",
       "                    if (!window.__event_hub[container_id][message]) {\n",
       "                        window.__event_hub[container_id][message] = []\n",
       "                    }\n",
       "                    var listeners = window.__event_hub[container_id][message]\n",
       "\n",
       "                    listeners.forEach(cb => {\n",
       "                        try {\n",
       "                            cb(body)\n",
       "                        } catch (e) {\n",
       "                            console.error(\"Unexpected error in listener\", e)\n",
       "                        }\n",
       "                    })\n",
       "\n",
       "                    console.log(body)\n",
       "                }\n",
       "\n",
       "                var script = document.createElement('script')\n",
       "                script.src = lib_url\n",
       "                this.el.appendChild(script)\n",
       "            }\n",
       "        });\n",
       "\n",
       "        return {\n",
       "            ValidateView\n",
       "        }\n",
       "    })\n",
       "} catch (e) {\n",
       "    console.log(\"create validation widget failed\", e)\n",
       "}"
      ],
      "text/plain": [
       "<IPython.core.display.Javascript object>"
      ]
     },
     "metadata": {},
     "output_type": "display_data"
    },
    {
     "data": {
      "application/vnd.jupyter.widget-view+json": {
       "model_id": "b7f4a1a2d16d4d0e8f8cafe44764174e",
       "version_major": 2,
       "version_minor": 0
      },
      "text/plain": [
       "ValidateView(container_id='container_id_3f82e2a1-21b1-4eec-820a-a0da82eb91ec_widget', env_json='{}', graph_jso…"
      ]
     },
     "metadata": {},
     "output_type": "display_data"
    },
    {
     "data": {
      "text/html": [
       "\n",
       "        <style>\n",
       "        #container_id_3f82e2a1-21b1-4eec-820a-a0da82eb91ec_script svg.react-dag-editor-svg-container {\n",
       "            height: 800px;\n",
       "        }\n",
       "        </style>\n",
       "        <div id=\"container_id_3f82e2a1-21b1-4eec-820a-a0da82eb91ec_script\"></div>\n",
       "        <script>\n",
       "            (function () {\n",
       "                if (!window._renderLock) {\n",
       "                    window._renderLock = {}\n",
       "                }\n",
       "                if (window._renderLock[\"3f82e2a1-21b1-4eec-820a-a0da82eb91ec\"]) {\n",
       "                    return\n",
       "                }\n",
       "                window._renderLock[\"3f82e2a1-21b1-4eec-820a-a0da82eb91ec\"] = \"script\"\n",
       "                console.log(\"load as script\", Date.now())\n",
       "                window.render_container_id=\"container_id_3f82e2a1-21b1-4eec-820a-a0da82eb91ec_script\";\n",
       "                window.graph_json={\"pipeline\": {\"name\": \"batch inference\", \"data_references\": {\"THUCNews_For_Batch_Inference\": {\"dataset_id\": \"907b28fb-07b1-4964-9dc7-8b514d9e0bee\"}, \"8269fa09-4263-4b0b-baf6-a7ee06603312\": {\"saved_id\": \"8269fa09-4263-4b0b-baf6-a7ee06603312\"}}, \"steps\": {\"537a3d8b\": {\"inputs\": {\"Texts_to_score\": {\"source\": \"THUCNews_For_Batch_Inference\"}, \"Fasttext_model_dir\": {\"source\": \"8269fa09-4263-4b0b-baf6-a7ee06603312\"}}, \"outputs\": {}, \"module\": {\"id\": \"54705a56-bc6a-447a-888d-ecdbab809473\", \"version\": \"0.0.23\"}, \"validate\": {\"error\": [], \"module_id\": \"54705a56-bc6a-447a-888d-ecdbab809473\", \"namespace\": \"DesignerDRI_EASTUS\", \"module_name\": \"FastText Score\", \"module_version\": \"0.0.23\"}}}}, \"modules\": [{\"module_id\": \"54705a56-bc6a-447a-888d-ecdbab809473\", \"version\": \"0.0.23\", \"name\": \"FastText Score\", \"namespace\": \"DesignerDRI_EASTUS\", \"structured_interface\": {\"inputs\": [{\"name\": \"Texts_to_score\", \"label\": \"Texts to score\", \"description\": null, \"data_type_ids_list\": [\"AnyDirectory\"]}, {\"name\": \"Fasttext_model_dir\", \"label\": \"Fasttext model dir\", \"description\": null, \"data_type_ids_list\": [\"AnyDirectory\"]}], \"outputs\": [{\"name\": \"Scored_data_output_dir\", \"label\": \"Scored data output dir\", \"description\": null, \"data_type_id\": \"AnyDirectory\"}]}}], \"datasources\": [{\"name\": \"THUCNews_For_Batch_Inference\", \"description\": \"THUCNews dataset is generated by filtering and filtering historical data     of Sina News RSS subscription channel from 2005 to 2011\", \"version\": \"1\", \"registered_id\": \"907b28fb-07b1-4964-9dc7-8b514d9e0bee\", \"saved_id\": \"b0985efc-f6ac-4b8a-a761-443781db8345\", \"nodeId\": \"38dbdef7-af8c-388b-aa14-e5b0b5ea28ac\"}], \"subGraphInfo\": [{\"name\": \"batch inference\", \"description\": \"Batch Inference\", \"default_compute_target\": {\"name\": \"aml-compute\", \"compute_type\": \"0\"}, \"default_data_store\": {\"data_store_name\": \"workspaceblobstore\"}, \"id\": \"a4299ad4-c2dc-4e40-a5d9-72ec03db53ad\", \"pipeline_definition_id\": \"4127f63f-456a-4db3-9f79-68a0c484d98f\", \"sub_graph_parameter_assignment\": [], \"sub_graph_data_path_parameter_assignment\": [], \"sub_graph_default_compute_target_nodes\": [\"537a3d8b\"], \"sub_graph_default_data_store_nodes\": [\"537a3d8b\"], \"inputs\": [], \"outputs\": []}], \"nodeIdToSubGraphIdMapping\": {\"537a3d8b\": \"a4299ad4-c2dc-4e40-a5d9-72ec03db53ad\"}, \"subPipelineDefinition\": [{\"name\": \"batch inference\", \"description\": \"Batch Inference\", \"default_compute_target\": {\"name\": \"aml-compute\", \"compute_type\": \"0\"}, \"default_data_store\": {\"data_store_name\": \"workspaceblobstore\"}, \"pipeline_function_name\": \"training_pipeline\", \"id\": \"4127f63f-456a-4db3-9f79-68a0c484d98f\", \"from_module_name\": \"__main__\", \"parameter_list\": []}]};\n",
       "                window.graph_json_to_compare=undefined;\n",
       "                window.env_json={};\n",
       "                window.before_script = performance.now();\n",
       "                var script = document.createElement('script')\n",
       "                script.src = \"https://yucongj.azureedge.net/libs/prod/0.0.9/index.js\"\n",
       "                document.getElementById(\"container_id_3f82e2a1-21b1-4eec-820a-a0da82eb91ec_script\").appendChild(script)\n",
       "            })()\n",
       "        </script>\n",
       "        "
      ],
      "text/plain": [
       "<IPython.core.display.HTML object>"
      ]
     },
     "metadata": {},
     "output_type": "display_data"
    },
    {
     "data": {
      "text/plain": [
       "<RunStatus.completed: 'Completed'>"
      ]
     },
     "execution_count": 16,
     "metadata": {},
     "output_type": "execute_result"
    }
   ],
   "source": [
    "# pipeline_run\n",
    "experiment_name = 'fasttext_batch_inference'\n",
    "pipeline_run = pipeline.submit(experiment_name=experiment_name, regenerate_outputs=False)\n",
    "pipeline_run.wait_for_completion()"
   ]
  },
  {
   "cell_type": "markdown",
   "metadata": {},
   "source": [
    "### Download results of batch inference"
   ]
  },
  {
   "cell_type": "code",
   "execution_count": 17,
   "metadata": {},
   "outputs": [
    {
     "data": {
      "text/html": [
       "<table style=\"width:100%\"><tr><th>Experiment</th><th>Id</th><th>Type</th><th>Status</th><th>Details Page</th><th>Docs Page</th></tr><tr><td>fasttext_batch_inference</td><td>0de2ccdb-b222-4ff7-a555-2fc0e82df673</td><td>azureml.StepRun</td><td>Completed</td><td><a href=\"https://ml.azure.com/experiments/fasttext_batch_inference/runs/0de2ccdb-b222-4ff7-a555-2fc0e82df673?wsid=/subscriptions/74eccef0-4b8d-4f83-b5f9-fa100d155b22/resourcegroups/DesignerDRI/workspaces/DesignerDRI_EASTUS\" target=\"_blank\" rel=\"noopener\">Link to Azure Machine Learning studio</a></td><td><a href=\"https://docs.microsoft.com/en-us/python/api/overview/azure/ml/intro?view=azure-ml-py\" target=\"_blank\" rel=\"noopener\">Link to Documentation</a></td></tr></table>"
      ],
      "text/plain": [
       "StepRun(Experiment: fasttext_batch_inference,\n",
       "Id: 0de2ccdb-b222-4ff7-a555-2fc0e82df673,\n",
       "Type: azureml.StepRun,\n",
       "Status: Completed)"
      ]
     },
     "execution_count": 17,
     "metadata": {},
     "output_type": "execute_result"
    }
   ],
   "source": [
    "step_run_id = '0de2ccdb-b222-4ff7-a555-2fc0e82df673'\n",
    "step_run = pipeline_run.get_step_run(step_run_id)\n",
    "step_run"
   ]
  },
  {
   "cell_type": "code",
   "execution_count": 20,
   "metadata": {},
   "outputs": [
    {
     "name": "stdout",
     "output_type": "stream",
     "text": [
      "Downloading azureml/0de2ccdb-b222-4ff7-a555-2fc0e82df673/Scored_data_output_dir/1c2311a6ae2945bf82ef1af5b541d513.parquet\n",
      "Downloading azureml/0de2ccdb-b222-4ff7-a555-2fc0e82df673/Scored_data_output_dir/2e73e9d51b3e428794e48a7ed3ab58dc.parquet\n",
      "Downloading azureml/0de2ccdb-b222-4ff7-a555-2fc0e82df673/Scored_data_output_dir/480f4e37f32246cea738f34fc8f4b3e8.parquet\n",
      "Downloading azureml/0de2ccdb-b222-4ff7-a555-2fc0e82df673/Scored_data_output_dir/62834d2b32394e50b4a009648459c36b.parquet\n",
      "Downloaded azureml/0de2ccdb-b222-4ff7-a555-2fc0e82df673/Scored_data_output_dir/2e73e9d51b3e428794e48a7ed3ab58dc.parquet, 1 files out of an estimated total of 4\n",
      "Downloaded azureml/0de2ccdb-b222-4ff7-a555-2fc0e82df673/Scored_data_output_dir/480f4e37f32246cea738f34fc8f4b3e8.parquet, 2 files out of an estimated total of 4\n",
      "Downloaded azureml/0de2ccdb-b222-4ff7-a555-2fc0e82df673/Scored_data_output_dir/62834d2b32394e50b4a009648459c36b.parquet, 3 files out of an estimated total of 4\n",
      "Downloaded azureml/0de2ccdb-b222-4ff7-a555-2fc0e82df673/Scored_data_output_dir/1c2311a6ae2945bf82ef1af5b541d513.parquet, 4 files out of an estimated total of 4\n"
     ]
    },
    {
     "data": {
      "text/plain": [
       "'/tmp/azureml/0de2ccdb-b222-4ff7-a555-2fc0e82df673/Scored_data_output_dir'"
      ]
     },
     "execution_count": 20,
     "metadata": {},
     "output_type": "execute_result"
    }
   ],
   "source": [
    "port = step_run.get_port(name='Scored data output dir')\n",
    "saved_path = port.download(overwrite=True)\n",
    "saved_path"
   ]
  },
  {
   "cell_type": "markdown",
   "metadata": {},
   "source": [
    "### Check results of batch inference"
   ]
  },
  {
   "cell_type": "code",
   "execution_count": 21,
   "metadata": {},
   "outputs": [
    {
     "data": {
      "text/html": [
       "<div>\n",
       "<style scoped>\n",
       "    .dataframe tbody tr th:only-of-type {\n",
       "        vertical-align: middle;\n",
       "    }\n",
       "\n",
       "    .dataframe tbody tr th {\n",
       "        vertical-align: top;\n",
       "    }\n",
       "\n",
       "    .dataframe thead th {\n",
       "        text-align: right;\n",
       "    }\n",
       "</style>\n",
       "<table border=\"1\" class=\"dataframe\">\n",
       "  <thead>\n",
       "    <tr style=\"text-align: right;\">\n",
       "      <th></th>\n",
       "      <th>Filename</th>\n",
       "      <th>Class</th>\n",
       "    </tr>\n",
       "  </thead>\n",
       "  <tbody>\n",
       "    <tr>\n",
       "      <th>0</th>\n",
       "      <td>/tmp/tmpqlsf9jar/34</td>\n",
       "      <td>stock</td>\n",
       "    </tr>\n",
       "    <tr>\n",
       "      <th>1</th>\n",
       "      <td>/tmp/tmpqlsf9jar/35</td>\n",
       "      <td>entertainment</td>\n",
       "    </tr>\n",
       "    <tr>\n",
       "      <th>2</th>\n",
       "      <td>/tmp/tmpqlsf9jar/36</td>\n",
       "      <td>society</td>\n",
       "    </tr>\n",
       "    <tr>\n",
       "      <th>3</th>\n",
       "      <td>/tmp/tmpqlsf9jar/37</td>\n",
       "      <td>technology</td>\n",
       "    </tr>\n",
       "    <tr>\n",
       "      <th>4</th>\n",
       "      <td>/tmp/tmpqlsf9jar/38</td>\n",
       "      <td>sport</td>\n",
       "    </tr>\n",
       "  </tbody>\n",
       "</table>\n",
       "</div>"
      ],
      "text/plain": [
       "              Filename          Class\n",
       "0  /tmp/tmpqlsf9jar/34          stock\n",
       "1  /tmp/tmpqlsf9jar/35  entertainment\n",
       "2  /tmp/tmpqlsf9jar/36        society\n",
       "3  /tmp/tmpqlsf9jar/37     technology\n",
       "4  /tmp/tmpqlsf9jar/38          sport"
      ]
     },
     "execution_count": 21,
     "metadata": {},
     "output_type": "execute_result"
    }
   ],
   "source": [
    "df_list = []\n",
    "for i, file in enumerate(os.listdir(saved_path)):\n",
    "    path = os.path.join(saved_path, file)\n",
    "    df_list.append(pd.read_parquet(path, engine='pyarrow'))\n",
    "df = pd.concat(df_list)  \n",
    "df.head()"
   ]
  },
  {
   "cell_type": "markdown",
   "metadata": {},
   "source": [
    "### Create a pipeline endpoint"
   ]
  },
  {
   "cell_type": "code",
   "execution_count": 23,
   "metadata": {},
   "outputs": [
    {
     "name": "stdout",
     "output_type": "stream",
     "text": [
      "Creating a new pipeline endpoint name \"fasttext_endpoint\"\n"
     ]
    },
    {
     "data": {
      "text/html": [
       "<table style=\"width:100%\"><tr><th>Name</th><th>Description</th><th>Date updated</th><th>Updated by</th><th>Last run time</th><th>Last run status</th><th>Status</th><th>tags</th><th>Portal Link</th></tr><tr><td>fasttext_endpoint</td><td></td><td>2020-08-18 03:40:42.385351+00:00</td><td>Xiaoyu Yang</td><td></td><td>Active</td><td>Unknown</td><td>azureml.Designer: true</td><td><a href=\"https://ml.azure.com/endpoint/a9aa25a4-3944-44c7-a34e-4949d0a06948/fasttext_endpoint/pipelines?wsid=/subscriptions/74eccef0-4b8d-4f83-b5f9-fa100d155b22/resourcegroups/DesignerDRI/workspaces/DesignerDRI_EASTUS\" target=\"_blank\" rel=\"noopener\">Link</a></td></tr></table>"
      ],
      "text/plain": [
       "PipelineEndpoint(Name: fasttext_endpoint,\n",
       "Description: None,\n",
       "Date updated: 2020-08-18 03:40:42.385351+00:00,\n",
       "Updated by: Xiaoyu Yang,\n",
       "Last run time: None,\n",
       "Last run status: Active,\n",
       "Status: Unknown,\n",
       "tags: azureml.Designer: true,\n",
       "Portal Link: https://ml.azure.com/endpoint/a9aa25a4-3944-44c7-a34e-4949d0a06948/fasttext_endpoint/pipelines?wsid=/subscriptions/74eccef0-4b8d-4f83-b5f9-fa100d155b22/resourcegroups/DesignerDRI/workspaces/DesignerDRI_EASTUS)"
      ]
     },
     "execution_count": 23,
     "metadata": {},
     "output_type": "execute_result"
    }
   ],
   "source": [
    "name = 'fasttext_endpoint'\n",
    "pipeline_endpoint = PipelineEndpoint.publish(workspace=workspace, name=name, pipeline=pipeline_run)\n",
    "pipeline_endpoint"
   ]
  },
  {
   "cell_type": "markdown",
   "metadata": {},
   "source": [
    "### Submit a pipeline experiment by pipeline endpoint"
   ]
  },
  {
   "cell_type": "code",
   "execution_count": 24,
   "metadata": {},
   "outputs": [
    {
     "name": "stdout",
     "output_type": "stream",
     "text": [
      "Submitted PipelineEndpointRun ca4d1287-b6d8-4d8b-ab08-7fce86dfe9c0\n",
      "Link to Azure Machine Learning Portal: https://ml.azure.com/experiments/fasttext_pipeline_endpoint/runs/ca4d1287-b6d8-4d8b-ab08-7fce86dfe9c0?wsid=/subscriptions/74eccef0-4b8d-4f83-b5f9-fa100d155b22/resourcegroups/DesignerDRI/workspaces/DesignerDRI_EASTUS\n"
     ]
    },
    {
     "data": {
      "text/html": [
       "<table style=\"width:100%\"><tr><th>Experiment</th><th>Id</th><th>Type</th><th>Status</th><th>Details Page</th><th>Docs Page</th></tr><tr><td>fasttext_pipeline_endpoint</td><td>ca4d1287-b6d8-4d8b-ab08-7fce86dfe9c0</td><td>azureml.PipelineRun</td><td>NotStarted</td><td><a href=\"https://ml.azure.com/experiments/fasttext_pipeline_endpoint/runs/ca4d1287-b6d8-4d8b-ab08-7fce86dfe9c0?wsid=/subscriptions/74eccef0-4b8d-4f83-b5f9-fa100d155b22/resourcegroups/DesignerDRI/workspaces/DesignerDRI_EASTUS\" target=\"_blank\" rel=\"noopener\">Link to Azure Machine Learning studio</a></td><td><a href=\"https://docs.microsoft.com/en-us/python/api/overview/azure/ml/intro?view=azure-ml-py\" target=\"_blank\" rel=\"noopener\">Link to Documentation</a></td></tr></table>"
      ],
      "text/plain": [
       "Run(Experiment: fasttext_pipeline_endpoint,\n",
       "Id: ca4d1287-b6d8-4d8b-ab08-7fce86dfe9c0,\n",
       "Type: azureml.PipelineRun,\n",
       "Status: NotStarted)"
      ]
     },
     "execution_count": 24,
     "metadata": {},
     "output_type": "execute_result"
    }
   ],
   "source": [
    "experiment_name = 'fasttext_pipeline_endpoint'\n",
    "pipeline_run = pipeline_endpoint.submit(experiment_name=experiment_name)\n",
    "# pipeline_run.wait_for_completion()\n",
    "pipeline_run"
   ]
  },
  {
   "cell_type": "code",
   "execution_count": null,
   "metadata": {},
   "outputs": [],
   "source": []
  },
  {
   "cell_type": "code",
   "execution_count": null,
   "metadata": {},
   "outputs": [],
   "source": []
  }
 ],
 "metadata": {
  "kernelspec": {
   "display_name": "fasttext",
   "language": "python",
   "name": "fasttext"
  },
  "language_info": {
   "codemirror_mode": {
    "name": "ipython",
    "version": 3
   },
   "file_extension": ".py",
   "mimetype": "text/x-python",
   "name": "python",
   "nbconvert_exporter": "python",
   "pygments_lexer": "ipython3",
   "version": "3.6.6"
  },
  "widgets": {
   "application/vnd.jupyter.widget-state+json": {
    "state": {},
    "version_major": 2,
    "version_minor": 0
   }
  }
 },
 "nbformat": 4,
 "nbformat_minor": 4
}
