{
 "cells": [
  {
   "cell_type": "code",
   "execution_count": null,
   "metadata": {},
   "outputs": [],
   "source": [
    "import os\n",
    "\n",
    "from azureml.core import Workspace, Dataset\n",
    "from azureml.core.compute import AmlCompute, ComputeTarget\n",
    "\n",
    "from azureml.pipeline.wrapper import Module, dsl\n",
    "from azureml.pipeline.wrapper._dataset import get_global_dataset_by_path\n",
    "ws = Workspace.from_config()\n",
    "#ws = Workspace.get(name='itp-pilot', subscription_id='4aaa645c-5ae2-4ae9-a17a-84b9023bc56a', resource_group='itp-pilot-ResGrp')\n",
    "print(ws.name, ws.resource_group, ws.location, ws.subscription_id, sep='\\n')\n",
    "\n",
    "# prepare compite\n",
    "pipeline_compute = \"gpu-cluster\"\n",
    "try:\n",
    "    aml_compute = AmlCompute(ws, pipeline_compute)\n",
    "    print(\"Found existing compute target: {}\".format(pipeline_compute))\n",
    "except:\n",
    "    print(\"Creating new compute target: {}\".format(pipeline_compute))\n",
    "    \n",
    "    provisioning_config = AmlCompute.provisioning_configuration(vm_size = \"STANDARD_D2_V2\",\n",
    "                                                                min_nodes = 1, \n",
    "                                                                max_nodes = 4)    \n",
    "    aml_compute = ComputeTarget.create(ws, pipeline_compute, provisioning_config)\n",
    "    aml_compute.wait_for_completion(show_output=True, min_node_count=None, timeout_in_minutes=20)"
   ]
  },
  {
   "cell_type": "code",
   "execution_count": null,
   "metadata": {},
   "outputs": [],
   "source": [
    "# prepare module functions\n",
    "base_module_dir = os.path.join('.', 'modules', 'train-score-eval')\n",
    "try:\n",
    "    train_module_func = Module.load(ws, namespace='microsoft.com/aml/samples', name='MPI Train')\n",
    "except Exception:\n",
    "    train_module_func = Module.register(ws, yaml_file=os.path.join(base_module_dir, 'mpi_train.yaml'))\n",
    "\n",
    "\n",
    "try:\n",
    "    score_module_func = Module.load(ws, namespace='microsoft.com/aml/samples', name='Score')\n",
    "except Exception:\n",
    "    score_module_func = Module.register(ws, yaml_file=os.path.join(base_module_dir, 'score.yaml'))    \n",
    "\n",
    "    \n",
    "try:\n",
    "    eval_module_func = Module.load(ws, namespace='microsoft.com/aml/samples', name='Evaluate')\n",
    "except Exception:\n",
    "    eval_module_func = Module.register(ws, yaml_file=os.path.join(base_module_dir, 'evaluate.yaml'))    \n",
    "    \n",
    "\n",
    "try:\n",
    "    compare_module_func = Module.load(ws, namespace='microsoft.com/aml/samples', name='Compare 2 Models')\n",
    "except Exception:\n",
    "    compare_module_func = Module.register(ws, yaml_file=os.path.join(base_module_dir, 'compare2.yaml'))    "
   ]
  },
  {
   "cell_type": "code",
   "execution_count": null,
   "metadata": {},
   "outputs": [],
   "source": [
    "# prepare dataset\n",
    "training_data_name = 'aml_module_training_data'\n",
    "\n",
    "if training_data_name not in ws.datasets:\n",
    "    print('Registering a training dataset for sample pipeline ...')\n",
    "    train_data = Dataset.File.from_files(path=['https://dprepdata.blob.core.windows.net/demo/Titanic.csv'])\n",
    "    train_data.register(workspace=ws,\n",
    "                        name=training_data_name,\n",
    "                        description='Training data (just for illustrative purpose)')\n",
    "    print('Registerd')\n",
    "else:\n",
    "    train_data = ws.datasets[training_data_name]\n",
    "    print('Training dataset found in workspace')\n",
    "\n",
    "test_data = get_global_dataset_by_path(ws, 'Automobile_price_data', 'GenericCSV/Automobile_price_data_(Raw)')"
   ]
  },
  {
   "cell_type": "code",
   "execution_count": null,
   "metadata": {},
   "outputs": [],
   "source": [
    "@dsl.pipeline(name = 'A sub pipeline including train/score/eval',\n",
    "              description = 'train model and evaluate model perf')\n",
    "def training_pipeline(input_data, test_data, learning_rate):\n",
    "   train = train_module_func(\n",
    "       training_data=input_data,\n",
    "       max_epochs=5,\n",
    "       learning_rate=learning_rate)\n",
    "\n",
    "   train.runsettings.configure(process_count_per_node = 2, node_count = 2)\n",
    "\n",
    "   score = score_module_func(\n",
    "       model_input=train.outputs.model_output,\n",
    "       test_data=test_data)\n",
    "\n",
    "   eval = eval_module_func(scoring_result=score.outputs.score_output)\n",
    "\n",
    "   return {'eval_output': eval.outputs.eval_output, 'model_output': train.outputs.model_output}\n",
    "\n",
    "@dsl.pipeline(name = 'A dummy pipeline that trains multiple models and output the best one',\n",
    "              description = 'select best model trained with different learning rate',\n",
    "              default_compute_target = pipeline_compute)\n",
    "def dummy_automl_pipeline():\n",
    "    train_and_evalute_model1 = training_pipeline(train_data, test_data, 0.01)\n",
    "    train_and_evalute_model2 = training_pipeline(train_data, test_data, 0.02)\n",
    "\n",
    "    compare = compare_module_func(\n",
    "        model1=train_and_evalute_model1.outputs.model_output,\n",
    "        eval_result1=train_and_evalute_model1.outputs.eval_output,\n",
    "        model2=train_and_evalute_model2.outputs.model_output,\n",
    "        eval_result2=train_and_evalute_model2.outputs.eval_output\n",
    "    )\n",
    "\n",
    "    return {'best_model': compare.outputs.best_model}\n"
   ]
  },
  {
   "cell_type": "code",
   "execution_count": null,
   "metadata": {},
   "outputs": [],
   "source": [
    "pipeline = dummy_automl_pipeline()\n",
    "pipeline.validate()\n"
   ]
  },
  {
   "cell_type": "code",
   "execution_count": null,
   "metadata": {},
   "outputs": [],
   "source": [
    "pipeline.export_yaml(directory=os.path.join('.', 'data'))"
   ]
  }
 ],
 "metadata": {
  "kernelspec": {
   "display_name": "Python (aml)",
   "language": "python",
   "name": "aml"
  },
  "language_info": {
   "codemirror_mode": {
    "name": "ipython",
    "version": 3
   },
   "file_extension": ".py",
   "mimetype": "text/x-python",
   "name": "python",
   "nbconvert_exporter": "python",
   "pygments_lexer": "ipython3",
   "version": "3.6.5"
  }
 },
 "nbformat": 4,
 "nbformat_minor": 4
}
