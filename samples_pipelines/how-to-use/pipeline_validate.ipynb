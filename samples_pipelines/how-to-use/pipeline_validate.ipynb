{
 "cells": [
  {
   "cell_type": "code",
   "execution_count": null,
   "metadata": {},
   "outputs": [],
   "source": [
    "import os\n",
    "from azureml.core import Workspace, Dataset\n",
    "from azureml.core.compute import AmlCompute, ComputeTarget\n",
    "from azureml.pipeline.wrapper import Module, Pipeline"
   ]
  },
  {
   "cell_type": "code",
   "execution_count": null,
   "metadata": {},
   "outputs": [],
   "source": [
    "ws = Workspace.from_config()\n",
    "print(ws.name, ws.resource_group, ws.location, ws.subscription_id, sep='\\n')\n",
    "\n",
    "aml_compute_target = \"aml-compute\"\n",
    "try:\n",
    "    aml_compute = AmlCompute(ws, aml_compute_target)\n",
    "    print(\"Found existing compute target: {}\".format(aml_compute_target))\n",
    "except:\n",
    "    print(\"Creating new compute target: {}\".format(aml_compute_target))\n",
    "\n",
    "    provisioning_config = AmlCompute.provisioning_configuration(vm_size=\"STANDARD_D2_V2\",\n",
    "                                                                min_nodes=1,\n",
    "                                                                max_nodes=4)    \n",
    "    aml_compute = ComputeTarget.create(ws, aml_compute_target, provisioning_config)\n",
    "    aml_compute.wait_for_completion(show_output=True, min_node_count=None, timeout_in_minutes=20)"
   ]
  },
  {
   "cell_type": "code",
   "execution_count": null,
   "metadata": {},
   "outputs": [],
   "source": [
    "# modules\n",
    "try:\n",
    "    ejoin_module_func = Module.load(ws, namespace='microsoft.com/bing', name='ejoin')\n",
    "except:\n",
    "    ejoin_module_func = Module.register(ws, os.path.join('modules', 'ejoin', 'amlmodule.yaml'))\n",
    "try:\n",
    "    eselect_module_func = Module.load(ws, namespace='microsoft.com/bing', name='eselect')\n",
    "except:\n",
    "    eselect_module_func = Module.register(ws, os.path.join('modules', 'eselect', 'amlmodule.yaml'))\n",
    "\n",
    "left_data_name = \"left.tsv\"\n",
    "if left_data_name not in ws.datasets:\n",
    "    print('Registering a training dataset for sample pipeline ...')\n",
    "    left_data = Dataset.File.from_files(path=['https://desginerdemo.blob.core.windows.net/demo/left.tsv'])\n",
    "    left_data.register(workspace = ws, name = left_data_name)\n",
    "    print('Registerd')\n",
    "else:\n",
    "    left_data = ws.datasets[left_data_name]\n",
    "    print('Training dataset found in workspace')\n",
    "\n",
    "right_data_name = \"right.tsv\"\n",
    "if right_data_name not in ws.datasets:\n",
    "    print('Registering a training dataset for sample pipeline ...')\n",
    "    right_data = Dataset.File.from_files(path=['https://desginerdemo.blob.core.windows.net/demo/right.tsv'])\n",
    "    right_data.register(workspace = ws, name = right_data_name)\n",
    "    print('Registerd')\n",
    "else:\n",
    "    right_data = ws.datasets[right_data_name]\n",
    "    print('Training dataset found in workspace')\n",
    "\n",
    "# datasets\n",
    "input1 = Dataset.get_by_name(ws, left_data_name)\n",
    "input2 = Dataset.get_by_name(ws, right_data_name)"
   ]
  },
  {
   "cell_type": "code",
   "execution_count": null,
   "metadata": {},
   "outputs": [],
   "source": [
    "# steps\n",
    "ejoin = ejoin_module_func().set_parameters(\n",
    "    leftcolumns='m:query;querId',\n",
    "    rightcolumns='Market',\n",
    "    leftkeys='m:query',\n",
    "    rightkeys='m:Query',\n",
    "    jointype='HashInner'\n",
    ").set_inputs(\n",
    "    left_input=input1,\n",
    "    right_input=input2\n",
    ")\n",
    "\n",
    "eselect = eselect_module_func(\n",
    "    columns='m:query;Market',\n",
    "    input=ejoin.outputs.ejoin_output\n",
    ")\n",
    "\n",
    "# pipeline\n",
    "pipeline = Pipeline(nodes=[ejoin, eselect], outputs=eselect.outputs, default_compute_target=\"aml-compute\")"
   ]
  },
  {
   "cell_type": "code",
   "execution_count": null,
   "metadata": {
    "scrolled": false
   },
   "outputs": [],
   "source": [
    "# Graph/module validation and visualization with .validate() function\n",
    "graph = pipeline.validate()\n",
    "graph"
   ]
  }
 ],
 "metadata": {
  "file_extension": ".py",
  "kernelspec": {
   "display_name": "aml",
   "language": "python",
   "name": "aml"
  },
  "language_info": {
   "codemirror_mode": {
    "name": "ipython",
    "version": 3
   },
   "file_extension": ".py",
   "mimetype": "text/x-python",
   "name": "python",
   "nbconvert_exporter": "python",
   "pygments_lexer": "ipython3",
   "version": "3.7.6"
  },
  "mimetype": "text/x-python",
  "name": "python",
  "npconvert_exporter": "python",
  "pygments_lexer": "ipython3",
  "version": 3
 },
 "nbformat": 4,
 "nbformat_minor": 2
}
