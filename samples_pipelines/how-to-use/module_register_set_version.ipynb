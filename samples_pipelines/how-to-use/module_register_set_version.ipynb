{
 "metadata": {
  "language_info": {
   "codemirror_mode": {
    "name": "ipython",
    "version": 3
   },
   "file_extension": ".py",
   "mimetype": "text/x-python",
   "name": "python",
   "nbconvert_exporter": "python",
   "pygments_lexer": "ipython3",
   "version": "3.6.10-final"
  },
  "orig_nbformat": 2,
  "kernelspec": {
   "name": "python_defaultSpec_1597827360755",
   "display_name": "Python 3.6.10 64-bit ('sdk_test': conda)"
  }
 },
 "nbformat": 4,
 "nbformat_minor": 2,
 "cells": [
  {
   "cell_type": "markdown",
   "metadata": {},
   "source": [
    "## Register the generated spec with specific version"
   ]
  },
  {
   "cell_type": "code",
   "execution_count": 15,
   "metadata": {
    "tags": []
   },
   "outputs": [
    {
     "output_type": "stream",
     "name": "stdout",
     "text": "{Registered new version 1, but the module default version kept to be 000004.\nUse \"az ml module set-default-version\" or \"az ml module register --set-as-default-version\" to set default version.\n\n  \"contact\": null,\n  \"description\": null,\n  \"helpDocument\": null,\n  \"lastUpdatedOn\": \"2020-08-17T05:35:32.6351276Z\",\n  \"moduleID\": \"54dd1a49-7384-4aca-958f-2481e0d5b289\",\n  \"name\": \"Basic Module\",\n  \"namespace\": \"DesignerTest-EUS\",\n  \"registeredBy\": \"Han Wang\",\n  \"registeredOn\": \"2020-08-17T05:25:01.2746294Z\",\n  \"shared_scope\": \"Workspace\",\n  \"source\": \"Local files\",\n  \"status\": \"Disabled\",\n  \"tags\": null,\n  \"type\": \"Basic\",\n  \"version\": \"1\",\n  \"versions\": \"12345, 000001, 000002, 000003, 000004 (Default), 000005, 1\",\n  \"yamlLink\": \"basic_module.spec.yaml\"\n}\n"
    }
   ],
   "source": [
    "# register from local yaml\n",
    "!az ml module register --spec-file authoring/basic_module/basic_module.spec.yaml --set-version 1 --subscription-id 4faaaf21-663f-4391-96fd-47197c630979 -g DesignerTestRG -w DesignerTest-EUS"
   ]
  },
  {
   "cell_type": "code",
   "execution_count": 16,
   "metadata": {
    "tags": []
   },
   "outputs": [
    {
     "output_type": "stream",
     "name": "stdout",
     "text": "{\n  \"contact\": null,\n  \"description\": \"Basic module for demo.\\nNo `type` specified in spec and will defaults to 'Basic'.\\nDemos how to specify an environment from a pre-built docker image.\\n\",\n  \"helpDocument\": null,Registered new version 1, but the module default version kept to be 0.0.2.\nUse \"az ml module set-default-version\" or \"az ml module register --set-as-default-version\" to set default version.\n\n  \"lastUpdatedOn\": \"2020-08-17T05:39:13.3316599Z\",\n  \"moduleID\": \"833bf3cd-eead-4b89-91cb-d30aaf2d5379\",\n  \"name\": \"Basic Module\",\n  \"namespace\": \"example.com/modules\",\n  \"registeredBy\": \"Han Wang\",\n  \"registeredOn\": \"2020-06-23T05:49:20.6041839Z\",\n  \"shared_scope\": \"Workspace\",\n  \"source\": \"Github repo\",\n  \"status\": \"Active\",\n  \"tags\": null,\n  \"type\": \"Basic\",\n  \"version\": \"1\",\n  \"versions\": \"0.0.2 (Default), 12345, 1\",\n  \"yamlLink\": \"https://github.com/sherry1989/sample_modules/blob/master/3_basic_module/basic_module.yaml\"\n}\n"
    }
   ],
   "source": [
    "# register from github\n",
    "!az ml module register --spec-file https://github.com/sherry1989/sample_modules/blob/master/3_basic_module/basic_module.yaml --set-version 1 --subscription-id 4faaaf21-663f-4391-96fd-47197c630979 -g DesignerTestRG -w DesignerTest-EUS"
   ]
  },
  {
   "cell_type": "markdown",
   "metadata": {},
   "source": [
    "## Register the module with sdk's API"
   ]
  },
  {
   "cell_type": "code",
   "execution_count": 17,
   "metadata": {
    "tags": []
   },
   "outputs": [
    {
     "output_type": "execute_result",
     "data": {
      "text/plain": "<function [module] Basic Module (namespace: DesignerTest-EUS)(*, input_dir:\"['AnyDirectory']\"=None, str_param:'str'='some_string')>"
     },
     "metadata": {},
     "execution_count": 17
    }
   ],
   "source": [
    "from azureml.pipeline.wrapper import Module\n",
    "from azureml.core import Workspace\n",
    "\n",
    "workspace = Workspace.from_config(path='./config.json')\n",
    "Module.register(workspace=workspace, yaml_file=\"authoring/basic_module/basic_module.spec.yaml\", version='2')"
   ]
  },
  {
   "cell_type": "markdown",
   "metadata": {},
   "source": [
    "## Check if module with version is registered"
   ]
  },
  {
   "cell_type": "code",
   "execution_count": 18,
   "metadata": {
    "tags": []
   },
   "outputs": [
    {
     "output_type": "stream",
     "name": "stdout",
     "text": "{\n  \"contact\": null,\n  \"description\": null,\n  \"helpDocument\": null,\n  \"lastUpdatedOn\": \"2020-08-17T05:39:21.4040239Z\",\n  \"moduleID\": \"20298e2b-c380-497f-947a-ad1b200d9494\",\n  \"name\": \"Basic Module\",\n  \"namespace\": \"DesignerTest-EUS\",\n  \"registeredBy\": \"Han Wang\",\n  \"registeredOn\": \"2020-08-17T05:25:01.2746294Z\",\n  \"shared_scope\": \"Workspace\",\n  \"source\": \"Local files\",\n  \"status\": \"Disabled\",\n  \"tags\": null,\n  \"type\": \"Basic\",\n  \"version\": \"000004\",\n  \"versions\": \"12345, 000001, 000002, 000003, 000004 (Default), 000005, 1, 2\",\n  \"yamlLink\": \"basic_module.spec.yaml\"\n}\n"
    }
   ],
   "source": [
    "!az ml module show --name \"Basic Module\" --namespace \"DesignerTest-EUS\" --subscription-id 4faaaf21-663f-4391-96fd-47197c630979 -g DesignerTestRG -w DesignerTest-EUS"
   ]
  }
 ]
}