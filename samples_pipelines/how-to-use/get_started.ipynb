{
 "cells": [
  {
   "cell_type": "code",
   "execution_count": null,
   "metadata": {},
   "outputs": [],
   "source": [
    "# Initialization Steps\n",
    "from azureml.core import Workspace, Dataset, Datastore\n",
    "from azureml.core.compute import AmlCompute, ComputeTarget\n",
    "from azureml.pipeline.wrapper import Module, Pipeline\n",
    "\n",
    "ws = Workspace.from_config()\n",
    "print(ws.name, ws.resource_group, ws.location, ws.subscription_id, sep = '\\n')\n",
    "\n",
    "aml_compute_target = \"aml-compute\"\n",
    "try:\n",
    "    aml_compute = AmlCompute(ws, aml_compute_target)\n",
    "    print(\"Found existing compute target: {}\".format(aml_compute_target))\n",
    "except:\n",
    "    print(\"Creating new compute target: {}\".format(aml_compute_target))\n",
    "    \n",
    "    provisioning_config = AmlCompute.provisioning_configuration(vm_size = \"STANDARD_D2_V2\",\n",
    "                                                                min_nodes = 1, \n",
    "                                                                max_nodes = 4)    \n",
    "    aml_compute = ComputeTarget.create(ws, aml_compute_target, provisioning_config)\n",
    "    aml_compute.wait_for_completion(show_output=True, min_node_count=None, timeout_in_minutes=20)"
   ]
  },
  {
   "cell_type": "code",
   "execution_count": null,
   "metadata": {},
   "outputs": [],
   "source": [
    "# modules\n",
    "import os\n",
    "try:\n",
    "    ejoin_module_func = Module.load(ws, namespace='microsoft.com/bing', name='ejoin')\n",
    "    eselect_module_func = Module.load(ws, namespace='microsoft.com/bing', name='eselect')\n",
    "except:\n",
    "    ejoin_module_func = Module.register(ws, os.path.join('modules', 'ejoin', 'amlmodule.yaml'))\n",
    "    eselect_module_func = Module.register(ws, os.path.join('modules', 'eselect', 'amlmodule.yaml'))\n",
    "    \n",
    "training_data_name = \"Titanic.tsv\"\n",
    "if training_data_name not in ws.datasets:\n",
    "    print('Registering a training dataset for sample pipeline ...')\n",
    "    train_data = Dataset.File.from_files(path=['https://desginerdemo.blob.core.windows.net/demo/titanic.tsv'])\n",
    "    train_data.register(workspace = ws, \n",
    "                              name = training_data_name, \n",
    "                              description = 'Training data (just for illustrative purpose)')\n",
    "    print('Registerd')\n",
    "else:\n",
    "    train_data = ws.datasets[training_data_name]\n",
    "    print('Training dataset found in workspace')\n",
    "\n",
    "# datasets\n",
    "input1 = Dataset.get_by_name(ws, training_data_name)\n",
    "input2 = Dataset.get_by_name(ws, training_data_name)"
   ]
  },
  {
   "cell_type": "markdown",
   "metadata": {},
   "source": [
    "The created module_func has dynamic generated signature. Press shift-tab in Jupyter will get:\n",
    "\n",
    " ![Signature](docs/jupyter_signature.jpg)\n",
    "\n",
    "User can auto complete the paramters by press tab in Jupyter:\n",
    "\n",
    " ![AutoComplete](docs/jupyter_autocomplete.jpg)\n"
   ]
  },
  {
   "cell_type": "code",
   "execution_count": null,
   "metadata": {},
   "outputs": [],
   "source": [
    "import inspect\n",
    "# module function has dynamic generated signature\n",
    "print(inspect.signature(ejoin_module_func))\n",
    "\n",
    "# use shift-tab to show signature, tab to auto-completion. This works in jupyter but has some issue in Vscode.\n",
    "ejoin = ejoin_module_func()"
   ]
  },
  {
   "cell_type": "code",
   "execution_count": null,
   "metadata": {},
   "outputs": [],
   "source": [
    "# steps\n",
    "ejoin = ejoin_module_func(\n",
    "    leftcolumns='Survived;Pclass;Name',\n",
    "    rightcolumns='Sex;Age;SibSp;Parch;Ticket;Fare;Cabin;Embarked',\n",
    "    leftkeys='PassengerId',\n",
    "    rightkeys='PassengerId',\n",
    "    jointype='HashInner',\n",
    "    left_input=input1,\n",
    "    right_input=input2\n",
    ")\n",
    "\n",
    "eselect = eselect_module_func(\n",
    "    columns='Survived;Name;Sex;Age',\n",
    "    input=ejoin.outputs.ejoin_output\n",
    ")\n",
    "\n",
    "# pipeline\n",
    "pipeline = Pipeline(nodes=[ejoin, eselect], outputs=eselect.outputs, default_compute_target='aml-compute')\n",
    "pipeline.validate()"
   ]
  },
  {
   "cell_type": "markdown",
   "metadata": {},
   "source": [
    "The created module also provide builder style functions to help user change module setting.\n",
    "- set_parameters\n",
    "- set_inputs\n",
    "- inputs.configure\n",
    "- outputs.configure\n",
    "- runsettings.configure\n",
    "\n",
    "There function also has dynamic generated signature. For exmaple: Press shift-tab in Jupyter will get:\n",
    "\n",
    " ![Signature](docs/jupyter_signature_set_parameters.jpg)\n"
   ]
  },
  {
   "cell_type": "code",
   "execution_count": null,
   "metadata": {},
   "outputs": [],
   "source": [
    "import inspect\n",
    "\n",
    "ejoin = ejoin_module_func()\n",
    "# module function has dynamic generated signature\n",
    "print(inspect.signature(ejoin.set_parameters))\n",
    "\n",
    "# use shift-tab to show signature, tab to auto-completion. This works in jupyter but has some issue in Vscode.\n",
    "ejoin.set_parameters()"
   ]
  },
  {
   "cell_type": "code",
   "execution_count": null,
   "metadata": {},
   "outputs": [],
   "source": [
    "# builder pattern to build module step\n",
    "ejoin = ejoin_module_func().set_parameters(\n",
    "    leftcolumns='Survived;Pclass;Name',\n",
    "    rightcolumns='Sex;Age;SibSp;Parch;Ticket;Fare;Cabin;Embarked',\n",
    "    leftkeys='PassengerId',\n",
    "    rightkeys='PassengerId',\n",
    "    jointype='HashInner'\n",
    ").set_inputs(\n",
    "    left_input=input1,\n",
    "    right_input=input2\n",
    ")\n",
    "\n",
    "# Configure inputs\n",
    "ejoin.inputs.leftinput.configure(mode='mount')\n",
    "print(ejoin.inputs.leftinput.mode)\n",
    "\n",
    "# Configure outputs\n",
    "ejoin.outputs.ejoin_output.configure(output_mode='mount', datastore=Datastore(ws, name=\"myownblob\"))\n",
    "\n",
    "print(ejoin.outputs.ejoin_output.output_mode)\n",
    "print(ejoin.outputs.ejoin_output.datastore.name)\n",
    "\n",
    "eselect = eselect_module_func(\n",
    "    columns='Survived;Name;Sex;Age',\n",
    "    input=ejoin.outputs.ejoin_output\n",
    ")\n",
    "\n",
    "# pipeline\n",
    "pipeline1 = Pipeline(nodes=[ejoin, eselect], outputs=eselect.outputs, default_compute_target='aml-compute')"
   ]
  },
  {
   "cell_type": "code",
   "execution_count": null,
   "metadata": {},
   "outputs": [],
   "source": [
    "pipeline.validate()"
   ]
  },
  {
   "cell_type": "code",
   "execution_count": null,
   "metadata": {},
   "outputs": [],
   "source": [
    "run = pipeline.submit(\n",
    "    experiment_name='module_SDK_test',\n",
    ")\n",
    "\n",
    "run.wait_for_completion()\n",
    "\n",
    "pipeline.save(\n",
    "    experiment_name='module_SDK_test'\n",
    ")"
   ]
  }
 ],
 "metadata": {
  "authors": [
   {
    "name": "clwan"
   }
  ],
  "file_extension": ".py",
  "kernelspec": {
   "display_name": "aml",
   "language": "python",
   "name": "aml"
  },
  "language_info": {
   "codemirror_mode": {
    "name": "ipython",
    "version": 3
   },
   "file_extension": ".py",
   "mimetype": "text/x-python",
   "name": "python",
   "nbconvert_exporter": "python",
   "pygments_lexer": "ipython3",
   "version": "3.7.6"
  },
  "mimetype": "text/x-python",
  "name": "python",
  "npconvert_exporter": "python",
  "pygments_lexer": "ipython3",
  "version": 3
 },
 "nbformat": 4,
 "nbformat_minor": 2
}
