{
 "cells": [
  {
   "cell_type": "markdown",
   "metadata": {},
   "source": [
    "Copyright (c) Microsoft Corporation. All rights reserved.  \n",
    "Licensed under the MIT License."
   ]
  },
  {
   "cell_type": "markdown",
   "metadata": {},
   "source": [
    "![Impressions](https://PixelServer20190423114238.azurewebsites.net/api/impressions/MachineLearningNotebooks/how-to-use-azureml/machine-learning-pipelines/intro-to-pipelines/aml-pipelines-setup-versioned-pipeline-endpoints.png)"
   ]
  },
  {
   "cell_type": "markdown",
   "metadata": {},
   "source": [
    "\n",
    "# How to Setup a PipelineEndpoint and Submit a Pipeline Using the PipelineEndpoint.\n",
    "\n",
    "In this notebook, we provide an introduction to Azure machine learning PipelineEndpoints. It covers:\n",
    "* [Create PipelineEndpoint](#Create-PipelineEndpoint), How to create PipelineEndpoint.\n",
    "* [Retrieving PipelineEndpoint](#Retrieving-PipelineEndpoint), How to get specific PipelineEndpoint from worskpace by name/Id and get all [PipelineEndpoints](#Get-all-PipelineEndpoints-in-workspace) within workspace.\n",
    "* [PipelineEndpoint Properties](#PipelineEndpoint-properties). How to get and set PipelineEndpoint properties, such as default version of PipelineEndpoint.\n",
    "* [PipelineEndpoint Submission](#PipelineEndpoint-Submission). How to run a Pipeline using PipelineEndpoint."
   ]
  },
  {
   "cell_type": "markdown",
   "metadata": {
    "pycharm": {
     "name": "#%% md\n"
    }
   },
   "source": [
    "### Prerequisites\n",
    "\n",
    "* Install azure cli with azure-cli-ml extension following the [instructions here](setup-environment.ipynb)."
   ]
  },
  {
   "cell_type": "markdown",
   "metadata": {},
   "source": [
    "### Setup workspace\n",
    "Login to azure with cli and set the default workspace using `az ml folder attach` command.\n",
    "\n",
    "After this operation, the workspace could be retrived with the `Workspace.from_config()` for SDK usage."
   ]
  },
  {
   "cell_type": "code",
   "execution_count": null,
   "metadata": {
    "pycharm": {
     "name": "#%%\n"
    }
   },
   "outputs": [],
   "source": [
    "# NOTE: Update the following information with your environment\n",
    "\n",
    "SUBSCRIPTION_ID = '<your subscription ID>'\n",
    "WORKSPACE_NAME = '<your workspace name>'\n",
    "RESOURCE_GROUP_NAME = '<your resource group>'"
   ]
  },
  {
   "cell_type": "code",
   "execution_count": null,
   "metadata": {
    "pycharm": {
     "name": "#%%\n"
    }
   },
   "outputs": [],
   "source": [
    "!az login -o none \n",
    "!az account set -s $SUBSCRIPTION_ID \n",
    "!az ml folder attach -w $WORKSPACE_NAME -g $RESOURCE_GROUP_NAME "
   ]
  },
  {
   "cell_type": "code",
   "execution_count": null,
   "metadata": {},
   "outputs": [],
   "source": [
    "from azureml.core import Workspace\n",
    "\n",
    "ws = Workspace.from_config()"
   ]
  },
  {
   "cell_type": "markdown",
   "metadata": {
    "pycharm": {
     "name": "#%% md\n"
    }
   },
   "source": [
    "###  Create PipelineEndpoint\n",
    "Following are required input parameters to create PipelineEndpoint:\n",
    "\n",
    "* *workspace*: AML workspace.\n",
    "* *name*: name of PipelineEndpoint, it is unique within workspace.\n",
    "* *description*: description details for PipelineEndpoint.\n",
    "* *pipeline*: A Pipeline or PipelineRun, to set default version of PipelineEndpoint.\n",
    "* *set_as_default*: whether set current *pipeline* as the default pipeline for created PipelineEndpoint."
   ]
  },
  {
   "cell_type": "markdown",
   "metadata": {},
   "source": [
    "#### Initialization, Steps to create a Pipeline\n"
   ]
  },
  {
   "cell_type": "code",
   "execution_count": null,
   "metadata": {
    "pycharm": {
     "name": "#%%\n"
    }
   },
   "outputs": [],
   "source": [
    "from azureml.core.compute import AmlCompute, ComputeTarget\n",
    "from azureml.core.compute_target import ComputeTargetException\n",
    "from azureml.core import Dataset\n",
    "from azureml.pipeline.wrapper import Module, Pipeline\n",
    "\n",
    "# Define a single step pipeline for demonstration purpose.\n",
    "def single_node_pipeline(workspace):\n",
    "    \"\"\"\n",
    "    Define a single step pipeline for demonstration purpose.\n",
    "\n",
    "    :param workspace: The workspace the published pipeline was created in.\n",
    "    :type workspace: azureml.core.Workspace\n",
    "    \"\"\"\n",
    "    # Retrieve an already attached Azure Machine Learning Compute.\n",
    "    cluster_name = \"cpu-cluster\"\n",
    "    try:\n",
    "        compute_target = ComputeTarget(workspace=workspace, name=cluster_name)\n",
    "        print('Found existing compute target {}.'.format(cluster_name))\n",
    "    except ComputeTargetException:\n",
    "        print('Creating a new compute target...')\n",
    "        compute_config = AmlCompute.provisioning_configuration(vm_size=\"Standard_D2_v2\",\n",
    "                                                               max_nodes=4)\n",
    "\n",
    "        compute_target = ComputeTarget.create(workspace, cluster_name, compute_config)\n",
    "        compute_target.wait_for_completion(show_output=True, timeout_in_minutes=20)\n",
    "\n",
    "    print(\"Azure Machine Learning Compute attached\")\n",
    "\n",
    "    # load Module\n",
    "    execute_python_script_module = Module.load(workspace, namespace='azureml', name='Execute Python Script')\n",
    "\n",
    "    # get dataset\n",
    "    training_data_name = 'aml_module_training_data'\n",
    "\n",
    "    if training_data_name not in workspace.datasets:\n",
    "        print('Registering a training dataset for sample pipeline ...')\n",
    "        train_data = Dataset.File.from_files(path=['https://dprepdata.blob.core.windows.net/demo/Titanic.csv'])\n",
    "        train_data.register(workspace=workspace,\n",
    "                            name=training_data_name,\n",
    "                            description='Training data (just for illustrative purpose)')\n",
    "        print('Dataset registered')\n",
    "\n",
    "    train_data = Dataset.get_by_name(workspace, name=training_data_name)\n",
    "\n",
    "    # define a module\n",
    "    print('Creating a Module for sample pipeline ...')\n",
    "    module = execute_python_script_module(dataset1=train_data)\n",
    "    print(\"Module created\")\n",
    "\n",
    "    # define a pipeline\n",
    "    pipeline = Pipeline(nodes=[module],\n",
    "                        workspace=workspace,\n",
    "                        name=\"test-pipeline\",\n",
    "                        description=\"test pipeline for pipeline-endpoint test\",\n",
    "                        default_compute_target=cluster_name)\n",
    "    print(\"Pipeline is built\")\n",
    "\n",
    "    return pipeline\n",
    "pipeline = single_node_pipeline(workspace=ws)"
   ]
  },
  {
   "cell_type": "markdown",
   "metadata": {
    "pycharm": {
     "name": "#%% md\n"
    }
   },
   "source": [
    "#### Create a PipelineRun\n",
    "A PipelineRun can be created by submitting a Pipeline."
   ]
  },
  {
   "cell_type": "code",
   "execution_count": null,
   "metadata": {
    "pycharm": {
     "name": "#%%\n"
    }
   },
   "outputs": [],
   "source": [
    "experiment_name = \"PipelineEndpointTestExperiment\"\n",
    "\n",
    "pipeline_run = pipeline.submit(experiment_name=experiment_name)"
   ]
  },
  {
   "cell_type": "markdown",
   "metadata": {
    "pycharm": {
     "name": "#%% md\n"
    }
   },
   "source": [
    "#### Publish PipelineEndpoint\n",
    "Create PipelineEndpoint using Pipeline with required parameters: workspace, name, description, pipeline and set_as_default."
   ]
  },
  {
   "cell_type": "code",
   "execution_count": null,
   "metadata": {
    "pycharm": {
     "name": "#%%\n"
    }
   },
   "outputs": [],
   "source": [
    "from azureml.pipeline.wrapper import PipelineEndpoint\n",
    "\n",
    "pipeline_endpoint = PipelineEndpoint.publish(workspace=ws, name=\"PipelineEndpointTest\",\n",
    "                                             pipeline=pipeline, description=\"Test description Notebook\", \n",
    "                                             set_as_default=True)\n",
    "\n",
    "pipeline_endpoint"
   ]
  },
  {
   "cell_type": "markdown",
   "metadata": {},
   "source": [
    "Create PipelineEndpoint using PipelineRun with required parameters: workspace, name, description, pipeline and set_as_default."
   ]
  },
  {
   "cell_type": "code",
   "execution_count": null,
   "metadata": {},
   "outputs": [],
   "source": [
    "pipeline_endpoint = PipelineEndpoint.publish(workspace=ws, name=\"PipelineEndpointTest\",\n",
    "                                             pipeline=pipeline_run, description=\"Test description Notebook\", \n",
    "                                             set_as_default=True)\n",
    "\n",
    "pipeline_endpoint"
   ]
  },
  {
   "cell_type": "markdown",
   "metadata": {},
   "source": [
    "### Retrieving PipelineEndpoint\n",
    "\n",
    "PipelineEndpoint is uniquely defined by name and id within workspace. PipelineEndpoint in workspace can be retrived by Id or by name."
   ]
  },
  {
   "cell_type": "markdown",
   "metadata": {
    "pycharm": {
     "name": "#%% md\n"
    }
   },
   "source": [
    "#### Get PipelineEndpoint by Name\n",
    "\n"
   ]
  },
  {
   "cell_type": "code",
   "execution_count": null,
   "metadata": {
    "pycharm": {
     "name": "#%%\n"
    }
   },
   "outputs": [],
   "source": [
    "pipeline_endpoint_by_name = PipelineEndpoint.get(workspace=ws, name=\"PipelineEndpointTest\")\n",
    "pipeline_endpoint_by_name"
   ]
  },
  {
   "cell_type": "markdown",
   "metadata": {
    "pycharm": {
     "name": "#%% md\n"
    }
   },
   "source": [
    "#### Get PipelineEndpoint by Id\n"
   ]
  },
  {
   "cell_type": "code",
   "execution_count": null,
   "metadata": {
    "pycharm": {
     "name": "#%%\n"
    }
   },
   "outputs": [],
   "source": [
    "#get the PipelineEndpoint Id\n",
    "pipeline_endpoint_by_name = PipelineEndpoint.get(workspace=ws, name=\"PipelineEndpointTest\")\n",
    "endpoint_id = pipeline_endpoint_by_name.id\n",
    "\n",
    "pipeline_endpoint_by_id = PipelineEndpoint.get(workspace=ws, id=endpoint_id)\n",
    "pipeline_endpoint_by_id"
   ]
  },
  {
   "cell_type": "markdown",
   "metadata": {},
   "source": [
    "#### Get all PipelineEndpoints in workspace\n",
    "Returns all PipelineEndpoints within a workspace, "
   ]
  },
  {
   "cell_type": "code",
   "execution_count": null,
   "metadata": {
    "pycharm": {
     "name": "#%%\n"
    }
   },
   "outputs": [],
   "source": [
    "endpoint_list = PipelineEndpoint.list(workspace=ws, active_only=True)\n",
    "endpoint_list"
   ]
  },
  {
   "cell_type": "markdown",
   "metadata": {
    "pycharm": {
     "name": "#%% md\n"
    }
   },
   "source": [
    "### PipelineEndpoint properties"
   ]
  },
  {
   "cell_type": "markdown",
   "metadata": {},
   "source": [
    "#### Default Version of PipelineEndpoint\n",
    "Default version of PipelineEndpoint starts from \"0\" and increments on addition of pipelines."
   ]
  },
  {
   "cell_type": "markdown",
   "metadata": {
    "pycharm": {
     "name": "#%% md\n"
    }
   },
   "source": [
    "####  Set default version "
   ]
  },
  {
   "cell_type": "code",
   "execution_count": null,
   "metadata": {
    "pycharm": {
     "name": "#%%\n"
    }
   },
   "outputs": [],
   "source": [
    "pipeline_endpoint_by_name.set_default_version(version=\"0\")"
   ]
  },
  {
   "cell_type": "markdown",
   "metadata": {},
   "source": [
    "#### Get all pipeline versions in PipelineEndpoint\n",
    "Returns a dictionary of published pipelines and its versions, with format {version: pipeline}.\n",
    "\n",
    "*active_only* parameter dicedes whether to return only active pipelines."
   ]
  },
  {
   "cell_type": "code",
   "execution_count": null,
   "metadata": {},
   "outputs": [],
   "source": [
    "pipelines_list = pipeline_endpoint_by_name.list_pipelines(active_only=True)\n",
    "\n",
    "pipelines_list"
   ]
  },
  {
   "cell_type": "markdown",
   "metadata": {},
   "source": [
    "#### Change PipelineEndpoint status"
   ]
  },
  {
   "cell_type": "markdown",
   "metadata": {
    "pycharm": {
     "name": "#%% md\n"
    }
   },
   "source": [
    "##### Disable PipelineEndpoint"
   ]
  },
  {
   "cell_type": "code",
   "execution_count": null,
   "metadata": {
    "pycharm": {
     "name": "#%%\n"
    }
   },
   "outputs": [],
   "source": [
    "pipeline_endpoint_by_name.disable()\n",
    "print(pipeline_endpoint_by_name.status)"
   ]
  },
  {
   "cell_type": "markdown",
   "metadata": {
    "pycharm": {
     "name": "#%% md\n"
    }
   },
   "source": [
    "##### Enable PipelineEndpoint"
   ]
  },
  {
   "cell_type": "code",
   "execution_count": null,
   "metadata": {
    "pycharm": {
     "name": "#%%\n"
    }
   },
   "outputs": [],
   "source": [
    "pipeline_endpoint_by_name.enable()\n",
    "print(pipeline_endpoint_by_name.status)"
   ]
  },
  {
   "cell_type": "markdown",
   "metadata": {},
   "source": [
    "### PipelineEndpoint Submission\n",
    "PipelineEndpoint triggers specific versioned pipeline or default pipeline by:\n",
    "* Submit call\n",
    "* Rest Endpoint"
   ]
  },
  {
   "cell_type": "markdown",
   "metadata": {
    "pycharm": {
     "name": "#%% md\n"
    }
   },
   "source": [
    "#### Run Pipeline by Submit call of PipelineEndpoint \n",
    "Run default pipeline using Submit api of PipelineEndpoint"
   ]
  },
  {
   "cell_type": "code",
   "execution_count": null,
   "metadata": {
    "pycharm": {
     "name": "#%%\n"
    }
   },
   "outputs": [],
   "source": [
    "run_submitted_by_pipeline_endpoint = pipeline_endpoint_by_name.submit(experiment_name=\"test_submit_by_pipeline_endpoint\")\n",
    "\n",
    "run_submitted_by_pipeline_endpoint"
   ]
  },
  {
   "cell_type": "markdown",
   "metadata": {
    "pycharm": {
     "name": "#%% md\n"
    }
   },
   "source": [
    "#### Run Pipeline by endpoint property of PipelineEndpoint\n",
    "Run pipeline using endpoint property of PipelineEndpoint and executing http post."
   ]
  },
  {
   "cell_type": "code",
   "execution_count": null,
   "metadata": {},
   "outputs": [],
   "source": [
    "# endpoint with id \n",
    "rest_endpoint_id = pipeline_endpoint_by_name.endpoint\n",
    "\n",
    "# for default version pipeline\n",
    "rest_endpoint_id_without_version_with_id = rest_endpoint_id\n",
    "\n",
    "# for specific version pipeline just append version info\n",
    "version=\"0\"\n",
    "rest_endpoint_id_with_version = rest_endpoint_id_without_version_with_id+\"/\"+ version\n",
    "\n",
    "print(rest_endpoint_id_with_version)"
   ]
  },
  {
   "cell_type": "code",
   "execution_count": null,
   "metadata": {
    "pycharm": {
     "name": "#%%\n"
    }
   },
   "outputs": [],
   "source": [
    "# endpoint with name\n",
    "rest_endpoint_name = rest_endpoint_id.split(\"Id\", 1)[0] + \"Name?name=\" + pipeline_endpoint_by_name.name\n",
    "\n",
    "# for default version pipeline\n",
    "rest_endpoint_name_without_version = rest_endpoint_name\n",
    "\n",
    "# for specific version pipeline just append version info\n",
    "version=\"0\"\n",
    "rest_endpoint_name_with_version = rest_endpoint_name_without_version+\"&pipelineVersion=\"+ version\n",
    "\n",
    "print(rest_endpoint_name_with_version)"
   ]
  },
  {
   "cell_type": "markdown",
   "metadata": {
    "pycharm": {
     "name": "#%% md\n"
    }
   },
   "source": [
    "[This notebook](https://aka.ms/pl-restep-auth) shows how to authenticate to AML workspace."
   ]
  },
  {
   "cell_type": "code",
   "execution_count": null,
   "metadata": {},
   "outputs": [],
   "source": [
    "from azureml.core.authentication import InteractiveLoginAuthentication\n",
    "import requests\n",
    "\n",
    "auth = InteractiveLoginAuthentication()\n",
    "aad_token = auth.get_authentication_header()\n",
    "\n",
    "print(\"You can perform HTTP POST on URL {} to trigger this pipeline\".format(rest_endpoint_name_with_version))\n",
    "\n",
    "# specify the param when running the pipeline, post uro can both be rest_endpoint_name_with_version and rest_endpoint_id_with_version\n",
    "response = requests.post(rest_endpoint_name_with_version, \n",
    "                         headers=aad_token, \n",
    "                         json={\"ExperimentName\": \"default_pipeline\",\n",
    "                               \"RunSource\": \"SDK\",\n",
    "                               \"ParameterAssignments\": {\"1\": \"united\", \"2\":\"city\"}})\n",
    "# or\n",
    "# response = requests.post(rest_endpoint_id_with_version, \n",
    "#                          headers=aad_token, \n",
    "#                          json={\"ExperimentName\": \"default_pipeline\",\n",
    "#                                \"RunSource\": \"SDK\",\n",
    "#                                \"ParameterAssignments\": {\"1\": \"united\", \"2\":\"city\"}})"
   ]
  },
  {
   "cell_type": "code",
   "execution_count": null,
   "metadata": {},
   "outputs": [],
   "source": [
    "try:\n",
    "    response.raise_for_status()\n",
    "except Exception:    \n",
    "    raise Exception('Received bad response from the endpoint: {}\\n'\n",
    "                    'Response Code: {}\\n'\n",
    "                    'Headers: {}\\n'\n",
    "                    'Content: {}'.format(rest_endpoint_name_with_version, response.status_code, response.headers, response.content))\n",
    "\n",
    "run_id = response.json().get('Id')\n",
    "\n",
    "print('Submitted pipeline run: ', run_id)"
   ]
  }
 ],
 "metadata": {
  "authors": [
   {
    "name": "sanpil"
   }
  ],
  "category": "tutorial",
  "compute": [
   "AML Compute"
  ],
  "datasets": [
   "Custom"
  ],
  "deployment": [
   "None"
  ],
  "exclude_from_index": false,
  "framework": [
   "Azure ML"
  ],
  "friendly_name": "How to setup a versioned Pipeline Endpoint",
  "kernelspec": {
   "display_name": "aml",
   "language": "python",
   "name": "aml"
  },
  "language_info": {
   "codemirror_mode": {
    "name": "ipython",
    "version": 3
   },
   "file_extension": ".py",
   "mimetype": "text/x-python",
   "name": "python",
   "nbconvert_exporter": "python",
   "pygments_lexer": "ipython3",
   "version": "3.7.6"
  },
  "order_index": 12,
  "tags": [
   "None"
  ],
  "task": "Demonstrates the use of PipelineEndpoint to run a specific version of the Published Pipeline"
 },
 "nbformat": 4,
 "nbformat_minor": 2
}