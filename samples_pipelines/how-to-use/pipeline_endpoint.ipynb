{
 "cells": [
  {
   "cell_type": "markdown",
   "metadata": {},
   "source": [
    "# PipelineEndpoint Demo"
   ]
  },
  {
   "cell_type": "code",
   "execution_count": null,
   "metadata": {},
   "outputs": [],
   "source": [
    "from azureml.pipeline.wrapper import Module, dsl\n",
    "from workspace_helpers import setup_default_workspace, load_or_register_dataset\n",
    "from azureml.pipeline.wrapper import PipelineEndpoint"
   ]
  },
  {
   "cell_type": "code",
   "execution_count": null,
   "metadata": {},
   "outputs": [],
   "source": [
    "workspace = setup_default_workspace()"
   ]
  },
  {
   "cell_type": "code",
   "execution_count": null,
   "metadata": {},
   "outputs": [],
   "source": [
    "experiment_name = \"TestPipelineEndpoint\"\n",
    "module_func = Module.load(workspace, namespace='azureml', name='Select Columns in Dataset')\n",
    "test_pipeline_endpoint_name = \"test_pipeline_endpoint\"\n",
    "test_pipeline_endpoint_id = \"b27eb28c-da34-4064-9c13-e515fdb2c71b\"\n",
    "\n",
    "blob_input_data = load_or_register_dataset(workspace, name='Automobile_price_data_(Raw)',\n",
    "                                           datastore_name='azureml_globaldatasets',\n",
    "                                           path='GenericCSV/Automobile_price_data_(Raw)')\n",
    "select_columns = \"{\\\"isFilter\\\":true,\\\"rules\\\":[{\\\"exclude\\\":true,\\\"ruleType\\\":\\\"ColumnNames\\\",\\\"columns\\\":\" \\\n",
    "                 \"[\\\"normalized-losses\\\"]}]}\"\n",
    "\n",
    "@dsl.pipeline(name='test-pipeline', default_compute_target='aml-compute')\n",
    "def test_pipeline(_select_columns):\n",
    "    module1 = module_func(\n",
    "        dataset=blob_input_data,\n",
    "        select_columns=_select_columns\n",
    "    )\n",
    "    return module1.outputs"
   ]
  },
  {
   "cell_type": "code",
   "execution_count": null,
   "metadata": {},
   "outputs": [],
   "source": [
    "pipeline = test_pipeline(_select_columns=select_columns)\n",
    "pipeline_run = pipeline.submit(experiment_name=experiment_name)"
   ]
  },
  {
   "cell_type": "markdown",
   "metadata": {
    "pycharm": {
     "name": "#%% md\n"
    }
   },
   "source": [
    "### 1. Publish\n",
    "Create a PipelineEndpoint with the specified name and pipeline/pipeline_run."
   ]
  },
  {
   "cell_type": "markdown",
   "metadata": {
    "pycharm": {
     "name": "#%% md\n"
    }
   },
   "source": [
    "#### 1.1 publish by pipeline"
   ]
  },
  {
   "cell_type": "code",
   "execution_count": null,
   "metadata": {
    "pycharm": {
     "name": "#%%\n"
    }
   },
   "outputs": [],
   "source": [
    "pipeline_endpoint_published_by_pipeline = PipelineEndpoint.publish(\n",
    "    workspace=workspace,\n",
    "    name=test_pipeline_endpoint_name,\n",
    "    set_as_default=True,\n",
    "    description=\"description_for_test_endpoint_publish\",\n",
    "    pipeline=pipeline)\n",
    "\n",
    "pipeline_endpoint_published_by_pipeline"
   ]
  },
  {
   "cell_type": "markdown",
   "metadata": {
    "pycharm": {
     "name": "#%% md\n"
    }
   },
   "source": [
    "#### 1.2 publish by pipeline_run"
   ]
  },
  {
   "cell_type": "code",
   "execution_count": null,
   "metadata": {
    "pycharm": {
     "name": "#%%\n"
    }
   },
   "outputs": [],
   "source": [
    "# pipeline_run test\n",
    "pipeline_endpoint_published_by_pipeline_run = PipelineEndpoint.publish(\n",
    "    workspace=workspace,\n",
    "    name=test_pipeline_endpoint_name,\n",
    "    set_as_default=True,\n",
    "    description=\"description_for_test_endpoint_publish\",\n",
    "    pipeline=pipeline_run\n",
    ")\n",
    "\n",
    "pipeline_endpoint_published_by_pipeline_run"
   ]
  },
  {
   "cell_type": "markdown",
   "metadata": {
    "pycharm": {
     "name": "#%% md\n"
    }
   },
   "source": [
    "### 2. Get\n",
    "Get the PipelineEndpoint by name or ID"
   ]
  },
  {
   "cell_type": "markdown",
   "metadata": {},
   "source": [
    "#### 2.1 get by id"
   ]
  },
  {
   "cell_type": "code",
   "execution_count": null,
   "metadata": {},
   "outputs": [],
   "source": [
    "endpoint_got_by_id = PipelineEndpoint.get(workspace=workspace, id=test_pipeline_endpoint_id)\n",
    "\n",
    "endpoint_got_by_id"
   ]
  },
  {
   "cell_type": "markdown",
   "metadata": {
    "pycharm": {
     "name": "#%% md\n"
    }
   },
   "source": [
    "#### 2.2 get by name"
   ]
  },
  {
   "cell_type": "code",
   "execution_count": null,
   "metadata": {},
   "outputs": [],
   "source": [
    "endpoint_got_by_name = PipelineEndpoint.get(workspace=workspace, name=test_pipeline_endpoint_name)\n",
    "\n",
    "endpoint_got_by_name"
   ]
  },
  {
   "cell_type": "markdown",
   "metadata": {
    "pycharm": {
     "name": "#%% md\n"
    }
   },
   "source": [
    "### 3. Submit\n",
    "Submit default version of endpoint."
   ]
  },
  {
   "cell_type": "code",
   "execution_count": null,
   "metadata": {},
   "outputs": [],
   "source": [
    "test_submit_experiment_name = \"test_submit_by_pipeline_endpoint\"\n",
    "pipeline_endpoint = PipelineEndpoint.get(workspace=workspace, id=test_pipeline_endpoint_id)"
   ]
  },
  {
   "cell_type": "code",
   "execution_count": null,
   "metadata": {},
   "outputs": [],
   "source": [
    "paramesters = {'_select_columns': '{\"isFilter\":true,\"rules\":[{\"exclude\":true,\"ruleType\":\"ColumnNames\",\"columns\":[\"normalized-losses\"]}]}'}\n",
    "run_submitted_by_pipeline_endpoint = pipeline_endpoint.submit(experiment_name=test_submit_experiment_name,\n",
    "                                                             parameters = paramesters)"
   ]
  },
  {
   "cell_type": "code",
   "execution_count": null,
   "metadata": {
    "pycharm": {
     "name": "#%%\n"
    }
   },
   "outputs": [],
   "source": [
    "run_submitted_by_pipeline_endpoint.tags[\"azureml.pipelineid\"]"
   ]
  },
  {
   "cell_type": "code",
   "execution_count": null,
   "metadata": {
    "pycharm": {
     "name": "#%%\n"
    }
   },
   "outputs": [],
   "source": [
    "run_submitted_by_pipeline_endpoint"
   ]
  },
  {
   "cell_type": "markdown",
   "metadata": {
    "pycharm": {
     "name": "#%% md\n"
    }
   },
   "source": [
    "### 4. List\n",
    "List active PipelineEndpoints in the current workspace."
   ]
  },
  {
   "cell_type": "code",
   "execution_count": null,
   "metadata": {
    "pycharm": {
     "name": "#%%\n"
    }
   },
   "outputs": [],
   "source": [
    "pipeline_endpoints_list = PipelineEndpoint.list(workspace=workspace, active_only=True)"
   ]
  },
  {
   "cell_type": "code",
   "execution_count": null,
   "metadata": {},
   "outputs": [],
   "source": [
    "pipeline_endpoints_list"
   ]
  },
  {
   "cell_type": "code",
   "execution_count": null,
   "metadata": {},
   "outputs": [],
   "source": [
    "print(\"pipeline endpoints name list:\")\n",
    "[endpoint.name for endpoint in pipeline_endpoints_list]"
   ]
  },
  {
   "cell_type": "markdown",
   "metadata": {
    "pycharm": {
     "name": "#%% md\n"
    }
   },
   "source": [
    "### 5. Enable & Disable"
   ]
  },
  {
   "cell_type": "code",
   "execution_count": null,
   "metadata": {
    "pycharm": {
     "name": "#%%\n"
    }
   },
   "outputs": [],
   "source": [
    "pipeline_endpoint.enable()\n",
    "print(pipeline_endpoint.status)"
   ]
  },
  {
   "cell_type": "code",
   "execution_count": null,
   "metadata": {
    "pycharm": {
     "name": "#%%\n"
    }
   },
   "outputs": [],
   "source": [
    "pipeline_endpoint.disable()\n",
    "print(pipeline_endpoint.status)"
   ]
  },
  {
   "cell_type": "code",
   "execution_count": null,
   "metadata": {
    "pycharm": {
     "name": "#%%\n"
    }
   },
   "outputs": [],
   "source": [
    "pipeline_endpoint.enable()\n",
    "print(pipeline_endpoint.status)"
   ]
  },
  {
   "cell_type": "markdown",
   "metadata": {},
   "source": [
    "### 6. List pipelines\n",
    "List of PublishedPipelines in PipelineEndpoint, with format {version: pipeline}\n",
    "\n",
    "active_only: Whether to return only active pipelines."
   ]
  },
  {
   "cell_type": "code",
   "execution_count": null,
   "metadata": {
    "pycharm": {
     "name": "#%%\n"
    }
   },
   "outputs": [],
   "source": [
    "pipelines_list = pipeline_endpoint.list_pipelines(active_only=True)"
   ]
  },
  {
   "cell_type": "code",
   "execution_count": null,
   "metadata": {
    "pycharm": {
     "name": "#%%\n"
    }
   },
   "outputs": [],
   "source": [
    "pipelines_list"
   ]
  },
  {
   "cell_type": "markdown",
   "metadata": {},
   "source": [
    "### 7. Set default version"
   ]
  },
  {
   "cell_type": "code",
   "execution_count": null,
   "metadata": {},
   "outputs": [],
   "source": [
    "default_version = '0'\n",
    "print('default version BEFORE set default version:', pipeline_endpoint.default_version)\n",
    "pipeline_endpoint.set_default_version(version=default_version)\n",
    "print('default version AFTER set default version:', pipeline_endpoint.default_version)"
   ]
  },
  {
   "cell_type": "markdown",
   "metadata": {},
   "source": [
    "# Finish\n",
    "Disable published pipeline"
   ]
  },
  {
   "cell_type": "code",
   "execution_count": null,
   "metadata": {
    "pycharm": {
     "name": "#%%\n"
    }
   },
   "outputs": [],
   "source": [
    "version_list = list(pipelines_list.keys())\n",
    "pipelines_list[version_list[0]].disable()\n",
    "pipelines_list[version_list[1]].disable()"
   ]
  }
 ],
 "metadata": {
  "kernelspec": {
   "display_name": "aml",
   "language": "python",
   "name": "aml"
  },
  "language_info": {
   "codemirror_mode": {
    "name": "ipython",
    "version": 3
   },
   "file_extension": ".py",
   "mimetype": "text/x-python",
   "name": "python",
   "nbconvert_exporter": "python",
   "pygments_lexer": "ipython3",
   "version": "3.7.6"
  }
 },
 "nbformat": 4,
 "nbformat_minor": 4
}