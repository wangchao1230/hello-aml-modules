{
 "cells": [
  {
   "cell_type": "markdown",
   "metadata": {},
   "source": [
    "Copyright (c) Microsoft Corporation. All rights reserved.  \n",
    "Licensed under the MIT License.\n",
    "\n",
    "# NYC Taxi Data Regression Model\n",
    "This is an Azure Machine Learning Pipelines version of two-part tutorial (Part 1, Part 2) available for Azure Machine Learning.\n",
    "\n",
    "You can combine the two part tutorial into one using AzureML Pipelines as Pipelines provide a way to stitch together various steps involved (like data preparation and training in this case) in a machine learning workflow.\n",
    "\n",
    "In this notebook, you learn how to prepare data for regression modeling by using open source library pandas. You run various transformations to filter and combine two different NYC taxi datasets. Once you prepare the NYC taxi data for regression modeling, then you will use AutoMLStep available with Azure Machine Learning Pipelines to define your machine learning goals and constraints as well as to launch the automated machine learning process. The automated machine learning technique iterates over many combinations of algorithms and hyperparameters until it finds the best model based on your criterion.\n",
    "\n",
    "After you complete building the model, you can predict the cost of a taxi trip by training a model on data features. These features include the pickup day and time, the number of passengers, and the pickup location.\n",
    "\n",
    "## Prerequisite\n",
    "If you are using an Azure Machine Learning Notebook VM, you are all set. Otherwise, make sure you go through the configuration Notebook located at https://github.com/Azure/MachineLearningNotebooks first if you haven't. This sets you up with a working config file that has information on your workspace, subscription id, etc.\n",
    "\n",
    "## Prepare data for regression modeling\n",
    "First, we will prepare data for regression modeling. We will leverage the convenience of Azure Open Datasets along with the power of Azure Machine Learning service to create a regression model to predict NYC taxi fare prices. Perform ```pip install azureml-opendatasets``` to get the open dataset package. The Open Datasets package contains a class representing each data source (NycTlcGreen and NycTlcYellow) to easily filter date parameters before downloading.\n",
    "\n",
    "### Load data\n",
    "Begin by creating a dataframe to hold the taxi data. When working in a non-Spark environment, Open Datasets only allows downloading one month of data at a time with certain classes to avoid MemoryError with large datasets. To download a year of taxi data, iteratively fetch one month at a time, and before appending it to green_df_raw, randomly sample 500 records from each month to avoid bloating the dataframe. Then preview the data. To keep this process short, we are sampling data of only 1 month.\n",
    "\n",
    "Note: Open Datasets has mirroring classes for working in Spark environments where data size and memory aren't a concern."
   ]
  },
  {
   "cell_type": "code",
   "execution_count": 1,
   "metadata": {},
   "outputs": [
    {
     "name": "stdout",
     "output_type": "stream",
     "text": [
      "[Info] read from C:\\Users\\nashangg\\AppData\\Local\\Temp\\tmp5tjbtj5q\\https%3A\\%2Fazureopendatastorage.azurefd.net\\nyctlc\\green\\puYear=2016\\puMonth=1\\part-00119-tid-4753095944193949832-fee7e113-666d-4114-9fcb-bcd3046479f3-2689-1.c000.snappy.parquet\n"
     ]
    }
   ],
   "source": [
    "from azureml.opendatasets import NycTlcGreen, NycTlcYellow\n",
    "import pandas as pd\n",
    "from datetime import datetime\n",
    "from dateutil.relativedelta import relativedelta\n",
    "\n",
    "green_df_raw = pd.DataFrame([])\n",
    "start = datetime.strptime(\"1/1/2016\",\"%m/%d/%Y\")\n",
    "end = datetime.strptime(\"1/31/2016\",\"%m/%d/%Y\")\n",
    "\n",
    "number_of_months = 1\n",
    "sample_size = 5000\n",
    "\n",
    "for sample_month in range(number_of_months):\n",
    "    temp_df_green = NycTlcGreen(start + relativedelta(months=sample_month), end + relativedelta(months=sample_month)) \\\n",
    "        .to_pandas_dataframe()\n",
    "    green_df_raw = green_df_raw.append(temp_df_green.sample(sample_size))"
   ]
  },
  {
   "cell_type": "code",
   "execution_count": 2,
   "metadata": {},
   "outputs": [
    {
     "name": "stdout",
     "output_type": "stream",
     "text": [
      "[Info] read from C:\\Users\\nashangg\\AppData\\Local\\Temp\\tmph9d7jtlu\\https%3A\\%2Fazureopendatastorage.azurefd.net\\nyctlc\\yellow\\puYear=2016\\puMonth=1\\part-00000-tid-8898858832658823408-a1de80bd-eed3-4d11-b9d4-fa74bfbd47bc-426339-90.c000.snappy.parquet\n",
      "[Info] read from C:\\Users\\nashangg\\AppData\\Local\\Temp\\tmph9d7jtlu\\https%3A\\%2Fazureopendatastorage.azurefd.net\\nyctlc\\yellow\\puYear=2016\\puMonth=1\\part-00001-tid-8898858832658823408-a1de80bd-eed3-4d11-b9d4-fa74bfbd47bc-426336-89.c000.snappy.parquet\n",
      "[Info] read from C:\\Users\\nashangg\\AppData\\Local\\Temp\\tmph9d7jtlu\\https%3A\\%2Fazureopendatastorage.azurefd.net\\nyctlc\\yellow\\puYear=2016\\puMonth=1\\part-00002-tid-8898858832658823408-a1de80bd-eed3-4d11-b9d4-fa74bfbd47bc-426334-91.c000.snappy.parquet\n",
      "[Info] read from C:\\Users\\nashangg\\AppData\\Local\\Temp\\tmph9d7jtlu\\https%3A\\%2Fazureopendatastorage.azurefd.net\\nyctlc\\yellow\\puYear=2016\\puMonth=1\\part-00003-tid-8898858832658823408-a1de80bd-eed3-4d11-b9d4-fa74bfbd47bc-426340-87.c000.snappy.parquet\n",
      "[Info] read from C:\\Users\\nashangg\\AppData\\Local\\Temp\\tmph9d7jtlu\\https%3A\\%2Fazureopendatastorage.azurefd.net\\nyctlc\\yellow\\puYear=2016\\puMonth=1\\part-00004-tid-8898858832658823408-a1de80bd-eed3-4d11-b9d4-fa74bfbd47bc-426331-88.c000.snappy.parquet\n",
      "[Info] read from C:\\Users\\nashangg\\AppData\\Local\\Temp\\tmph9d7jtlu\\https%3A\\%2Fazureopendatastorage.azurefd.net\\nyctlc\\yellow\\puYear=2016\\puMonth=1\\part-00005-tid-8898858832658823408-a1de80bd-eed3-4d11-b9d4-fa74bfbd47bc-426324-89.c000.snappy.parquet\n",
      "[Info] read from C:\\Users\\nashangg\\AppData\\Local\\Temp\\tmph9d7jtlu\\https%3A\\%2Fazureopendatastorage.azurefd.net\\nyctlc\\yellow\\puYear=2016\\puMonth=1\\part-00006-tid-8898858832658823408-a1de80bd-eed3-4d11-b9d4-fa74bfbd47bc-426326-88.c000.snappy.parquet\n",
      "[Info] read from C:\\Users\\nashangg\\AppData\\Local\\Temp\\tmph9d7jtlu\\https%3A\\%2Fazureopendatastorage.azurefd.net\\nyctlc\\yellow\\puYear=2016\\puMonth=1\\part-00007-tid-8898858832658823408-a1de80bd-eed3-4d11-b9d4-fa74bfbd47bc-426332-90.c000.snappy.parquet\n",
      "[Info] read from C:\\Users\\nashangg\\AppData\\Local\\Temp\\tmph9d7jtlu\\https%3A\\%2Fazureopendatastorage.azurefd.net\\nyctlc\\yellow\\puYear=2016\\puMonth=1\\part-00008-tid-8898858832658823408-a1de80bd-eed3-4d11-b9d4-fa74bfbd47bc-426341-90.c000.snappy.parquet\n",
      "[Info] read from C:\\Users\\nashangg\\AppData\\Local\\Temp\\tmph9d7jtlu\\https%3A\\%2Fazureopendatastorage.azurefd.net\\nyctlc\\yellow\\puYear=2016\\puMonth=1\\part-00009-tid-8898858832658823408-a1de80bd-eed3-4d11-b9d4-fa74bfbd47bc-426325-88.c000.snappy.parquet\n",
      "[Info] read from C:\\Users\\nashangg\\AppData\\Local\\Temp\\tmph9d7jtlu\\https%3A\\%2Fazureopendatastorage.azurefd.net\\nyctlc\\yellow\\puYear=2016\\puMonth=1\\part-00010-tid-8898858832658823408-a1de80bd-eed3-4d11-b9d4-fa74bfbd47bc-426335-89.c000.snappy.parquet\n",
      "[Info] read from C:\\Users\\nashangg\\AppData\\Local\\Temp\\tmph9d7jtlu\\https%3A\\%2Fazureopendatastorage.azurefd.net\\nyctlc\\yellow\\puYear=2016\\puMonth=1\\part-00011-tid-8898858832658823408-a1de80bd-eed3-4d11-b9d4-fa74bfbd47bc-426338-89.c000.snappy.parquet\n",
      "[Info] read from C:\\Users\\nashangg\\AppData\\Local\\Temp\\tmph9d7jtlu\\https%3A\\%2Fazureopendatastorage.azurefd.net\\nyctlc\\yellow\\puYear=2016\\puMonth=1\\part-00012-tid-8898858832658823408-a1de80bd-eed3-4d11-b9d4-fa74bfbd47bc-426337-89.c000.snappy.parquet\n",
      "[Info] read from C:\\Users\\nashangg\\AppData\\Local\\Temp\\tmph9d7jtlu\\https%3A\\%2Fazureopendatastorage.azurefd.net\\nyctlc\\yellow\\puYear=2016\\puMonth=1\\part-00013-tid-8898858832658823408-a1de80bd-eed3-4d11-b9d4-fa74bfbd47bc-426327-89.c000.snappy.parquet\n",
      "[Info] read from C:\\Users\\nashangg\\AppData\\Local\\Temp\\tmph9d7jtlu\\https%3A\\%2Fazureopendatastorage.azurefd.net\\nyctlc\\yellow\\puYear=2016\\puMonth=1\\part-00014-tid-8898858832658823408-a1de80bd-eed3-4d11-b9d4-fa74bfbd47bc-426330-90.c000.snappy.parquet\n",
      "[Info] read from C:\\Users\\nashangg\\AppData\\Local\\Temp\\tmph9d7jtlu\\https%3A\\%2Fazureopendatastorage.azurefd.net\\nyctlc\\yellow\\puYear=2016\\puMonth=1\\part-00015-tid-8898858832658823408-a1de80bd-eed3-4d11-b9d4-fa74bfbd47bc-426342-89.c000.snappy.parquet\n",
      "[Info] read from C:\\Users\\nashangg\\AppData\\Local\\Temp\\tmph9d7jtlu\\https%3A\\%2Fazureopendatastorage.azurefd.net\\nyctlc\\yellow\\puYear=2016\\puMonth=1\\part-00016-tid-8898858832658823408-a1de80bd-eed3-4d11-b9d4-fa74bfbd47bc-426328-88.c000.snappy.parquet\n",
      "[Info] read from C:\\Users\\nashangg\\AppData\\Local\\Temp\\tmph9d7jtlu\\https%3A\\%2Fazureopendatastorage.azurefd.net\\nyctlc\\yellow\\puYear=2016\\puMonth=1\\part-00017-tid-8898858832658823408-a1de80bd-eed3-4d11-b9d4-fa74bfbd47bc-426323-90.c000.snappy.parquet\n",
      "[Info] read from C:\\Users\\nashangg\\AppData\\Local\\Temp\\tmph9d7jtlu\\https%3A\\%2Fazureopendatastorage.azurefd.net\\nyctlc\\yellow\\puYear=2016\\puMonth=1\\part-00018-tid-8898858832658823408-a1de80bd-eed3-4d11-b9d4-fa74bfbd47bc-426329-90.c000.snappy.parquet\n",
      "[Info] read from C:\\Users\\nashangg\\AppData\\Local\\Temp\\tmph9d7jtlu\\https%3A\\%2Fazureopendatastorage.azurefd.net\\nyctlc\\yellow\\puYear=2016\\puMonth=1\\part-00019-tid-8898858832658823408-a1de80bd-eed3-4d11-b9d4-fa74bfbd47bc-426333-88.c000.snappy.parquet\n"
     ]
    }
   ],
   "source": [
    "yellow_df_raw = pd.DataFrame([])\n",
    "start = datetime.strptime(\"1/1/2016\",\"%m/%d/%Y\")\n",
    "end = datetime.strptime(\"1/31/2016\",\"%m/%d/%Y\")\n",
    "\n",
    "sample_size = 500\n",
    "\n",
    "for sample_month in range(number_of_months):\n",
    "    temp_df_yellow = NycTlcYellow(start + relativedelta(months=sample_month), end + relativedelta(months=sample_month)) \\\n",
    "        .to_pandas_dataframe()\n",
    "    yellow_df_raw = yellow_df_raw.append(temp_df_yellow.sample(sample_size))"
   ]
  },
  {
   "cell_type": "markdown",
   "metadata": {},
   "source": [
    "### See the data"
   ]
  },
  {
   "cell_type": "code",
   "execution_count": 3,
   "metadata": {},
   "outputs": [
    {
     "data": {
      "text/html": [
       "<div>\n",
       "<style scoped>\n",
       "    .dataframe tbody tr th:only-of-type {\n",
       "        vertical-align: middle;\n",
       "    }\n",
       "\n",
       "    .dataframe tbody tr th {\n",
       "        vertical-align: top;\n",
       "    }\n",
       "\n",
       "    .dataframe thead th {\n",
       "        text-align: right;\n",
       "    }\n",
       "</style>\n",
       "<table border=\"1\" class=\"dataframe\">\n",
       "  <thead>\n",
       "    <tr style=\"text-align: right;\">\n",
       "      <th></th>\n",
       "      <th>vendorID</th>\n",
       "      <th>lpepPickupDatetime</th>\n",
       "      <th>lpepDropoffDatetime</th>\n",
       "      <th>passengerCount</th>\n",
       "      <th>tripDistance</th>\n",
       "      <th>puLocationId</th>\n",
       "      <th>doLocationId</th>\n",
       "      <th>pickupLongitude</th>\n",
       "      <th>pickupLatitude</th>\n",
       "      <th>dropoffLongitude</th>\n",
       "      <th>...</th>\n",
       "      <th>paymentType</th>\n",
       "      <th>fareAmount</th>\n",
       "      <th>extra</th>\n",
       "      <th>mtaTax</th>\n",
       "      <th>improvementSurcharge</th>\n",
       "      <th>tipAmount</th>\n",
       "      <th>tollsAmount</th>\n",
       "      <th>ehailFee</th>\n",
       "      <th>totalAmount</th>\n",
       "      <th>tripType</th>\n",
       "    </tr>\n",
       "  </thead>\n",
       "  <tbody>\n",
       "    <tr>\n",
       "      <th>141122</th>\n",
       "      <td>1</td>\n",
       "      <td>2016-01-23 00:06:59</td>\n",
       "      <td>2016-01-23 00:29:20</td>\n",
       "      <td>1</td>\n",
       "      <td>7.20</td>\n",
       "      <td>None</td>\n",
       "      <td>None</td>\n",
       "      <td>-73.940201</td>\n",
       "      <td>40.840645</td>\n",
       "      <td>-73.955879</td>\n",
       "      <td>...</td>\n",
       "      <td>3</td>\n",
       "      <td>23.5</td>\n",
       "      <td>0.5</td>\n",
       "      <td>0.5</td>\n",
       "      <td>0.3</td>\n",
       "      <td>0.00</td>\n",
       "      <td>0.0</td>\n",
       "      <td>NaN</td>\n",
       "      <td>24.80</td>\n",
       "      <td>1.0</td>\n",
       "    </tr>\n",
       "    <tr>\n",
       "      <th>117208</th>\n",
       "      <td>1</td>\n",
       "      <td>2016-01-19 11:06:34</td>\n",
       "      <td>2016-01-19 11:31:32</td>\n",
       "      <td>1</td>\n",
       "      <td>3.80</td>\n",
       "      <td>None</td>\n",
       "      <td>None</td>\n",
       "      <td>-73.925652</td>\n",
       "      <td>40.761822</td>\n",
       "      <td>-73.976517</td>\n",
       "      <td>...</td>\n",
       "      <td>4</td>\n",
       "      <td>18.0</td>\n",
       "      <td>0.0</td>\n",
       "      <td>0.5</td>\n",
       "      <td>0.3</td>\n",
       "      <td>0.00</td>\n",
       "      <td>0.0</td>\n",
       "      <td>NaN</td>\n",
       "      <td>18.80</td>\n",
       "      <td>1.0</td>\n",
       "    </tr>\n",
       "    <tr>\n",
       "      <th>217578</th>\n",
       "      <td>2</td>\n",
       "      <td>2016-01-29 14:35:44</td>\n",
       "      <td>2016-01-29 14:50:16</td>\n",
       "      <td>1</td>\n",
       "      <td>2.59</td>\n",
       "      <td>None</td>\n",
       "      <td>None</td>\n",
       "      <td>-73.993317</td>\n",
       "      <td>40.692131</td>\n",
       "      <td>-73.999306</td>\n",
       "      <td>...</td>\n",
       "      <td>1</td>\n",
       "      <td>12.5</td>\n",
       "      <td>0.0</td>\n",
       "      <td>0.5</td>\n",
       "      <td>0.3</td>\n",
       "      <td>2.66</td>\n",
       "      <td>0.0</td>\n",
       "      <td>NaN</td>\n",
       "      <td>15.96</td>\n",
       "      <td>1.0</td>\n",
       "    </tr>\n",
       "    <tr>\n",
       "      <th>1373474</th>\n",
       "      <td>1</td>\n",
       "      <td>2016-01-13 22:41:15</td>\n",
       "      <td>2016-01-13 22:51:20</td>\n",
       "      <td>1</td>\n",
       "      <td>1.90</td>\n",
       "      <td>None</td>\n",
       "      <td>None</td>\n",
       "      <td>-73.993858</td>\n",
       "      <td>40.681610</td>\n",
       "      <td>-73.995972</td>\n",
       "      <td>...</td>\n",
       "      <td>2</td>\n",
       "      <td>9.5</td>\n",
       "      <td>0.5</td>\n",
       "      <td>0.5</td>\n",
       "      <td>0.3</td>\n",
       "      <td>0.00</td>\n",
       "      <td>0.0</td>\n",
       "      <td>NaN</td>\n",
       "      <td>10.80</td>\n",
       "      <td>1.0</td>\n",
       "    </tr>\n",
       "    <tr>\n",
       "      <th>488739</th>\n",
       "      <td>2</td>\n",
       "      <td>2016-01-09 15:21:16</td>\n",
       "      <td>2016-01-09 16:02:15</td>\n",
       "      <td>1</td>\n",
       "      <td>9.92</td>\n",
       "      <td>None</td>\n",
       "      <td>None</td>\n",
       "      <td>-73.867142</td>\n",
       "      <td>40.734615</td>\n",
       "      <td>-73.903404</td>\n",
       "      <td>...</td>\n",
       "      <td>2</td>\n",
       "      <td>36.0</td>\n",
       "      <td>0.0</td>\n",
       "      <td>0.5</td>\n",
       "      <td>0.3</td>\n",
       "      <td>0.00</td>\n",
       "      <td>0.0</td>\n",
       "      <td>NaN</td>\n",
       "      <td>36.80</td>\n",
       "      <td>1.0</td>\n",
       "    </tr>\n",
       "  </tbody>\n",
       "</table>\n",
       "<p>5 rows × 23 columns</p>\n",
       "</div>"
      ],
      "text/plain": [
       "         vendorID  lpepPickupDatetime lpepDropoffDatetime  passengerCount  \\\n",
       "141122          1 2016-01-23 00:06:59 2016-01-23 00:29:20               1   \n",
       "117208          1 2016-01-19 11:06:34 2016-01-19 11:31:32               1   \n",
       "217578          2 2016-01-29 14:35:44 2016-01-29 14:50:16               1   \n",
       "1373474         1 2016-01-13 22:41:15 2016-01-13 22:51:20               1   \n",
       "488739          2 2016-01-09 15:21:16 2016-01-09 16:02:15               1   \n",
       "\n",
       "         tripDistance puLocationId doLocationId  pickupLongitude  \\\n",
       "141122           7.20         None         None       -73.940201   \n",
       "117208           3.80         None         None       -73.925652   \n",
       "217578           2.59         None         None       -73.993317   \n",
       "1373474          1.90         None         None       -73.993858   \n",
       "488739           9.92         None         None       -73.867142   \n",
       "\n",
       "         pickupLatitude  dropoffLongitude  ...  paymentType  fareAmount extra  \\\n",
       "141122        40.840645        -73.955879  ...            3        23.5   0.5   \n",
       "117208        40.761822        -73.976517  ...            4        18.0   0.0   \n",
       "217578        40.692131        -73.999306  ...            1        12.5   0.0   \n",
       "1373474       40.681610        -73.995972  ...            2         9.5   0.5   \n",
       "488739        40.734615        -73.903404  ...            2        36.0   0.0   \n",
       "\n",
       "         mtaTax  improvementSurcharge  tipAmount  tollsAmount ehailFee  \\\n",
       "141122      0.5                   0.3       0.00          0.0      NaN   \n",
       "117208      0.5                   0.3       0.00          0.0      NaN   \n",
       "217578      0.5                   0.3       2.66          0.0      NaN   \n",
       "1373474     0.5                   0.3       0.00          0.0      NaN   \n",
       "488739      0.5                   0.3       0.00          0.0      NaN   \n",
       "\n",
       "         totalAmount  tripType  \n",
       "141122         24.80       1.0  \n",
       "117208         18.80       1.0  \n",
       "217578         15.96       1.0  \n",
       "1373474        10.80       1.0  \n",
       "488739         36.80       1.0  \n",
       "\n",
       "[5 rows x 23 columns]"
      ]
     },
     "metadata": {},
     "output_type": "display_data"
    },
    {
     "data": {
      "text/html": [
       "<div>\n",
       "<style scoped>\n",
       "    .dataframe tbody tr th:only-of-type {\n",
       "        vertical-align: middle;\n",
       "    }\n",
       "\n",
       "    .dataframe tbody tr th {\n",
       "        vertical-align: top;\n",
       "    }\n",
       "\n",
       "    .dataframe thead th {\n",
       "        text-align: right;\n",
       "    }\n",
       "</style>\n",
       "<table border=\"1\" class=\"dataframe\">\n",
       "  <thead>\n",
       "    <tr style=\"text-align: right;\">\n",
       "      <th></th>\n",
       "      <th>vendorID</th>\n",
       "      <th>tpepPickupDateTime</th>\n",
       "      <th>tpepDropoffDateTime</th>\n",
       "      <th>passengerCount</th>\n",
       "      <th>tripDistance</th>\n",
       "      <th>puLocationId</th>\n",
       "      <th>doLocationId</th>\n",
       "      <th>startLon</th>\n",
       "      <th>startLat</th>\n",
       "      <th>endLon</th>\n",
       "      <th>...</th>\n",
       "      <th>rateCodeId</th>\n",
       "      <th>storeAndFwdFlag</th>\n",
       "      <th>paymentType</th>\n",
       "      <th>fareAmount</th>\n",
       "      <th>extra</th>\n",
       "      <th>mtaTax</th>\n",
       "      <th>improvementSurcharge</th>\n",
       "      <th>tipAmount</th>\n",
       "      <th>tollsAmount</th>\n",
       "      <th>totalAmount</th>\n",
       "    </tr>\n",
       "  </thead>\n",
       "  <tbody>\n",
       "    <tr>\n",
       "      <th>415240</th>\n",
       "      <td>2</td>\n",
       "      <td>2016-01-03 19:29:31</td>\n",
       "      <td>2016-01-03 19:36:48</td>\n",
       "      <td>1</td>\n",
       "      <td>1.37</td>\n",
       "      <td>None</td>\n",
       "      <td>None</td>\n",
       "      <td>-73.976105</td>\n",
       "      <td>40.786156</td>\n",
       "      <td>-73.957001</td>\n",
       "      <td>...</td>\n",
       "      <td>1</td>\n",
       "      <td>N</td>\n",
       "      <td>1</td>\n",
       "      <td>7.5</td>\n",
       "      <td>0.0</td>\n",
       "      <td>0.5</td>\n",
       "      <td>0.3</td>\n",
       "      <td>1.66</td>\n",
       "      <td>0.0</td>\n",
       "      <td>9.96</td>\n",
       "    </tr>\n",
       "    <tr>\n",
       "      <th>272829</th>\n",
       "      <td>2</td>\n",
       "      <td>2016-01-07 15:01:48</td>\n",
       "      <td>2016-01-07 15:23:27</td>\n",
       "      <td>2</td>\n",
       "      <td>6.44</td>\n",
       "      <td>None</td>\n",
       "      <td>None</td>\n",
       "      <td>-74.011810</td>\n",
       "      <td>40.707630</td>\n",
       "      <td>-73.981789</td>\n",
       "      <td>...</td>\n",
       "      <td>1</td>\n",
       "      <td>N</td>\n",
       "      <td>1</td>\n",
       "      <td>22.0</td>\n",
       "      <td>0.0</td>\n",
       "      <td>0.5</td>\n",
       "      <td>0.3</td>\n",
       "      <td>4.56</td>\n",
       "      <td>0.0</td>\n",
       "      <td>27.36</td>\n",
       "    </tr>\n",
       "    <tr>\n",
       "      <th>366579</th>\n",
       "      <td>1</td>\n",
       "      <td>2016-01-17 12:24:00</td>\n",
       "      <td>2016-01-17 12:38:53</td>\n",
       "      <td>1</td>\n",
       "      <td>1.80</td>\n",
       "      <td>None</td>\n",
       "      <td>None</td>\n",
       "      <td>-74.001869</td>\n",
       "      <td>40.719307</td>\n",
       "      <td>-73.997505</td>\n",
       "      <td>...</td>\n",
       "      <td>1</td>\n",
       "      <td>N</td>\n",
       "      <td>1</td>\n",
       "      <td>11.0</td>\n",
       "      <td>0.0</td>\n",
       "      <td>0.5</td>\n",
       "      <td>0.3</td>\n",
       "      <td>2.35</td>\n",
       "      <td>0.0</td>\n",
       "      <td>14.15</td>\n",
       "    </tr>\n",
       "    <tr>\n",
       "      <th>147293</th>\n",
       "      <td>2</td>\n",
       "      <td>2016-01-15 07:44:58</td>\n",
       "      <td>2016-01-15 07:52:47</td>\n",
       "      <td>1</td>\n",
       "      <td>1.07</td>\n",
       "      <td>None</td>\n",
       "      <td>None</td>\n",
       "      <td>-73.961105</td>\n",
       "      <td>40.769070</td>\n",
       "      <td>-73.972679</td>\n",
       "      <td>...</td>\n",
       "      <td>1</td>\n",
       "      <td>N</td>\n",
       "      <td>2</td>\n",
       "      <td>7.0</td>\n",
       "      <td>0.0</td>\n",
       "      <td>0.5</td>\n",
       "      <td>0.3</td>\n",
       "      <td>0.00</td>\n",
       "      <td>0.0</td>\n",
       "      <td>7.80</td>\n",
       "    </tr>\n",
       "    <tr>\n",
       "      <th>298064</th>\n",
       "      <td>2</td>\n",
       "      <td>2016-01-24 17:49:41</td>\n",
       "      <td>2016-01-24 17:54:05</td>\n",
       "      <td>1</td>\n",
       "      <td>0.89</td>\n",
       "      <td>None</td>\n",
       "      <td>None</td>\n",
       "      <td>-74.002571</td>\n",
       "      <td>40.728935</td>\n",
       "      <td>-73.993080</td>\n",
       "      <td>...</td>\n",
       "      <td>1</td>\n",
       "      <td>N</td>\n",
       "      <td>1</td>\n",
       "      <td>5.0</td>\n",
       "      <td>0.0</td>\n",
       "      <td>0.5</td>\n",
       "      <td>0.3</td>\n",
       "      <td>0.87</td>\n",
       "      <td>0.0</td>\n",
       "      <td>6.67</td>\n",
       "    </tr>\n",
       "  </tbody>\n",
       "</table>\n",
       "<p>5 rows × 21 columns</p>\n",
       "</div>"
      ],
      "text/plain": [
       "       vendorID  tpepPickupDateTime tpepDropoffDateTime  passengerCount  \\\n",
       "415240        2 2016-01-03 19:29:31 2016-01-03 19:36:48               1   \n",
       "272829        2 2016-01-07 15:01:48 2016-01-07 15:23:27               2   \n",
       "366579        1 2016-01-17 12:24:00 2016-01-17 12:38:53               1   \n",
       "147293        2 2016-01-15 07:44:58 2016-01-15 07:52:47               1   \n",
       "298064        2 2016-01-24 17:49:41 2016-01-24 17:54:05               1   \n",
       "\n",
       "        tripDistance puLocationId doLocationId   startLon   startLat  \\\n",
       "415240          1.37         None         None -73.976105  40.786156   \n",
       "272829          6.44         None         None -74.011810  40.707630   \n",
       "366579          1.80         None         None -74.001869  40.719307   \n",
       "147293          1.07         None         None -73.961105  40.769070   \n",
       "298064          0.89         None         None -74.002571  40.728935   \n",
       "\n",
       "           endLon  ...  rateCodeId  storeAndFwdFlag paymentType fareAmount  \\\n",
       "415240 -73.957001  ...           1                N           1        7.5   \n",
       "272829 -73.981789  ...           1                N           1       22.0   \n",
       "366579 -73.997505  ...           1                N           1       11.0   \n",
       "147293 -73.972679  ...           1                N           2        7.0   \n",
       "298064 -73.993080  ...           1                N           1        5.0   \n",
       "\n",
       "        extra  mtaTax  improvementSurcharge tipAmount  tollsAmount  \\\n",
       "415240    0.0     0.5                   0.3      1.66          0.0   \n",
       "272829    0.0     0.5                   0.3      4.56          0.0   \n",
       "366579    0.0     0.5                   0.3      2.35          0.0   \n",
       "147293    0.0     0.5                   0.3      0.00          0.0   \n",
       "298064    0.0     0.5                   0.3      0.87          0.0   \n",
       "\n",
       "        totalAmount  \n",
       "415240         9.96  \n",
       "272829        27.36  \n",
       "366579        14.15  \n",
       "147293         7.80  \n",
       "298064         6.67  \n",
       "\n",
       "[5 rows x 21 columns]"
      ]
     },
     "metadata": {},
     "output_type": "display_data"
    }
   ],
   "source": [
    "from IPython.display import display\n",
    "\n",
    "display(green_df_raw.head(5))\n",
    "display(yellow_df_raw.head(5))"
   ]
  },
  {
   "cell_type": "markdown",
   "metadata": {},
   "source": [
    "### Download data locally and then upload to Azure Blob\n",
    "This is a one-time process to save the dave in the default datastore."
   ]
  },
  {
   "cell_type": "code",
   "execution_count": 4,
   "metadata": {},
   "outputs": [
    {
     "name": "stdout",
     "output_type": "stream",
     "text": [
      "Data written to local folder.\n"
     ]
    }
   ],
   "source": [
    "import os\n",
    "dataDir = \"data\"\n",
    "\n",
    "if not os.path.exists(dataDir):\n",
    "    os.mkdir(dataDir)\n",
    "\n",
    "greenDir = dataDir + \"/green\"\n",
    "yelloDir = dataDir + \"/yellow\"\n",
    "\n",
    "if not os.path.exists(greenDir):\n",
    "    os.mkdir(greenDir)\n",
    "    \n",
    "if not os.path.exists(yelloDir):\n",
    "    os.mkdir(yelloDir)\n",
    "    \n",
    "greenTaxiData = greenDir + \"/unprepared.parquet\"\n",
    "yellowTaxiData = yelloDir + \"/unprepared.parquet\"\n",
    "\n",
    "green_df_raw.to_csv(greenTaxiData, index=False)\n",
    "yellow_df_raw.to_csv(yellowTaxiData, index=False)\n",
    "\n",
    "print(\"Data written to local folder.\")"
   ]
  },
  {
   "cell_type": "code",
   "execution_count": 5,
   "metadata": {},
   "outputs": [
    {
     "name": "stdout",
     "output_type": "stream",
     "text": [
      "Workspace: DesignerTest-EUS\n",
      "Region: eastus\n",
      "Uploading an estimated of 1 files\n",
      "Uploading data/green/unprepared.parquet\n",
      "Uploaded data/green/unprepared.parquet, 1 files out of an estimated total of 1\n",
      "Uploaded 1 files\n",
      "Uploading an estimated of 1 files\n",
      "Uploading data/yellow/unprepared.parquet\n",
      "Uploaded data/yellow/unprepared.parquet, 1 files out of an estimated total of 1\n",
      "Uploaded 1 files\n",
      "Upload calls completed.\n"
     ]
    }
   ],
   "source": [
    "from azureml.core import Workspace\n",
    "\n",
    "ws = Workspace.from_config()\n",
    "print(\"Workspace: \" + ws.name, \"Region: \" + ws.location, sep = '\\n')\n",
    "\n",
    "# Default datastore\n",
    "default_store = ws.get_default_datastore() \n",
    "\n",
    "default_store.upload_files([greenTaxiData], \n",
    "                           target_path = 'green', \n",
    "                           overwrite = True, \n",
    "                           show_progress = True)\n",
    "\n",
    "default_store.upload_files([yellowTaxiData], \n",
    "                           target_path = 'yellow', \n",
    "                           overwrite = True, \n",
    "                           show_progress = True)\n",
    "\n",
    "print(\"Upload calls completed.\")"
   ]
  },
  {
   "cell_type": "markdown",
   "metadata": {},
   "source": [
    "### Create and register datasets\n",
    "By creating a dataset, you create a reference to the data source location. If you applied any subsetting transformations to the dataset, they will be stored in the dataset as well. You can learn more about the what subsetting capabilities are supported by referring to our documentation. The data remains in its existing location, so no extra storage cost is incurred."
   ]
  },
  {
   "cell_type": "code",
   "execution_count": 6,
   "metadata": {},
   "outputs": [],
   "source": [
    "from azureml.core import Dataset\n",
    "green_taxi_data = Dataset.Tabular.from_delimited_files(default_store.path('green/unprepared.parquet'))\n",
    "yellow_taxi_data = Dataset.Tabular.from_delimited_files(default_store.path('yellow/unprepared.parquet'))"
   ]
  },
  {
   "cell_type": "markdown",
   "metadata": {},
   "source": [
    "Register the taxi datasets with the workspace so that you can reuse them in other experiments or share with your colleagues who have access to your workspace."
   ]
  },
  {
   "cell_type": "code",
   "execution_count": 8,
   "metadata": {},
   "outputs": [],
   "source": [
    "green_taxi_data = green_taxi_data.register(ws, 'green_taxi_data', create_new_version=True)\n",
    "yellow_taxi_data = yellow_taxi_data.register(ws, 'yellow_taxi_data', create_new_version=True)"
   ]
  },
  {
   "cell_type": "markdown",
   "metadata": {},
   "source": [
    "### Setup Compute\n",
    "#### Create new or use an existing compute"
   ]
  },
  {
   "cell_type": "code",
   "execution_count": 9,
   "metadata": {},
   "outputs": [
    {
     "name": "stdout",
     "output_type": "stream",
     "text": [
      "Found existing cluster, use it.\n",
      "Succeeded\n",
      "AmlCompute wait for completion finished\n",
      "\n",
      "Minimum number of nodes requested have been provisioned\n"
     ]
    }
   ],
   "source": [
    "from azureml.core.compute import ComputeTarget, AmlCompute\n",
    "from azureml.core.compute_target import ComputeTargetException\n",
    "\n",
    "# Choose a name for your CPU cluster\n",
    "amlcompute_cluster_name = \"cpu-cluster\"\n",
    "\n",
    "# Verify that cluster does not exist already\n",
    "try:\n",
    "    aml_compute = ComputeTarget(workspace=ws, name=amlcompute_cluster_name)\n",
    "    print('Found existing cluster, use it.')\n",
    "except ComputeTargetException:\n",
    "    compute_config = AmlCompute.provisioning_configuration(vm_size='STANDARD_D2_V2',\n",
    "                                                           max_nodes=4)\n",
    "    aml_compute = ComputeTarget.create(ws, amlcompute_cluster_name, compute_config)\n",
    "\n",
    "aml_compute.wait_for_completion(show_output=True)"
   ]
  },
  {
   "cell_type": "markdown",
   "metadata": {},
   "source": [
    "### Prepare data\n",
    "Now we will prepare for regression modeling by using pandas. We run various transformations to filter and combine two different NYC taxi datasets.\n",
    "\n",
    "We achieve this by creating a separate step for each transformation as this allows us to reuse the steps and saves us from running all over again in case of any change. We will keep data preparation scripts in one subfolder and training scripts in another.\n",
    "\n",
    "> The best practice is to use separate folders for scripts and its dependent files for each step and specify that folder as the source_directory for the step. This helps reduce the size of the snapshot created for the step (only the specific folder is snapshotted). Since changes in any files in the source_directory would trigger a re-upload of the snapshot, this helps keep the reuse of the step when there are no changes in the source_directory of the step.\n",
    "#### Define Useful Columns\n",
    "Here we are defining a set of \"useful\" columns for both Green and Yellow taxi data."
   ]
  },
  {
   "cell_type": "code",
   "execution_count": 10,
   "metadata": {},
   "outputs": [
    {
     "data": {
      "text/plain": [
       "Index(['vendorID', 'lpepPickupDatetime', 'lpepDropoffDatetime',\n",
       "       'passengerCount', 'tripDistance', 'puLocationId', 'doLocationId',\n",
       "       'pickupLongitude', 'pickupLatitude', 'dropoffLongitude',\n",
       "       'dropoffLatitude', 'rateCodeID', 'storeAndFwdFlag', 'paymentType',\n",
       "       'fareAmount', 'extra', 'mtaTax', 'improvementSurcharge', 'tipAmount',\n",
       "       'tollsAmount', 'ehailFee', 'totalAmount', 'tripType'],\n",
       "      dtype='object')"
      ]
     },
     "metadata": {},
     "output_type": "display_data"
    },
    {
     "data": {
      "text/plain": [
       "Index(['vendorID', 'tpepPickupDateTime', 'tpepDropoffDateTime',\n",
       "       'passengerCount', 'tripDistance', 'puLocationId', 'doLocationId',\n",
       "       'startLon', 'startLat', 'endLon', 'endLat', 'rateCodeId',\n",
       "       'storeAndFwdFlag', 'paymentType', 'fareAmount', 'extra', 'mtaTax',\n",
       "       'improvementSurcharge', 'tipAmount', 'tollsAmount', 'totalAmount'],\n",
       "      dtype='object')"
      ]
     },
     "metadata": {},
     "output_type": "display_data"
    },
    {
     "name": "stdout",
     "output_type": "stream",
     "text": [
      "Useful columns defined.\n"
     ]
    }
   ],
   "source": [
    "display(green_df_raw.columns)\n",
    "display(yellow_df_raw.columns)\n",
    "\n",
    "# useful columns needed for the Azure Machine Learning NYC Taxi tutorial\n",
    "useful_columns = str([\"cost\", \"distance\", \"dropoff_datetime\", \"dropoff_latitude\", \n",
    "                      \"dropoff_longitude\", \"passengers\", \"pickup_datetime\", \n",
    "                      \"pickup_latitude\", \"pickup_longitude\", \"store_forward\", \"vendor\"]).replace(\",\", \";\")\n",
    "\n",
    "print(\"Useful columns defined.\")"
   ]
  },
  {
   "cell_type": "markdown",
   "metadata": {},
   "source": [
    "#### Cleanse Green taxi data"
   ]
  },
  {
   "cell_type": "code",
   "execution_count": 87,
   "metadata": {},
   "outputs": [],
   "source": [
    "from azureml.pipeline.wrapper import Module\n",
    "\n",
    "cleansing_module_func = Module.from_yaml(ws, os.path.join('nyc-taxi-data-regression-model-building', 'cleanse', 'cleanse_module_spec.yaml'))"
   ]
  },
  {
   "cell_type": "code",
   "execution_count": 88,
   "metadata": {},
   "outputs": [
    {
     "name": "stdout",
     "output_type": "stream",
     "text": [
      "cleansing_step_green created.\n"
     ]
    }
   ],
   "source": [
    "green_columns = str({ \n",
    "    \"vendorID\": \"vendor\",\n",
    "    \"lpepPickupDatetime\": \"pickup_datetime\",\n",
    "    \"lpepDropoffDatetime\": \"dropoff_datetime\",\n",
    "    \"storeAndFwdFlag\": \"store_forward\",\n",
    "    \"pickupLongitude\": \"pickup_longitude\",\n",
    "    \"pickupLatitude\": \"pickup_latitude\",\n",
    "    \"dropoffLongitude\": \"dropoff_longitude\",\n",
    "    \"dropoffLatitude\": \"dropoff_latitude\",\n",
    "    \"passengerCount\": \"passengers\",\n",
    "    \"fareAmount\": \"cost\",\n",
    "    \"tripDistance\": \"distance\"\n",
    "}).replace(\",\", \";\")\n",
    "\n",
    "cleansing_step_green = cleansing_module_func(\n",
    "    raw_data=green_taxi_data.as_named_input('raw_data'),\n",
    "    useful_columns=useful_columns,\n",
    "    columns=green_columns)\n",
    "\n",
    "print(\"cleansing_step_green created.\")"
   ]
  },
  {
   "cell_type": "markdown",
   "metadata": {},
   "source": [
    "#### Cleanse Yellow taxi data"
   ]
  },
  {
   "cell_type": "code",
   "execution_count": 89,
   "metadata": {},
   "outputs": [
    {
     "name": "stdout",
     "output_type": "stream",
     "text": [
      "cleansing_step_yellow created.\n"
     ]
    }
   ],
   "source": [
    "yellow_columns = str({\n",
    "    \"vendorID\": \"vendor\",\n",
    "    \"tpepPickupDateTime\": \"pickup_datetime\",\n",
    "    \"tpepDropoffDateTime\": \"dropoff_datetime\",\n",
    "    \"storeAndFwdFlag\": \"store_forward\",\n",
    "    \"startLon\": \"pickup_longitude\",\n",
    "    \"startLat\": \"pickup_latitude\",\n",
    "    \"endLon\": \"dropoff_longitude\",\n",
    "    \"endLat\": \"dropoff_latitude\",\n",
    "    \"passengerCount\": \"passengers\",\n",
    "    \"fareAmount\": \"cost\",\n",
    "    \"tripDistance\": \"distance\"\n",
    "}).replace(\",\", \";\")\n",
    "\n",
    "cleansing_step_yellow = cleansing_module_func(\n",
    "    raw_data=yellow_taxi_data.as_named_input('raw_data'),\n",
    "    useful_columns=useful_columns,\n",
    "    columns=yellow_columns)\n",
    "\n",
    "print(\"cleansing_step_yellow created.\")"
   ]
  },
  {
   "cell_type": "markdown",
   "metadata": {},
   "source": [
    "#### Merge cleansed Green and Yellow datasets\n",
    "We are creating a single data source by merging the cleansed versions of Green and Yellow taxi data."
   ]
  },
  {
   "cell_type": "code",
   "execution_count": 95,
   "metadata": {},
   "outputs": [],
   "source": [
    "merging_module_func = Module.from_yaml(ws, os.path.join('nyc-taxi-data-regression-model-building', 'merge', 'merge_module_spec.yaml'))"
   ]
  },
  {
   "cell_type": "code",
   "execution_count": 96,
   "metadata": {},
   "outputs": [
    {
     "name": "stdout",
     "output_type": "stream",
     "text": [
      "merging_step created.\n"
     ]
    }
   ],
   "source": [
    "merging_step = merging_module_func(\n",
    "    cleansed_green_data=cleansing_step_green.outputs.output_cleanse,\n",
    "    cleansed_yellow_data=cleansing_step_yellow.outputs.output_cleanse)\n",
    "\n",
    "print(\"merging_step created.\")"
   ]
  },
  {
   "cell_type": "markdown",
   "metadata": {},
   "source": [
    "#### Filter data\n",
    "This step filters out coordinates for locations that are outside the city border. We use a TypeConverter object to change the latitude and longitude fields to decimal type."
   ]
  },
  {
   "cell_type": "code",
   "execution_count": 97,
   "metadata": {},
   "outputs": [],
   "source": [
    "filter_module_func = Module.from_yaml(ws, os.path.join('nyc-taxi-data-regression-model-building', 'filter', 'filter_module_spec.yaml'))"
   ]
  },
  {
   "cell_type": "code",
   "execution_count": 98,
   "metadata": {},
   "outputs": [
    {
     "name": "stdout",
     "output_type": "stream",
     "text": [
      "filter_step created.\n"
     ]
    }
   ],
   "source": [
    "filter_step = filter_module_func(merged_data=merging_step.outputs.output_merge)\n",
    "\n",
    "print(\"filter_step created.\")"
   ]
  },
  {
   "cell_type": "markdown",
   "metadata": {},
   "source": [
    "#### Normalize data\n",
    "In this step, we split the pickup and dropoff datetime values into the respective date and time columns and then we rename the columns to use meaningful names."
   ]
  },
  {
   "cell_type": "code",
   "execution_count": 101,
   "metadata": {},
   "outputs": [],
   "source": [
    "normalize_module_func = Module.from_yaml(ws, os.path.join('nyc-taxi-data-regression-model-building', 'normalize', 'normalize_module_spec.yaml'))"
   ]
  },
  {
   "cell_type": "code",
   "execution_count": 102,
   "metadata": {},
   "outputs": [
    {
     "name": "stdout",
     "output_type": "stream",
     "text": [
      "normalize_step created.\n"
     ]
    }
   ],
   "source": [
    "normalize_step = normalize_module_func(filtered_data=filter_step.outputs.output_filter)\n",
    "\n",
    "print(\"normalize_step created.\")"
   ]
  },
  {
   "cell_type": "markdown",
   "metadata": {},
   "source": [
    "#### Transform data\n",
    "Transform the normalized taxi data to final required format. This steps does the following:\n",
    "\n",
    "- Split the pickup and dropoff date further into the day of the week, day of the month, and month values.\n",
    "- To get the day of the week value, uses the derive_column_by_example() function. The function takes an array parameter of example objects that define the input data, and the preferred output. The function automatically determines the preferred transformation. For the pickup and dropoff time columns, split the time into the hour, minute, and second by using the split_column_by_example() function with no example parameter.\n",
    "- After new features are generated, use the drop_columns() function to delete the original fields as the newly generated features are preferred.\n",
    "- Rename the rest of the fields to use meaningful descriptions."
   ]
  },
  {
   "cell_type": "code",
   "execution_count": 116,
   "metadata": {},
   "outputs": [],
   "source": [
    "transform_module_func = Module.from_yaml(ws, os.path.join('nyc-taxi-data-regression-model-building', 'transform', 'transform_module_spec.yaml'))"
   ]
  },
  {
   "cell_type": "code",
   "execution_count": 117,
   "metadata": {},
   "outputs": [
    {
     "name": "stdout",
     "output_type": "stream",
     "text": [
      "transform_step created.\n"
     ]
    }
   ],
   "source": [
    "transform_step = transform_module_func(normalized_data=normalize_step.outputs.output_normalize)\n",
    "\n",
    "print(\"transform_step created.\")"
   ]
  },
  {
   "cell_type": "markdown",
   "metadata": {},
   "source": [
    "#### Split the data into train and test sets\n",
    "This function segregates the data into dataset for model training and dataset for testing."
   ]
  },
  {
   "cell_type": "code",
   "execution_count": 121,
   "metadata": {},
   "outputs": [],
   "source": [
    "test_train_split_module_func = Module.from_yaml(ws, os.path.join('nyc-taxi-data-regression-model-building', 'train_test_split', 'train_test_split_module_spec.yaml'))"
   ]
  },
  {
   "cell_type": "code",
   "execution_count": 122,
   "metadata": {},
   "outputs": [
    {
     "name": "stdout",
     "output_type": "stream",
     "text": [
      "test_train_split_step created.\n"
     ]
    }
   ],
   "source": [
    "test_train_split_step = test_train_split_module_func(transformed_data=transform_step.outputs.output_transform)\n",
    "\n",
    "print(\"test_train_split_step created.\")"
   ]
  },
  {
   "cell_type": "markdown",
   "metadata": {},
   "source": [
    "#### Add regression steps\n",
    "TODO: use AutoML step in this part."
   ]
  },
  {
   "cell_type": "code",
   "execution_count": 125,
   "metadata": {},
   "outputs": [],
   "source": [
    "select_columns_func = Module.load(ws, namespace='azureml', name='Select Columns in Dataset')\n",
    "linear_regression_func = Module.load(ws, namespace='azureml', name='Linear Regression')\n",
    "train_model_func = Module.load(ws, namespace='azureml', name='Train Model')\n",
    "score_model_func = Module.load(ws, namespace='azureml', name='Score Model')\n",
    "evaluate_model_func = Module.load(ws, namespace='azureml', name='Evaluate Model')"
   ]
  },
  {
   "cell_type": "code",
   "execution_count": 129,
   "metadata": {},
   "outputs": [],
   "source": [
    "select_columns_step = select_columns_func(\n",
    "    dataset=test_train_split_step.outputs.output_split_train,\n",
    "    select_columns='{\"isFilter\":true,\"rules\":[{\"exclude\":false,\"ruleType\":\"ColumnNames\",\"columns\":[\"pickup_weekday\",\"pickup_hour\",\"distance\",\"passengers\",\"vendor\",\"cost\"]}]}')\n",
    "linear_regression_step = linear_regression_func(\n",
    "    solution_method='Ordinary Least Squares',\n",
    "    l2_regularization_weight=0.001,\n",
    "    include_intercept_term=True)\n",
    "train_model_step = train_model_func(\n",
    "    dataset=select_columns_step.outputs.results_dataset,\n",
    "    label_column='{\"isFilter\":true,\"rules\":[{\"exclude\":false,\"ruleType\":\"ColumnNames\",\"columns\":[\"cost\"]}]}',\n",
    "    untrained_model=linear_regression_step.outputs.untrained_model)\n",
    "score_model_step = score_model_func(\n",
    "    trained_model=train_model_step.outputs.trained_model,\n",
    "    dataset=test_train_split_step.outputs.output_split_test,\n",
    "    append_score_columns_to_output=True)\n",
    "evaluate_model_step = evaluate_model_func(scored_dataset=score_model_step.outputs.scored_dataset)"
   ]
  },
  {
   "cell_type": "markdown",
   "metadata": {},
   "source": [
    "#### Build Pipeline"
   ]
  },
  {
   "cell_type": "code",
   "execution_count": 130,
   "metadata": {},
   "outputs": [],
   "source": [
    "from azureml.pipeline.wrapper import Pipeline\n",
    "\n",
    "pipeline = Pipeline(\n",
    "    [cleansing_step_green,\n",
    "     cleansing_step_yellow,\n",
    "     merging_step,\n",
    "     filter_step,\n",
    "     normalize_step,\n",
    "     transform_step,\n",
    "     test_train_split_step,\n",
    "     select_columns_step,\n",
    "     linear_regression_step,\n",
    "     train_model_step,\n",
    "     score_model_step,\n",
    "     evaluate_model_step],\n",
    "    default_compute_target='cpu-cluster')"
   ]
  },
  {
   "cell_type": "markdown",
   "metadata": {},
   "source": [
    "#### Submit Pipeline"
   ]
  },
  {
   "cell_type": "code",
   "execution_count": 131,
   "metadata": {},
   "outputs": [
    {
     "name": "stdout",
     "output_type": "stream",
     "text": [
      "Submitted PipelineRun 3198a825-94ad-481d-8bab-961d452c70fe\n",
      "Link to Azure Machine Learning Portal: https://ml.azure.com/experiments/NYCTaxi_Tutorial_Pipelines/runs/3198a825-94ad-481d-8bab-961d452c70fe?wsid=/subscriptions/4faaaf21-663f-4391-96fd-47197c630979/resourcegroups/DesignerTestRG/workspaces/DesignerTest-EUS\n",
      "PipelineRunId: 3198a825-94ad-481d-8bab-961d452c70fe\n",
      "Link to Azure Machine Learning Portal: https://ml.azure.com/experiments/NYCTaxi_Tutorial_Pipelines/runs/3198a825-94ad-481d-8bab-961d452c70fe?wsid=/subscriptions/4faaaf21-663f-4391-96fd-47197c630979/resourcegroups/DesignerTestRG/workspaces/DesignerTest-EUS\n"
     ]
    },
    {
     "data": {
      "application/javascript": [
       "try {\n",
       "    require.undef(\"validate_widget\")\n",
       "\n",
       "    define('validate_widget', [\"@jupyter-widgets/base\"], function(widgets) {\n",
       "        var ValidateView = widgets.DOMWidgetView.extend({\n",
       "            render () {\n",
       "                var self = window.widget_self = this\n",
       "                var visualize_id = this.model.get('visualize_id')\n",
       "\n",
       "                if (!window._renderLock) {\n",
       "                    window._renderLock = {}\n",
       "                }\n",
       "                if (window._renderLock[visualize_id]) {\n",
       "                    return\n",
       "                }\n",
       "                window._renderLock[visualize_id] = \"widget\"\n",
       "                console.log(\"load as widget\", Date.now())\n",
       "\n",
       "                var lib_url = this.model.get('lib_url')\n",
       "                var graph_json = JSON.parse(this.model.get('graph_json'))\n",
       "                var env_json = JSON.parse(this.model.get('env_json'))\n",
       "                var container_id = this.model.get('container_id')\n",
       "                var is_prod = this.model.get('is_prod')\n",
       "\n",
       "                window.render_container_id = container_id\n",
       "                window.graph_json = graph_json\n",
       "                window.is_prod = is_prod\n",
       "                window.profiling_json = undefined\n",
       "                window.graph_json_to_compare = undefined\n",
       "                window.env_json = env_json\n",
       "                window.before_script = performance.now()\n",
       "\n",
       "                var container = document.createElement('div')\n",
       "                container.id = container_id\n",
       "                this.el.appendChild(container)\n",
       "\n",
       "                var style = document.createElement('style')\n",
       "                style.innerHTML = [\n",
       "                    \"#\", container_id, \" svg.react-dag-editor-svg-container { height: 800px; }\",\n",
       "                    \".cell-output-ipywidget-background { background: transparent !important }\"\n",
       "                ].join('')\n",
       "                this.el.appendChild(style)\n",
       "\n",
       "                this.model.on('msg:custom', dispatchMessage, this);\n",
       "\n",
       "                if (!window.__event_hub) {\n",
       "                    window.__event_hub = {}\n",
       "                }\n",
       "                if (!window.__event_hub[container_id]) {\n",
       "                    window.__event_hub[container_id] = {}\n",
       "                }\n",
       "\n",
       "                if (!window.__send_event) {\n",
       "                    window.__send_event = {}\n",
       "                }\n",
       "                window.__send_event[container_id] = sendMessage.bind(this)\n",
       "\n",
       "                function sendMessage(message, uid, content) {\n",
       "                    return new Promise(function (resolve) {\n",
       "                        self.model.send({\n",
       "                            message: `${message}:request`,\n",
       "                            body: {\n",
       "                                uid,\n",
       "                                content\n",
       "                            }\n",
       "                        })\n",
       "    \n",
       "                        var respMessageKey = `${message}:response`\n",
       "                        if (!window.__event_hub[container_id][respMessageKey]) {\n",
       "                            window.__event_hub[container_id][respMessageKey] = []\n",
       "                        }\n",
       "                        window.__event_hub[container_id][respMessageKey].push(callback)\n",
       "    \n",
       "                        function callback (response) {\n",
       "                            if (response.uid !== uid) {\n",
       "                                return\n",
       "                            }\n",
       "\n",
       "                            var idx = window.__event_hub[container_id][respMessageKey].indexOf(callback) \n",
       "                            window.__event_hub[container_id][respMessageKey].splice(idx, 1)\n",
       "                            \n",
       "                            resolve(response)\n",
       "                        }\n",
       "                    })\n",
       "                }\n",
       "\n",
       "                function dispatchMessage (rawMessage) {\n",
       "                    var message = rawMessage.message\n",
       "                    var body = rawMessage.body\n",
       "\n",
       "                    if (!window.__event_hub[container_id][message]) {\n",
       "                        window.__event_hub[container_id][message] = []\n",
       "                    }\n",
       "                    var listeners = window.__event_hub[container_id][message]\n",
       "\n",
       "                    listeners.forEach(function (cb) {\n",
       "                        try {\n",
       "                            cb(body)\n",
       "                        } catch (e) {\n",
       "                            console.error(\"Unexpected error in listener\", e)\n",
       "                        }\n",
       "                    })\n",
       "\n",
       "                    console.log(body)\n",
       "                }\n",
       "\n",
       "                function hideLoading () {\n",
       "                    var style = document.createElement('style')\n",
       "                    style.innerHTML = `#loading-${visualize_id} .ms-Spinner-root { display: none !important }`\n",
       "                    self.el.appendChild(style)\n",
       "                }\n",
       "\n",
       "                var script = document.createElement('script')\n",
       "                script.onload = hideLoading\n",
       "                script.src = lib_url\n",
       "                this.el.appendChild(script)\n",
       "            }\n",
       "        });\n",
       "\n",
       "        return {\n",
       "            ValidateView\n",
       "        }\n",
       "    })\n",
       "} catch (e) {\n",
       "    console.log(\"create validation widget failed\", e)\n",
       "}"
      ],
      "text/plain": [
       "<IPython.core.display.Javascript object>"
      ]
     },
     "metadata": {},
     "output_type": "display_data"
    },
    {
     "data": {
      "text/html": [
       "\n",
       "    <div id=\"loading-7b97eb0e-119d-4068-be76-ae26b25fe0bb\">\n",
       "        <style>\n",
       "    @keyframes css-269 {\n",
       "        0% {\n",
       "            transform: rotate(0deg);\n",
       "        }\n",
       "\n",
       "        100% {\n",
       "            transform: rotate(360deg);\n",
       "        }\n",
       "    }\n",
       "    .ms-Spinner-root {\n",
       "        display: flex;\n",
       "        flex-direction: row;\n",
       "        align-items: center;\n",
       "        justify-content: center;\n",
       "    }\n",
       "\n",
       "    .ms-Spinner-circle {\n",
       "        box-sizing: border-box;\n",
       "        animation-name: css-269;\n",
       "        animation-duration: 1.3s;\n",
       "        animation-iteration-count: infinite;\n",
       "        animation-timing-function: cubic-bezier(0.53, 0.21, 0.29, 0.67);\n",
       "        width: 28px;\n",
       "        height: 28px;\n",
       "        border-radius: 50%;\n",
       "        border-width: 1.5px;\n",
       "        border-style: solid;\n",
       "        border-color: rgb(0, 120, 212) rgb(199, 224, 244) rgb(199, 224, 244);\n",
       "        border-image: initial;\n",
       "    }\n",
       "\n",
       "    .ms-Spinner-label {\n",
       "        font-family: \"Segoe UI\", \"Segoe UI Web (West European)\", \"Segoe UI\", -apple-system, BlinkMacSystemFont, Roboto, \"Helvetica Neue\", sans-serif;\n",
       "        -webkit-font-smoothing: antialiased;\n",
       "        font-size: 12px;\n",
       "        font-weight: 400;\n",
       "        color: rgb(0, 120, 212);\n",
       "        margin-top: 0px;\n",
       "        margin-right: 0px;\n",
       "        margin-bottom: 0px;\n",
       "        margin-left: 8px;\n",
       "        text-align: center;\n",
       "    }\n",
       "</style>\n",
       "<div class=\"ms-Spinner-root\">\n",
       "    <div class=\"ms-Spinner-circle\"></div>\n",
       "    <div class=\"ms-Spinner-label\">Loading...</div>\n",
       "</div>\n",
       "    </div>\n",
       "    "
      ],
      "text/plain": [
       "<IPython.core.display.HTML object>"
      ]
     },
     "metadata": {},
     "output_type": "display_data"
    },
    {
     "data": {
      "application/vnd.jupyter.widget-view+json": {
       "model_id": "12ac309ff5c04efa8ef10a137f87fa72",
       "version_major": 2,
       "version_minor": 0
      },
      "text/plain": [
       "ValidateView(container_id='container_id_7b97eb0e-119d-4068-be76-ae26b25fe0bb_widget', env_json='{\"sdk_version\"…"
      ]
     },
     "metadata": {},
     "output_type": "display_data"
    },
    {
     "data": {
      "text/html": [
       "\n",
       "        <style>\n",
       "        #container_id_7b97eb0e-119d-4068-be76-ae26b25fe0bb_script svg.react-dag-editor-svg-container {\n",
       "            height: 800px;\n",
       "        }\n",
       "        </style>\n",
       "        <div id=\"container_id_7b97eb0e-119d-4068-be76-ae26b25fe0bb_script\"></div>\n",
       "        <script>\n",
       "            (function () {\n",
       "                if (!window._renderLock) {\n",
       "                    window._renderLock = {}\n",
       "                }\n",
       "                if (window._renderLock[\"7b97eb0e-119d-4068-be76-ae26b25fe0bb\"]) {\n",
       "                    return\n",
       "                }\n",
       "                window._renderLock[\"7b97eb0e-119d-4068-be76-ae26b25fe0bb\"] = \"script\"\n",
       "                console.log(\"load as script\", Date.now())\n",
       "                window.render_container_id=\"container_id_7b97eb0e-119d-4068-be76-ae26b25fe0bb_script\";\n",
       "                window.graph_json={\"pipeline\": {\"name\": \"Pipeline-Created-on-9-16-2020\", \"data_references\": {\"037829f9-4c4e-4523-ac58-82e3825c4510\": {\"dataset_id\": \"f609ef69-9cf2-458e-b276-2687a79c214f\"}, \"e307ddfb-4686-4764-826c-70523d0ba989\": {\"dataset_id\": \"323ba0a9-c5b9-42ac-8201-5b1f30067bf8\"}}, \"steps\": {\"cbfbc58a\": {\"inputs\": {\"Raw_data\": {\"source\": \"037829f9-4c4e-4523-ac58-82e3825c4510\"}}, \"outputs\": {\"Output_cleanse\": {\"destination\": \"cbfbc58a_Output_cleanse\"}}, \"module\": {\"id\": \"bee2b78a-d2be-4713-9e62-8263eaff96e7\", \"version\": \"0.0.1\"}, \"validate\": {\"error\": [], \"module_id\": \"bee2b78a-d2be-4713-9e62-8263eaff96e7\", \"namespace\": \"microsoft.com/azureml/samples\", \"module_name\": \"Cleanse Taxi Data\", \"module_version\": \"0.0.1\"}}, \"2050b2b7\": {\"inputs\": {\"Raw_data\": {\"source\": \"e307ddfb-4686-4764-826c-70523d0ba989\"}}, \"outputs\": {\"Output_cleanse\": {\"destination\": \"2050b2b7_Output_cleanse\"}}, \"module\": {\"id\": \"bee2b78a-d2be-4713-9e62-8263eaff96e7\", \"version\": \"0.0.1\"}, \"validate\": {\"error\": [], \"module_id\": \"bee2b78a-d2be-4713-9e62-8263eaff96e7\", \"namespace\": \"microsoft.com/azureml/samples\", \"module_name\": \"Cleanse Taxi Data\", \"module_version\": \"0.0.1\"}}, \"5cd6bf31\": {\"inputs\": {\"Cleansed_green_data\": {\"source\": \"cbfbc58a_Output_cleanse\"}, \"Cleansed_yellow_data\": {\"source\": \"2050b2b7_Output_cleanse\"}}, \"outputs\": {\"Output_merge\": {\"destination\": \"5cd6bf31_Output_merge\"}}, \"module\": {\"id\": \"ceb13f72-4a38-462e-8f51-1092ff0ba234\", \"version\": \"0.0.1\"}, \"validate\": {\"error\": [], \"module_id\": \"ceb13f72-4a38-462e-8f51-1092ff0ba234\", \"namespace\": \"microsoft.com/azureml/samples\", \"module_name\": \"Merge Taxi Data\", \"module_version\": \"0.0.1\"}}, \"96f9b490\": {\"inputs\": {\"Merged_data\": {\"source\": \"5cd6bf31_Output_merge\"}}, \"outputs\": {\"Output_filter\": {\"destination\": \"96f9b490_Output_filter\"}}, \"module\": {\"id\": \"b0b18365-8542-472b-8d86-a183a60987f9\", \"version\": \"0.0.1\"}, \"validate\": {\"error\": [], \"module_id\": \"b0b18365-8542-472b-8d86-a183a60987f9\", \"namespace\": \"microsoft.com/azureml/samples\", \"module_name\": \"Filter Taxi Data\", \"module_version\": \"0.0.1\"}}, \"785621f7\": {\"inputs\": {\"Filtered_data\": {\"source\": \"96f9b490_Output_filter\"}}, \"outputs\": {\"Output_normalize\": {\"destination\": \"785621f7_Output_normalize\"}}, \"module\": {\"id\": \"c3cdb86e-5845-4192-b749-6edb17d901b5\", \"version\": \"0.0.1\"}, \"validate\": {\"error\": [], \"module_id\": \"c3cdb86e-5845-4192-b749-6edb17d901b5\", \"namespace\": \"microsoft.com/azureml/samples\", \"module_name\": \"Normalize Taxi Data\", \"module_version\": \"0.0.1\"}}, \"9b999367\": {\"inputs\": {\"Normalized_data\": {\"source\": \"785621f7_Output_normalize\"}}, \"outputs\": {\"Output_transform\": {\"destination\": \"9b999367_Output_transform\"}}, \"module\": {\"id\": \"fd8b7750-53f6-4f1c-a3db-6580474e9bc9\", \"version\": \"0.0.1\"}, \"validate\": {\"error\": [], \"module_id\": \"fd8b7750-53f6-4f1c-a3db-6580474e9bc9\", \"namespace\": \"microsoft.com/azureml/samples\", \"module_name\": \"Transform Taxi Data\", \"module_version\": \"0.0.1\"}}, \"35f9482f\": {\"inputs\": {\"Transformed_data\": {\"source\": \"9b999367_Output_transform\"}}, \"outputs\": {\"Output_split_train\": {\"destination\": \"35f9482f_Output_split_train\"}, \"Output_split_test\": {\"destination\": \"35f9482f_Output_split_test\"}}, \"module\": {\"id\": \"527c8310-f17b-4023-91d2-e6dd48038567\", \"version\": \"0.0.1\"}, \"validate\": {\"error\": [], \"module_id\": \"527c8310-f17b-4023-91d2-e6dd48038567\", \"namespace\": \"microsoft.com/azureml/samples\", \"module_name\": \"Train Test Data Split\", \"module_version\": \"0.0.1\"}}, \"23c6ce56\": {\"inputs\": {\"Dataset\": {\"source\": \"35f9482f_Output_split_train\"}}, \"outputs\": {\"Results_dataset\": {\"destination\": \"23c6ce56_Results_dataset\"}}, \"module\": {\"id\": \"99208d9e-323c-5e41-ac00-b2fd70e8a07e\", \"version\": \"0.0.136\"}, \"validate\": {\"error\": [], \"module_id\": \"99208d9e-323c-5e41-ac00-b2fd70e8a07e\", \"namespace\": \"azureml\", \"module_name\": \"Select Columns in Dataset\", \"module_version\": \"0.0.136\"}}, \"e978f6c2\": {\"inputs\": {}, \"outputs\": {\"Untrained_model\": {\"destination\": \"e978f6c2_Untrained_model\"}}, \"module\": {\"id\": \"3300591f-4e9c-527b-a746-24c9d12e4243\", \"version\": \"0.0.136\"}, \"validate\": {\"error\": [], \"module_id\": \"3300591f-4e9c-527b-a746-24c9d12e4243\", \"namespace\": \"azureml\", \"module_name\": \"Linear Regression\", \"module_version\": \"0.0.136\"}}, \"4e8fe914\": {\"inputs\": {\"Dataset\": {\"source\": \"23c6ce56_Results_dataset\"}, \"Untrained_model\": {\"source\": \"e978f6c2_Untrained_model\"}}, \"outputs\": {\"Trained_model\": {\"destination\": \"4e8fe914_Trained_model\"}}, \"module\": {\"id\": \"e0dff351-f9da-5e96-9ac8-c963d99165f7\", \"version\": \"0.0.136\"}, \"validate\": {\"error\": [], \"module_id\": \"e0dff351-f9da-5e96-9ac8-c963d99165f7\", \"namespace\": \"azureml\", \"module_name\": \"Train Model\", \"module_version\": \"0.0.136\"}}, \"9e369105\": {\"inputs\": {\"Trained_model\": {\"source\": \"4e8fe914_Trained_model\"}, \"Dataset\": {\"source\": \"35f9482f_Output_split_test\"}}, \"outputs\": {\"Scored_dataset\": {\"destination\": \"9e369105_Scored_dataset\"}}, \"module\": {\"id\": \"3d321060-b38a-5474-a778-b87831892cd2\", \"version\": \"0.0.136\"}, \"validate\": {\"error\": [], \"module_id\": \"3d321060-b38a-5474-a778-b87831892cd2\", \"namespace\": \"azureml\", \"module_name\": \"Score Model\", \"module_version\": \"0.0.136\"}}, \"5dd2fc94\": {\"inputs\": {\"Scored_dataset\": {\"source\": \"9e369105_Scored_dataset\"}}, \"outputs\": {}, \"module\": {\"id\": \"96fd3f90-f200-50cd-94df-d58f2eabd238\", \"version\": \"0.0.136\"}, \"validate\": {\"error\": [], \"module_id\": \"96fd3f90-f200-50cd-94df-d58f2eabd238\", \"namespace\": \"azureml\", \"module_name\": \"Evaluate Model\", \"module_version\": \"0.0.136\"}}}}, \"modules\": [{\"module_id\": \"3300591f-4e9c-527b-a746-24c9d12e4243\", \"version\": \"0.0.136\", \"name\": \"Linear Regression\", \"namespace\": \"azureml\", \"structured_interface\": {\"inputs\": [], \"outputs\": [{\"name\": \"Untrained_model\", \"label\": \"Untrained model\", \"description\": \"An untrained regression model\", \"data_type_id\": \"UntrainedModelDirectory\"}]}}, {\"module_id\": \"3d321060-b38a-5474-a778-b87831892cd2\", \"version\": \"0.0.136\", \"name\": \"Score Model\", \"namespace\": \"azureml\", \"structured_interface\": {\"inputs\": [{\"name\": \"Trained_model\", \"label\": \"Trained model\", \"description\": \"Trained predictive model\", \"data_type_ids_list\": [\"ModelDirectory\"]}, {\"name\": \"Dataset\", \"label\": \"Dataset\", \"description\": \"Input test dataset\", \"data_type_ids_list\": [\"DataFrameDirectory\"]}], \"outputs\": [{\"name\": \"Scored_dataset\", \"label\": \"Scored dataset\", \"description\": \"Dataset with obtained scores\", \"data_type_id\": \"DataFrameDirectory\"}]}}, {\"module_id\": \"96fd3f90-f200-50cd-94df-d58f2eabd238\", \"version\": \"0.0.136\", \"name\": \"Evaluate Model\", \"namespace\": \"azureml\", \"structured_interface\": {\"inputs\": [{\"name\": \"Scored_dataset\", \"label\": \"Scored dataset\", \"description\": \"Scored dataset\", \"data_type_ids_list\": [\"DataFrameDirectory\"]}, {\"name\": \"Scored_dataset_to_compare\", \"label\": \"Scored dataset to compare\", \"description\": \"Scored dataset to compare (optional)\", \"data_type_ids_list\": [\"DataFrameDirectory\"]}], \"outputs\": [{\"name\": \"Evaluation_results\", \"label\": \"Evaluation results\", \"description\": \"Data evaluation result\", \"data_type_id\": \"DataFrameDirectory\"}]}}, {\"module_id\": \"99208d9e-323c-5e41-ac00-b2fd70e8a07e\", \"version\": \"0.0.136\", \"name\": \"Select Columns in Dataset\", \"namespace\": \"azureml\", \"structured_interface\": {\"inputs\": [{\"name\": \"Dataset\", \"label\": \"Dataset\", \"description\": \"Input dataset\", \"data_type_ids_list\": [\"DataFrameDirectory\"]}], \"outputs\": [{\"name\": \"Results_dataset\", \"label\": \"Results dataset\", \"description\": \"Output dataset\", \"data_type_id\": \"DataFrameDirectory\"}]}}, {\"module_id\": \"e0dff351-f9da-5e96-9ac8-c963d99165f7\", \"version\": \"0.0.136\", \"name\": \"Train Model\", \"namespace\": \"azureml\", \"structured_interface\": {\"inputs\": [{\"name\": \"Untrained_model\", \"label\": \"Untrained model\", \"description\": \"Untrained learner\", \"data_type_ids_list\": [\"UntrainedModelDirectory\"]}, {\"name\": \"Dataset\", \"label\": \"Dataset\", \"description\": \"Training data\", \"data_type_ids_list\": [\"DataFrameDirectory\"]}], \"outputs\": [{\"name\": \"Trained_model\", \"label\": \"Trained model\", \"description\": \"Trained learner\", \"data_type_id\": \"ModelDirectory\"}]}}, {\"module_id\": \"bee2b78a-d2be-4713-9e62-8263eaff96e7\", \"version\": \"0.0.1\", \"name\": \"Cleanse Taxi Data\", \"namespace\": \"microsoft.com/azureml/samples\", \"structured_interface\": {\"inputs\": [{\"name\": \"Raw_data\", \"label\": \"Raw data\", \"description\": null, \"data_type_ids_list\": [\"AzureMLDataset\"]}], \"outputs\": [{\"name\": \"Output_cleanse\", \"label\": \"Output cleanse\", \"description\": null, \"data_type_id\": \"DataFrameDirectory\"}]}}, {\"module_id\": \"ceb13f72-4a38-462e-8f51-1092ff0ba234\", \"version\": \"0.0.1\", \"name\": \"Merge Taxi Data\", \"namespace\": \"microsoft.com/azureml/samples\", \"structured_interface\": {\"inputs\": [{\"name\": \"Cleansed_green_data\", \"label\": \"Cleansed green data\", \"description\": null, \"data_type_ids_list\": [\"DataFrameDirectory\"]}, {\"name\": \"Cleansed_yellow_data\", \"label\": \"Cleansed yellow data\", \"description\": null, \"data_type_ids_list\": [\"DataFrameDirectory\"]}], \"outputs\": [{\"name\": \"Output_merge\", \"label\": \"Output merge\", \"description\": null, \"data_type_id\": \"DataFrameDirectory\"}]}}, {\"module_id\": \"b0b18365-8542-472b-8d86-a183a60987f9\", \"version\": \"0.0.1\", \"name\": \"Filter Taxi Data\", \"namespace\": \"microsoft.com/azureml/samples\", \"structured_interface\": {\"inputs\": [{\"name\": \"Merged_data\", \"label\": \"Merged data\", \"description\": null, \"data_type_ids_list\": [\"DataFrameDirectory\"]}], \"outputs\": [{\"name\": \"Output_filter\", \"label\": \"Output filter\", \"description\": null, \"data_type_id\": \"DataFrameDirectory\"}]}}, {\"module_id\": \"c3cdb86e-5845-4192-b749-6edb17d901b5\", \"version\": \"0.0.1\", \"name\": \"Normalize Taxi Data\", \"namespace\": \"microsoft.com/azureml/samples\", \"structured_interface\": {\"inputs\": [{\"name\": \"Filtered_data\", \"label\": \"Filtered data\", \"description\": null, \"data_type_ids_list\": [\"DataFrameDirectory\"]}], \"outputs\": [{\"name\": \"Output_normalize\", \"label\": \"Output normalize\", \"description\": null, \"data_type_id\": \"DataFrameDirectory\"}]}}, {\"module_id\": \"fd8b7750-53f6-4f1c-a3db-6580474e9bc9\", \"version\": \"0.0.1\", \"name\": \"Transform Taxi Data\", \"namespace\": \"microsoft.com/azureml/samples\", \"structured_interface\": {\"inputs\": [{\"name\": \"Normalized_data\", \"label\": \"Normalized data\", \"description\": null, \"data_type_ids_list\": [\"DataFrameDirectory\"]}], \"outputs\": [{\"name\": \"Output_transform\", \"label\": \"Output transform\", \"description\": null, \"data_type_id\": \"DataFrameDirectory\"}]}}, {\"module_id\": \"527c8310-f17b-4023-91d2-e6dd48038567\", \"version\": \"0.0.1\", \"name\": \"Train Test Data Split\", \"namespace\": \"microsoft.com/azureml/samples\", \"structured_interface\": {\"inputs\": [{\"name\": \"Transformed_data\", \"label\": \"Transformed data\", \"description\": null, \"data_type_ids_list\": [\"DataFrameDirectory\"]}], \"outputs\": [{\"name\": \"Output_split_train\", \"label\": \"Output split train\", \"description\": null, \"data_type_id\": \"DataFrameDirectory\"}, {\"name\": \"Output_split_test\", \"label\": \"Output split test\", \"description\": null, \"data_type_id\": \"DataFrameDirectory\"}]}}], \"datasources\": [{\"name\": \"green_taxi_data\", \"description\": null, \"version\": \"2\", \"registered_id\": \"f609ef69-9cf2-458e-b276-2687a79c214f\", \"saved_id\": \"037829f9-4c4e-4523-ac58-82e3825c4510\", \"nodeId\": \"51816516-51f1-3528-a9df-b3c8e1d50829\"}, {\"name\": \"yellow_taxi_data\", \"description\": null, \"version\": \"2\", \"registered_id\": \"323ba0a9-c5b9-42ac-8201-5b1f30067bf8\", \"saved_id\": \"e307ddfb-4686-4764-826c-70523d0ba989\", \"nodeId\": \"f00eef34-f842-30ee-9502-46ee2f3eff72\"}], \"subGraphInfo\": [{\"name\": \"Pipeline-Created-on-9-16-2020\", \"default_compute_target\": {\"name\": \"cpu-cluster\", \"compute_type\": \"0\"}, \"default_data_store\": {\"data_store_name\": \"workspaceblobstore\"}, \"id\": \"26337f92-d23c-44f0-9522-e1ac45f44c2c\", \"pipeline_definition_id\": \"dc6f05cc-22c4-4e27-8818-988e0af2c461\", \"sub_graph_parameter_assignment\": [], \"sub_graph_data_path_parameter_assignment\": [], \"sub_graph_default_compute_target_nodes\": [\"cbfbc58a\", \"2050b2b7\", \"5cd6bf31\", \"96f9b490\", \"785621f7\", \"9b999367\", \"35f9482f\", \"23c6ce56\", \"e978f6c2\", \"4e8fe914\", \"9e369105\", \"5dd2fc94\"], \"sub_graph_default_data_store_nodes\": [\"23c6ce56\", \"e978f6c2\", \"4e8fe914\", \"9e369105\", \"5dd2fc94\"], \"inputs\": [], \"outputs\": []}], \"nodeIdToSubGraphIdMapping\": {\"cbfbc58a\": \"26337f92-d23c-44f0-9522-e1ac45f44c2c\", \"2050b2b7\": \"26337f92-d23c-44f0-9522-e1ac45f44c2c\", \"5cd6bf31\": \"26337f92-d23c-44f0-9522-e1ac45f44c2c\", \"96f9b490\": \"26337f92-d23c-44f0-9522-e1ac45f44c2c\", \"785621f7\": \"26337f92-d23c-44f0-9522-e1ac45f44c2c\", \"9b999367\": \"26337f92-d23c-44f0-9522-e1ac45f44c2c\", \"35f9482f\": \"26337f92-d23c-44f0-9522-e1ac45f44c2c\", \"23c6ce56\": \"26337f92-d23c-44f0-9522-e1ac45f44c2c\", \"e978f6c2\": \"26337f92-d23c-44f0-9522-e1ac45f44c2c\", \"4e8fe914\": \"26337f92-d23c-44f0-9522-e1ac45f44c2c\", \"9e369105\": \"26337f92-d23c-44f0-9522-e1ac45f44c2c\", \"5dd2fc94\": \"26337f92-d23c-44f0-9522-e1ac45f44c2c\"}, \"subPipelineDefinition\": [{\"default_compute_target\": {\"name\": \"cpu-cluster\", \"compute_type\": \"0\"}, \"default_data_store\": {\"data_store_name\": \"workspaceblobstore\"}, \"id\": \"dc6f05cc-22c4-4e27-8818-988e0af2c461\", \"parameter_list\": []}]};\n",
       "                window.graph_json_to_compare=null;\n",
       "                window.profiling_json=null;\n",
       "                window.env_json={\"sdk_version\": \"0.1.0.0\"};\n",
       "                window.is_prod=0\n",
       "                window.before_script=performance.now();\n",
       "                var script=document.createElement('script')\n",
       "                script.onload=hideLoading\n",
       "                script.src=\"https://yucongj-test.azureedge.net/libs/test/index.js?t=1600245540\"\n",
       "                document.getElementById(\"container_id_7b97eb0e-119d-4068-be76-ae26b25fe0bb_script\").appendChild(script)\n",
       "\n",
       "                function hideLoading () {\n",
       "                    var style = document.createElement('style')\n",
       "                    style.innerHTML = \"#loading-7b97eb0e-119d-4068-be76-ae26b25fe0bb .ms-Spinner-root { display: none !important }\"\n",
       "                    document.getElementById(\"container_id_7b97eb0e-119d-4068-be76-ae26b25fe0bb_script\").appendChild(style)\n",
       "                }\n",
       "            })()\n",
       "        </script>\n",
       "        \n",
       "        "
      ],
      "text/plain": [
       "<IPython.core.display.HTML object>"
      ]
     },
     "metadata": {},
     "output_type": "display_data"
    },
    {
     "data": {
      "text/plain": [
       "<RunStatus.completed: 'Completed'>"
      ]
     },
     "execution_count": 131,
     "metadata": {},
     "output_type": "execute_result"
    }
   ],
   "source": [
    "run = pipeline.submit(experiment_name='NYCTaxi_Tutorial_Pipelines')\n",
    "run.wait_for_completion()"
   ]
  },
  {
   "cell_type": "code",
   "execution_count": null,
   "metadata": {},
   "outputs": [],
   "source": []
  }
 ],
 "metadata": {
  "kernelspec": {
   "display_name": "Python (aml)",
   "language": "python",
   "name": "aml"
  },
  "language_info": {
   "codemirror_mode": {
    "name": "ipython",
    "version": 3
   },
   "file_extension": ".py",
   "mimetype": "text/x-python",
   "name": "python",
   "nbconvert_exporter": "python",
   "pygments_lexer": "ipython3",
   "version": "3.7.6"
  }
 },
 "nbformat": 4,
 "nbformat_minor": 4
}
