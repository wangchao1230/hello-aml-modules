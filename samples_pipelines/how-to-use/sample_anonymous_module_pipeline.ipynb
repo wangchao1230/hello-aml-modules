{
 "cells": [
  {
   "cell_type": "code",
   "execution_count": null,
   "metadata": {},
   "outputs": [],
   "source": [
    "from azureml.core import Workspace, Dataset\n",
    "from azureml.pipeline.wrapper import Pipeline, Module, dsl"
   ]
  },
  {
   "cell_type": "code",
   "execution_count": null,
   "metadata": {},
   "outputs": [],
   "source": [
    "ws = Workspace.from_config()\n",
    "print(ws.name, ws.resource_group, ws.location, ws.subscription_id, sep='\\n')"
   ]
  },
  {
   "cell_type": "code",
   "execution_count": null,
   "metadata": {},
   "outputs": [],
   "source": [
    "# register anonymous modules\n",
    "import os\n",
    "from azureml.pipeline.wrapper._module_registration import _load_anonymous_module\n",
    "local_module = _load_anonymous_module(ws, yaml_file=os.path.join('modules', 'hello_world', 'module_spec.yaml'))\n",
    "github_yaml = \"https://github.com/sherry1989/sample_modules/blob/master/3_basic_module/basic_module.yaml\"\n",
    "github_module = _load_anonymous_module(ws, yaml_file=github_yaml)\n",
    "hello_world_module_id = local_module.module_version_id\n",
    "basic_module_id = github_module.module_version_id"
   ]
  },
  {
   "cell_type": "code",
   "execution_count": null,
   "metadata": {},
   "outputs": [],
   "source": [
    "# get modules\n",
    "hello_world_anonymous = Module.load(ws, id=hello_world_module_id)\n",
    "basic_module_anonymous = Module.load(ws, id=basic_module_id)"
   ]
  },
  {
   "cell_type": "code",
   "execution_count": null,
   "metadata": {},
   "outputs": [],
   "source": [
    "# get dataset\n",
    "from azureml.pipeline.wrapper._dataset import get_global_dataset_by_path\n",
    "automobile_price_data_raw = get_global_dataset_by_path(ws, 'automobile_price_data_raw', 'GenericCSV/Automobile_price_data_(Raw)')"
   ]
  },
  {
   "cell_type": "code",
   "execution_count": null,
   "metadata": {},
   "outputs": [],
   "source": [
    "# define pipeline\n",
    "@dsl.pipeline(name='module_SDK_test Run 8575', description='test local module', default_compute_target='aml-compute')\n",
    "def generated_pipeline():\n",
    "    hello_world_anonymous_0 = hello_world_anonymous(\n",
    "        input_path=automobile_price_data_raw,\n",
    "        int_parameter='1',\n",
    "        boolean_parameter='True',\n",
    "        enum_parameter='option1',\n",
    "        string_parameter='hello')\n",
    "    hello_world_anonymous_0.runsettings.configure(target='aml-compute')\n",
    "    \n",
    "    basic_module_anonymous_0 = basic_module_anonymous(\n",
    "        input_port=hello_world_anonymous_0.outputs.output_path,\n",
    "        parameter_1='hello',\n",
    "        parameter_2='1')\n",
    "    basic_module_anonymous_0.runsettings.configure(target='aml-compute')"
   ]
  },
  {
   "cell_type": "code",
   "execution_count": null,
   "metadata": {},
   "outputs": [],
   "source": [
    "# create a pipeline\n",
    "pipeline = generated_pipeline()"
   ]
  },
  {
   "cell_type": "code",
   "execution_count": null,
   "metadata": {},
   "outputs": [],
   "source": [
    "# validate pipeline and visualize the graph\n",
    "pipeline.validate()"
   ]
  },
  {
   "cell_type": "code",
   "execution_count": null,
   "metadata": {
    "tags": [
     "outputPrepend"
    ]
   },
   "outputs": [],
   "source": [
    "# submit a pipeline run\n",
    "pipeline.submit(experiment_name='module_SDK_test').wait_for_completion()"
   ]
  }
 ],
 "metadata": {
  "kernelspec": {
   "display_name": "Python (aml)",
   "language": "python",
   "name": "aml"
  },
  "language_info": {
   "codemirror_mode": {
    "name": "ipython",
    "version": 3
   },
   "file_extension": ".py",
   "mimetype": "text/x-python",
   "name": "python",
   "nbconvert_exporter": "python",
   "pygments_lexer": "ipython3",
   "version": "3.7.6"
  }
 },
 "nbformat": 4,
 "nbformat_minor": 2
}
