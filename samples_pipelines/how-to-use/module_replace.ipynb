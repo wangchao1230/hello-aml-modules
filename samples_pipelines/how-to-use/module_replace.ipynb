{
 "cells": [
  {
   "cell_type": "markdown",
   "metadata": {
    "pycharm": {
     "name": "#%% md\n"
    }
   },
   "source": [
    "# Demo: Replace module in pipeline\n",
    "\n",
    "## step 0: Preparation - create a simple pipeline"
   ]
  },
  {
   "cell_type": "code",
   "execution_count": null,
   "metadata": {},
   "outputs": [],
   "source": [
    "import os\n",
    "\n",
    "from azureml.core import Workspace, Dataset\n",
    "from azureml.pipeline.wrapper import Module, Pipeline, dsl\n",
    "from azureml.core.compute import AmlCompute, ComputeTarget\n",
    "from azureml.pipeline.wrapper._dataset import get_global_dataset_by_path\n",
    "\n",
    "workspace = Workspace.from_config()\n",
    "print(workspace.name, workspace.resource_group, workspace.location, workspace.subscription_id, sep = '\\n')\n",
    "\n",
    "aml_compute_target = \"aml-compute\"\n",
    "try:\n",
    "    aml_compute = AmlCompute(workspace, aml_compute_target)\n",
    "    print(\"Found existing compute target: {}\".format(aml_compute_target))\n",
    "except:\n",
    "    print(\"Creating new compute target: {}\".format(aml_compute_target))\n",
    "\n",
    "    provisioning_config = AmlCompute.provisioning_configuration(vm_size = \"STANDARD_D2_V2\",\n",
    "                                                                min_nodes = 1,\n",
    "                                                                max_nodes = 4)\n",
    "    aml_compute = ComputeTarget.create(workspace, aml_compute_target, provisioning_config)\n",
    "    aml_compute.wait_for_completion(show_output=True, min_node_count=None, timeout_in_minutes=20)"
   ]
  },
  {
   "cell_type": "code",
   "execution_count": null,
   "metadata": {},
   "outputs": [],
   "source": [
    "# load datasets\n",
    "github_yaml = \"https://github.com/sherry1989/sample_modules/blob/master/3_basic_module/basic_module.yaml\"\n",
    "github_module = Module.from_yaml(workspace, yaml_file=github_yaml)\n",
    "blob_input_data = \\\n",
    "    get_global_dataset_by_path(workspace,\n",
    "                               'Automobile_price_data',\n",
    "                               'GenericCSV/Automobile_price_data_(Raw)')\n",
    "\n",
    "hello_world = Module.from_yaml(workspace, yaml_file=os.path.join(\n",
    "                               'modules', 'hello_world', 'module_spec.yaml'))\n",
    "\n",
    "hello_world_demo1 = \\\n",
    "    Module.from_yaml(workspace, yaml_file=os.path.join(\n",
    "                               'modules', 'hello_world', 'module_replacement_demo1.yaml'))\n",
    "hello_world_demo2 = \\\n",
    "    Module.from_yaml(workspace, yaml_file=os.path.join(\n",
    "                               'modules', 'hello_world', 'module_replacement_demo2.yaml'))\n",
    "\n",
    "@dsl.pipeline(name='test_module_replace_sub_pipeline', default_compute_target='aml-compute')\n",
    "def test_module_replace_sub_pipeline(input_path):\n",
    "    module1 = hello_world(\n",
    "        input_path=input_path,\n",
    "        string_parameter=\"hello\",\n",
    "        int_parameter=1,\n",
    "        boolean_parameter=True,\n",
    "        enum_parameter=\"option1\"\n",
    "    )\n",
    "    return module1.outputs\n",
    "\n",
    "\n",
    "@dsl.pipeline(name='test_module_replace_parent_pipeline', default_compute_target='aml-compute')\n",
    "def test_module_replace_parent_pipeline():\n",
    "    module1 = test_module_replace_sub_pipeline(blob_input_data)\n",
    "    module2 = github_module(\n",
    "        input_port=module1.outputs.output_path\n",
    "    )\n",
    "    return module2.outputs\n",
    "\n",
    "@dsl.pipeline(name='test_module_replace_pipeline', default_compute_target='aml-compute')\n",
    "def test_module_replace_pipeline():\n",
    "    module1 = hello_world(\n",
    "        input_path=blob_input_data,\n",
    "        string_parameter=\"hello\",\n",
    "        int_parameter=1,\n",
    "        boolean_parameter=True,\n",
    "        enum_parameter=\"option1\"\n",
    "    )\n",
    "    module2 = github_module(\n",
    "        input_port=module1.outputs.output_path\n",
    "    )\n",
    "    return module2.outputs\n",
    "\n",
    "pipeline = test_module_replace_pipeline()\n",
    "pipeline.validate()"
   ]
  },
  {
   "cell_type": "markdown",
   "metadata": {
    "pycharm": {
     "name": "#%%\n"
    }
   },
   "source": [
    "## Feature 1: Replace module by module function\n",
    "\n",
    "* **replace origin module `hello_world` to `hello_world_demo1` which added an optional input port `Input path2`**"
   ]
  },
  {
   "cell_type": "code",
   "execution_count": null,
   "metadata": {},
   "outputs": [],
   "source": [
    "pipeline.replace(hello_world, hello_world_demo1)\n",
    "pipeline.validate()"
   ]
  },
  {
   "cell_type": "markdown",
   "metadata": {},
   "source": [
    "## *Feature 2: Allow user skip those checks mentioned before*\n",
    "\n",
    "* **force replace origin module `hello_world` to `hello_world_demo2` which added a required input port `Input path3`**\n",
    "\n",
    "    **this operation cause pipeline validate raise error*"
   ]
  },
  {
   "cell_type": "code",
   "execution_count": null,
   "metadata": {},
   "outputs": [],
   "source": [
    "pipeline = test_module_replace_pipeline()\n",
    "pipeline.replace(hello_world, hello_world_demo2, force=True)\n",
    "pipeline.validate()"
   ]
  },
  {
   "cell_type": "markdown",
   "metadata": {},
   "source": [
    "## *Feature 3: Allow replace modules in sub-pipeline or not*\n",
    "\n",
    "* **define a simple pipeline with sub-pipeline**"
   ]
  },
  {
   "cell_type": "code",
   "execution_count": null,
   "metadata": {},
   "outputs": [],
   "source": [
    "pipeline = test_module_replace_parent_pipeline()\n",
    "pipeline.validate()"
   ]
  },
  {
   "cell_type": "markdown",
   "metadata": {
    "pycharm": {
     "name": "#%% md\n"
    }
   },
   "source": [
    "* **regular replace with `recursive` default value False**\n",
    "\n",
    "    **this operation won't make a difference*"
   ]
  },
  {
   "cell_type": "code",
   "execution_count": null,
   "metadata": {
    "pycharm": {
     "name": "#%%\n"
    }
   },
   "outputs": [],
   "source": [
    "pipeline.replace(hello_world, hello_world_demo1)\n",
    "pipeline.validate()"
   ]
  },
  {
   "cell_type": "markdown",
   "metadata": {
    "pycharm": {
     "name": "#%% md\n"
    }
   },
   "source": [
    "* **replace with `recursive=True`**\n",
    "\n",
    "    **this operation will make a difference*"
   ]
  },
  {
   "cell_type": "code",
   "execution_count": null,
   "metadata": {},
   "outputs": [],
   "source": [
    "pipeline.replace(hello_world, hello_world_demo1, recursive=True)\n",
    "pipeline.validate()"
   ]
  }
 ],
 "metadata": {
  "kernelspec": {
   "display_name": "Python 3",
   "language": "python",
   "name": "python3"
  },
  "language_info": {
   "codemirror_mode": {
    "name": "ipython",
    "version": 3
   },
   "file_extension": ".py",
   "mimetype": "text/x-python",
   "name": "python",
   "nbconvert_exporter": "python",
   "pygments_lexer": "ipython3",
   "version": "3.7.6"
  }
 },
 "nbformat": 4,
 "nbformat_minor": 2
}
