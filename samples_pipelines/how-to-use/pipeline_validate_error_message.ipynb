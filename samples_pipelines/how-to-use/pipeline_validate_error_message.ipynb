{
 "cells": [
  {
   "cell_type": "code",
   "execution_count": null,
   "metadata": {},
   "outputs": [],
   "source": [
    "import os\n",
    "from azureml.core import Workspace, Dataset, Datastore\n",
    "from azureml.core.compute import AmlCompute, ComputeTarget\n",
    "from azureml.pipeline.wrapper import Module, Pipeline"
   ]
  },
  {
   "cell_type": "code",
   "execution_count": null,
   "metadata": {},
   "outputs": [],
   "source": [
    "ws = Workspace.from_config()\n",
    "print(ws.name, ws.resource_group, ws.location, ws.subscription_id, sep='\\n')\n",
    "\n",
    "aml_compute_target = \"aml-compute\"\n",
    "try:\n",
    "    aml_compute = AmlCompute(ws, aml_compute_target)\n",
    "    print(\"Found existing compute target: {}\".format(aml_compute_target))\n",
    "except:\n",
    "    print(\"Creating new compute target: {}\".format(aml_compute_target))\n",
    "\n",
    "    provisioning_config = AmlCompute.provisioning_configuration(vm_size=\"STANDARD_D2_V2\",\n",
    "                                                                min_nodes=1,\n",
    "                                                                max_nodes=4)    \n",
    "    aml_compute = ComputeTarget.create(ws, aml_compute_target, provisioning_config)\n",
    "    aml_compute.wait_for_completion(show_output=True, min_node_count=None, timeout_in_minutes=20)"
   ]
  },
  {
   "cell_type": "code",
   "execution_count": null,
   "metadata": {},
   "outputs": [],
   "source": [
    "# modules\n",
    "try:\n",
    "    ejoin_module_func = Module.load(ws, namespace='microsoft.com/bing', name='ejoin')\n",
    "except:\n",
    "    ejoin_module_func = Module.register(ws, os.path.join('modules', 'ejoin', 'amlmodule.yaml'))\n",
    "try:\n",
    "    eselect_module_func = Module.load(ws, namespace='microsoft.com/bing', name='eselect')\n",
    "except:\n",
    "    eselect_module_func = Module.register(ws, os.path.join('modules', 'eselect', 'amlmodule.yaml'))\n",
    "\n",
    "join_data_module_func = Module.load(ws, namespace='azureml', name='Join Data')\n",
    "train_svd_recommender_module_func = Module.load(ws, namespace='azureml', name='Train SVD Recommender')\n",
    "\n",
    "# datasets\n",
    "input1 = Dataset.get_by_name(ws, 'query data (large)')\n",
    "input2 = Dataset.get_by_name(ws, 'query data (small)')\n",
    "global_datastore = Datastore(ws, name=\"azureml_globaldatasets\")\n",
    "movie_ratings_data = Dataset.File.from_files(global_datastore.path('GenericCSV/Movie_Ratings')).as_named_input('Movie_Ratings')\n",
    "imdb_movie_titles_data = Dataset.File.from_files(global_datastore.path('GenericCSV/IMDB_Movie_Titles')).as_named_input('IMDB_Movie_Titles')\n"
   ]
  },
  {
   "cell_type": "code",
   "execution_count": null,
   "metadata": {},
   "outputs": [],
   "source": [
    "# steps\n",
    "ejoin = ejoin_module_func().set_parameters(\n",
    "    leftcolumns='m:query;querId',\n",
    "    # missing 'rightcolumns' parameter\n",
    "    leftkeys='m:query',\n",
    "    rightkeys='m:Query',\n",
    "    jointype='HashInner'\n",
    ").set_inputs(\n",
    "    left_input=input1,\n",
    "    right_input=input2\n",
    ")\n",
    "\n",
    "eselect = eselect_module_func(\n",
    "    # missing 'columns' parameter\n",
    "    input=ejoin.outputs.ejoin_output\n",
    ")\n",
    "\n",
    "# pipeline\n",
    "pipeline = Pipeline(nodes=[ejoin, eselect], outputs=eselect.outputs, default_compute_target=\"aml-compute\")"
   ]
  },
  {
   "cell_type": "code",
   "execution_count": null,
   "metadata": {},
   "outputs": [],
   "source": [
    "graph = pipeline.validate()\n",
    "graph"
   ]
  },
  {
   "cell_type": "code",
   "execution_count": null,
   "metadata": {
    "pycharm": {
     "name": "#%%\n"
    }
   },
   "outputs": [],
   "source": [
    "# Type mismatch & Invalid range\n",
    "join_data = join_data_module_func(\n",
    "    dataset1=movie_ratings_data,\n",
    "    dataset2=imdb_movie_titles_data,\n",
    " comma_separated_case_sensitive_names_of_join_key_columns_for_l=\"{\\\"isFilter\\\":true,\\\"rules\\\":[{\\\"exclude\\\":false,\\\"ruleType\\\":\\\"ColumnNames\\\",\\\"columns\\\":[\\\"MovieId\\\"]}]}\",\n",
    "        comma_separated_case_sensitive_names_of_join_key_columns_for_r=\"{\\\"isFilter\\\":true,\\\"rules\\\":[{\\\"exclude\\\":false,\\\"ruleType\\\":\\\"ColumnNames\\\",\\\"columns\\\":[\\\"Movie ID\\\"]}]}\",\n",
    "    match_case=\"invalid\",\n",
    "    join_type=\"invalid\",\n",
    "    keep_right_key_columns_in_joined_table=101\n",
    ")\n",
    "\n",
    "train_svd = train_svd_recommender_module_func(\n",
    "    training_dataset_of_user_item_rating_triples=movie_ratings_data,\n",
    "    number_of_factors=\"0\",\n",
    "    number_of_recommendation_algorithm_iterations=\"0\",\n",
    "    learning_rate=\"10\"\n",
    ")\n",
    "\n",
    "pipeline = Pipeline(nodes=[join_data, train_svd], default_compute_target=\"aml-compute\")\n",
    "graph = pipeline.validate()\n",
    "graph"
   ]
  }
 ],
 "metadata": {
  "file_extension": ".py",
  "kernelspec": {
   "display_name": "aml",
   "language": "python",
   "name": "aml"
  },
  "language_info": {
   "codemirror_mode": {
    "name": "ipython",
    "version": 3
   },
   "file_extension": ".py",
   "mimetype": "text/x-python",
   "name": "python",
   "nbconvert_exporter": "python",
   "pygments_lexer": "ipython3",
   "version": "3.7.6"
  },
  "mimetype": "text/x-python",
  "name": "python",
  "npconvert_exporter": "python",
  "pygments_lexer": "ipython3",
  "version": 3
 },
 "nbformat": 4,
 "nbformat_minor": 2
}
